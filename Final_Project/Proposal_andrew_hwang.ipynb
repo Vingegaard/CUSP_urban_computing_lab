{
 "cells": [
  {
   "cell_type": "markdown",
   "id": "465af552-7d19-4c9d-a276-a46b23887564",
   "metadata": {},
   "source": [
    "# Proposal - Andrew Hwang"
   ]
  },
  {
   "cell_type": "markdown",
   "id": "f13e8115-46af-4045-aa10-8ee6957dbb87",
   "metadata": {},
   "source": [
    "## 1. Research Question"
   ]
  },
  {
   "cell_type": "markdown",
   "id": "efadfda8-6fbc-4b68-ac64-17976ef60149",
   "metadata": {},
   "source": [
    "Q1. Introduce your research question:\n",
    "  - Over the past decade, numerous new transportation and delivery services have emerged, making our lives\n",
    "  more convenient and faster. Key trends were bike-sharing services like Citi bike, e-scooter services like Lime, and delivery services\n",
    "  like Doordash, Grubhub.\n",
    "  While these services have increased convenience, they have also made NYC traffic more dangerous.\n",
    "  I aim to examine the impact of these new vehicles on NYC safety by analysing Motor Vehicle Collisions data."
   ]
  },
  {
   "cell_type": "markdown",
   "id": "43e206fb-dc33-44e9-a217-f3b600b354a8",
   "metadata": {},
   "source": [
    "Q2. Explain why it is important to pursue:\n",
    "  - This is crucial as cities around the world face new challenges created by new services and products constantly entering the market.\n",
    "  With rapid technological advancement, we expect more transportation and logistics sevices in the coming decades.\n",
    "  The development of services and products should prioritize not only convenience but also the overall safety of the city.  "
   ]
  },
  {
   "cell_type": "markdown",
   "id": "c19472c7-3fac-41d1-bcec-2cded6ff53d8",
   "metadata": {},
   "source": [
    "## 2. Data"
   ]
  },
  {
   "cell_type": "markdown",
   "id": "1e752de3-e85a-4646-9fe4-ffc7a591eee0",
   "metadata": {},
   "source": [
    "Q3. Describe the dataset and its source:\n",
    "  - I am going to analyze 'Motor Vehicle Collisions' dataset provided by NYCOpenData. The dataset contains details on the crash event.\n",
    "  It contains information from all police reported motor vehicle collisions in NYC.\n",
    "  source: https://data.cityofnewyork.us/Public-Safety/Motor-Vehicle-Collisions-Crashes/h9gi-nx95/about_data\n",
    "  - I will filter and group the dataset by bikes, e-scooters, and motorcycles to analyze how the number of accidents involving these group has changed."
   ]
  },
  {
   "cell_type": "markdown",
   "id": "62acccd5-cac8-42dc-a9d4-e41606d4c829",
   "metadata": {},
   "source": [
    "Q4. Discuss data limitations and how the dataset supports your research question:\n",
    "  - The dataset includes the 'type' of vehicle, but this data is not clean. For example, to filter all the bikes, I need to search for various terms like bike, BIKE, EBIKE, E-bike, E Bike, motorbike, Motorbike, etc.\n",
    "  - Even after filtering for bikes and motorbikes, I still wouldn't know the purpose of the vehicle's use, such as personal or delivery use. It's not possible to distinguish them by the purposes but we can understand the overall trend of accidents involving bikes, motorcycle and e-scooters. "
   ]
  },
  {
   "cell_type": "markdown",
   "id": "3177c386-c511-4795-a84b-4bae98e144a4",
   "metadata": {},
   "source": [
    "## 3. Data Processing\n"
   ]
  },
  {
   "cell_type": "markdown",
   "id": "a4197e16-d617-4418-b96a-448809cfe7b5",
   "metadata": {},
   "source": [
    "Q5. List and describe the necessary transformations (minimum 5):\n",
    "1. Load dataset into the DataFrame\n",
    "2. Examine the data set (use head(), info())\n",
    "3. Make subsets by selecting only the useful columns such as types of vehicle, accident date, accident borough\n",
    "4. Clean data by using grouping, renaming by types of vehicle (for example bikes, motorcycles, e-scooters will be grouped as 'new transportation' and sedan, pick-truck, van will be grouped as 'old transportation')\n",
    "5. Identify missing values and remove if necessary\n",
    "6. Select relevant rows by types of vehicle\n",
    "7. Add population data of each borough and normalize to compare with accident rates    \n"
   ]
  },
  {
   "cell_type": "markdown",
   "id": "67489a34-8c60-4be9-bc7d-68112f02a308",
   "metadata": {},
   "source": [
    "## 4. Analysis Plan:\n"
   ]
  },
  {
   "cell_type": "markdown",
   "id": "fc8d0c37-d1c7-4359-802d-8fa9c3bc13b5",
   "metadata": {},
   "source": [
    "Q6. Outline the analyses you will use to answer your question (minimum 3):\n",
    "  1. Time-series analysis (2015-2014): examine overall accidents trends over the period\n",
    "  2. Collision data analysis: analyze the difference in collision rate between 4-wheel and 2-wheel vehicles.\n",
    "  3. Borough-wise accident analysis: compare total accidents across the five boroughs\n",
    "  4. Killed vs Injured rate analysis: evaluate the fatality and injury rate for 4-wheel vs 2-wheel to understand the relative safety of each transportation mode."
   ]
  },
  {
   "cell_type": "code",
   "execution_count": null,
   "id": "b52e0a92-9423-4c7c-a115-473ba6630ca5",
   "metadata": {},
   "outputs": [],
   "source": []
  }
 ],
 "metadata": {
  "kernelspec": {
   "display_name": "Python 3 (ipykernel)",
   "language": "python",
   "name": "python3"
  },
  "language_info": {
   "codemirror_mode": {
    "name": "ipython",
    "version": 3
   },
   "file_extension": ".py",
   "mimetype": "text/x-python",
   "name": "python",
   "nbconvert_exporter": "python",
   "pygments_lexer": "ipython3",
   "version": "3.12.4"
  }
 },
 "nbformat": 4,
 "nbformat_minor": 5
}
