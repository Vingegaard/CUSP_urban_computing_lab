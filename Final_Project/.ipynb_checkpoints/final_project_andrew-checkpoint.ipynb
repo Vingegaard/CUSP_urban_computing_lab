{
 "cells": [
  {
   "cell_type": "markdown",
   "id": "9579ea1f-6bab-4dd5-af19-eb5858548879",
   "metadata": {},
   "source": [
    "## Final Project - Andrew Hwang"
   ]
  },
  {
   "cell_type": "markdown",
   "id": "9aac5237-1d89-456d-a539-fe4242f9410b",
   "metadata": {},
   "source": [
    "## Is NYC safer with Bike-sharing, E-scooter, Delivery services?"
   ]
  },
  {
   "cell_type": "markdown",
   "id": "2b0321c1-8732-498b-aa5e-678a221defa9",
   "metadata": {},
   "source": [
    "  - Over the past decade, numerous new transportation and delivery services have emerged, making our lives\n",
    "  more convenient and faster. Key trends were bike-sharing services like Citi bike, e-scooter services like Lime, and delivery services\n",
    "  like Doordash, Grubhub.\n",
    "  While these services have increased convenience, they have also made NYC traffic more dangerous.\n",
    "  I aim to examine the impact of these new vehicles on NYC safety by analysing Motor Vehicle Collisions data.\n",
    "\n",
    "  - This is crucial as cities around the world face new challenges created by new services and products constantly entering the market.\n",
    "  With rapid technological advancement, we expect more transportation and logistics sevices in the coming decades.\n",
    "  The development of services and products should prioritize not only convenience but also the overall safety of the city.  "
   ]
  },
  {
   "cell_type": "code",
   "execution_count": 12,
   "id": "185d5785-9569-4433-8141-fd2128ff0880",
   "metadata": {},
   "outputs": [],
   "source": [
    "# Import libraries\n",
    "import pandas as pd\n",
    "import numpy as np\n",
    "import matplotlib.pyplot as plt\n",
    "import seaborn as sns"
   ]
  },
  {
   "cell_type": "code",
   "execution_count": 16,
   "id": "5038662d-36f3-470e-882c-c96139baa97f",
   "metadata": {},
   "outputs": [
    {
     "name": "stderr",
     "output_type": "stream",
     "text": [
      "/var/folders/5h/1y1pgqkj59ndm5pn7srvhkyh0000gn/T/ipykernel_24568/2524286293.py:3: DtypeWarning: Columns (3) have mixed types. Specify dtype option on import or set low_memory=False.\n",
      "  df = pd.read_csv('Motor_Vehicle_Collisions_-_Crashes_20240819.csv')\n"
     ]
    }
   ],
   "source": [
    "# Load dataset into the dataframe\n",
    "\n",
    "df = pd.read_csv('Motor_Vehicle_Collisions_-_Crashes_20240819.csv')"
   ]
  },
  {
   "cell_type": "code",
   "execution_count": 24,
   "id": "5787b649-e04d-4e4a-a620-46d41fb8925f",
   "metadata": {},
   "outputs": [
    {
     "data": {
      "text/plain": [
       "(2111509, 29)"
      ]
     },
     "execution_count": 24,
     "metadata": {},
     "output_type": "execute_result"
    }
   ],
   "source": [
    "# Check the data\n",
    "df.shape"
   ]
  },
  {
   "cell_type": "code",
   "execution_count": 20,
   "id": "29d7da2f-2d55-44c9-9e65-27f6611d893c",
   "metadata": {},
   "outputs": [
    {
     "name": "stdout",
     "output_type": "stream",
     "text": [
      "<class 'pandas.core.frame.DataFrame'>\n",
      "RangeIndex: 2111509 entries, 0 to 2111508\n",
      "Data columns (total 29 columns):\n",
      " #   Column                         Dtype  \n",
      "---  ------                         -----  \n",
      " 0   CRASH DATE                     object \n",
      " 1   CRASH TIME                     object \n",
      " 2   BOROUGH                        object \n",
      " 3   ZIP CODE                       object \n",
      " 4   LATITUDE                       float64\n",
      " 5   LONGITUDE                      float64\n",
      " 6   LOCATION                       object \n",
      " 7   ON STREET NAME                 object \n",
      " 8   CROSS STREET NAME              object \n",
      " 9   OFF STREET NAME                object \n",
      " 10  NUMBER OF PERSONS INJURED      float64\n",
      " 11  NUMBER OF PERSONS KILLED       float64\n",
      " 12  NUMBER OF PEDESTRIANS INJURED  int64  \n",
      " 13  NUMBER OF PEDESTRIANS KILLED   int64  \n",
      " 14  NUMBER OF CYCLIST INJURED      int64  \n",
      " 15  NUMBER OF CYCLIST KILLED       int64  \n",
      " 16  NUMBER OF MOTORIST INJURED     int64  \n",
      " 17  NUMBER OF MOTORIST KILLED      int64  \n",
      " 18  CONTRIBUTING FACTOR VEHICLE 1  object \n",
      " 19  CONTRIBUTING FACTOR VEHICLE 2  object \n",
      " 20  CONTRIBUTING FACTOR VEHICLE 3  object \n",
      " 21  CONTRIBUTING FACTOR VEHICLE 4  object \n",
      " 22  CONTRIBUTING FACTOR VEHICLE 5  object \n",
      " 23  COLLISION_ID                   int64  \n",
      " 24  VEHICLE TYPE CODE 1            object \n",
      " 25  VEHICLE TYPE CODE 2            object \n",
      " 26  VEHICLE TYPE CODE 3            object \n",
      " 27  VEHICLE TYPE CODE 4            object \n",
      " 28  VEHICLE TYPE CODE 5            object \n",
      "dtypes: float64(4), int64(7), object(18)\n",
      "memory usage: 467.2+ MB\n"
     ]
    }
   ],
   "source": [
    "df.info()"
   ]
  },
  {
   "cell_type": "code",
   "execution_count": 26,
   "id": "ff8c86e7-55f0-46f5-8cc8-470321014fd3",
   "metadata": {},
   "outputs": [
    {
     "data": {
      "text/html": [
       "<div>\n",
       "<style scoped>\n",
       "    .dataframe tbody tr th:only-of-type {\n",
       "        vertical-align: middle;\n",
       "    }\n",
       "\n",
       "    .dataframe tbody tr th {\n",
       "        vertical-align: top;\n",
       "    }\n",
       "\n",
       "    .dataframe thead th {\n",
       "        text-align: right;\n",
       "    }\n",
       "</style>\n",
       "<table border=\"1\" class=\"dataframe\">\n",
       "  <thead>\n",
       "    <tr style=\"text-align: right;\">\n",
       "      <th></th>\n",
       "      <th>CRASH DATE</th>\n",
       "      <th>CRASH TIME</th>\n",
       "      <th>BOROUGH</th>\n",
       "      <th>ZIP CODE</th>\n",
       "      <th>LATITUDE</th>\n",
       "      <th>LONGITUDE</th>\n",
       "      <th>LOCATION</th>\n",
       "      <th>ON STREET NAME</th>\n",
       "      <th>CROSS STREET NAME</th>\n",
       "      <th>OFF STREET NAME</th>\n",
       "      <th>...</th>\n",
       "      <th>CONTRIBUTING FACTOR VEHICLE 2</th>\n",
       "      <th>CONTRIBUTING FACTOR VEHICLE 3</th>\n",
       "      <th>CONTRIBUTING FACTOR VEHICLE 4</th>\n",
       "      <th>CONTRIBUTING FACTOR VEHICLE 5</th>\n",
       "      <th>COLLISION_ID</th>\n",
       "      <th>VEHICLE TYPE CODE 1</th>\n",
       "      <th>VEHICLE TYPE CODE 2</th>\n",
       "      <th>VEHICLE TYPE CODE 3</th>\n",
       "      <th>VEHICLE TYPE CODE 4</th>\n",
       "      <th>VEHICLE TYPE CODE 5</th>\n",
       "    </tr>\n",
       "  </thead>\n",
       "  <tbody>\n",
       "    <tr>\n",
       "      <th>0</th>\n",
       "      <td>09/11/2021</td>\n",
       "      <td>2:39</td>\n",
       "      <td>NaN</td>\n",
       "      <td>NaN</td>\n",
       "      <td>NaN</td>\n",
       "      <td>NaN</td>\n",
       "      <td>NaN</td>\n",
       "      <td>WHITESTONE EXPRESSWAY</td>\n",
       "      <td>20 AVENUE</td>\n",
       "      <td>NaN</td>\n",
       "      <td>...</td>\n",
       "      <td>Unspecified</td>\n",
       "      <td>NaN</td>\n",
       "      <td>NaN</td>\n",
       "      <td>NaN</td>\n",
       "      <td>4455765</td>\n",
       "      <td>Sedan</td>\n",
       "      <td>Sedan</td>\n",
       "      <td>NaN</td>\n",
       "      <td>NaN</td>\n",
       "      <td>NaN</td>\n",
       "    </tr>\n",
       "    <tr>\n",
       "      <th>1</th>\n",
       "      <td>03/26/2022</td>\n",
       "      <td>11:45</td>\n",
       "      <td>NaN</td>\n",
       "      <td>NaN</td>\n",
       "      <td>NaN</td>\n",
       "      <td>NaN</td>\n",
       "      <td>NaN</td>\n",
       "      <td>QUEENSBORO BRIDGE UPPER</td>\n",
       "      <td>NaN</td>\n",
       "      <td>NaN</td>\n",
       "      <td>...</td>\n",
       "      <td>NaN</td>\n",
       "      <td>NaN</td>\n",
       "      <td>NaN</td>\n",
       "      <td>NaN</td>\n",
       "      <td>4513547</td>\n",
       "      <td>Sedan</td>\n",
       "      <td>NaN</td>\n",
       "      <td>NaN</td>\n",
       "      <td>NaN</td>\n",
       "      <td>NaN</td>\n",
       "    </tr>\n",
       "    <tr>\n",
       "      <th>2</th>\n",
       "      <td>06/29/2022</td>\n",
       "      <td>6:55</td>\n",
       "      <td>NaN</td>\n",
       "      <td>NaN</td>\n",
       "      <td>NaN</td>\n",
       "      <td>NaN</td>\n",
       "      <td>NaN</td>\n",
       "      <td>THROGS NECK BRIDGE</td>\n",
       "      <td>NaN</td>\n",
       "      <td>NaN</td>\n",
       "      <td>...</td>\n",
       "      <td>Unspecified</td>\n",
       "      <td>NaN</td>\n",
       "      <td>NaN</td>\n",
       "      <td>NaN</td>\n",
       "      <td>4541903</td>\n",
       "      <td>Sedan</td>\n",
       "      <td>Pick-up Truck</td>\n",
       "      <td>NaN</td>\n",
       "      <td>NaN</td>\n",
       "      <td>NaN</td>\n",
       "    </tr>\n",
       "    <tr>\n",
       "      <th>3</th>\n",
       "      <td>09/11/2021</td>\n",
       "      <td>9:35</td>\n",
       "      <td>BROOKLYN</td>\n",
       "      <td>11208.0</td>\n",
       "      <td>40.667202</td>\n",
       "      <td>-73.866500</td>\n",
       "      <td>(40.667202, -73.8665)</td>\n",
       "      <td>NaN</td>\n",
       "      <td>NaN</td>\n",
       "      <td>1211      LORING AVENUE</td>\n",
       "      <td>...</td>\n",
       "      <td>NaN</td>\n",
       "      <td>NaN</td>\n",
       "      <td>NaN</td>\n",
       "      <td>NaN</td>\n",
       "      <td>4456314</td>\n",
       "      <td>Sedan</td>\n",
       "      <td>NaN</td>\n",
       "      <td>NaN</td>\n",
       "      <td>NaN</td>\n",
       "      <td>NaN</td>\n",
       "    </tr>\n",
       "    <tr>\n",
       "      <th>4</th>\n",
       "      <td>12/14/2021</td>\n",
       "      <td>8:13</td>\n",
       "      <td>BROOKLYN</td>\n",
       "      <td>11233.0</td>\n",
       "      <td>40.683304</td>\n",
       "      <td>-73.917274</td>\n",
       "      <td>(40.683304, -73.917274)</td>\n",
       "      <td>SARATOGA AVENUE</td>\n",
       "      <td>DECATUR STREET</td>\n",
       "      <td>NaN</td>\n",
       "      <td>...</td>\n",
       "      <td>NaN</td>\n",
       "      <td>NaN</td>\n",
       "      <td>NaN</td>\n",
       "      <td>NaN</td>\n",
       "      <td>4486609</td>\n",
       "      <td>NaN</td>\n",
       "      <td>NaN</td>\n",
       "      <td>NaN</td>\n",
       "      <td>NaN</td>\n",
       "      <td>NaN</td>\n",
       "    </tr>\n",
       "  </tbody>\n",
       "</table>\n",
       "<p>5 rows × 29 columns</p>\n",
       "</div>"
      ],
      "text/plain": [
       "   CRASH DATE CRASH TIME   BOROUGH ZIP CODE   LATITUDE  LONGITUDE  \\\n",
       "0  09/11/2021       2:39       NaN      NaN        NaN        NaN   \n",
       "1  03/26/2022      11:45       NaN      NaN        NaN        NaN   \n",
       "2  06/29/2022       6:55       NaN      NaN        NaN        NaN   \n",
       "3  09/11/2021       9:35  BROOKLYN  11208.0  40.667202 -73.866500   \n",
       "4  12/14/2021       8:13  BROOKLYN  11233.0  40.683304 -73.917274   \n",
       "\n",
       "                  LOCATION           ON STREET NAME CROSS STREET NAME  \\\n",
       "0                      NaN    WHITESTONE EXPRESSWAY         20 AVENUE   \n",
       "1                      NaN  QUEENSBORO BRIDGE UPPER               NaN   \n",
       "2                      NaN       THROGS NECK BRIDGE               NaN   \n",
       "3    (40.667202, -73.8665)                      NaN               NaN   \n",
       "4  (40.683304, -73.917274)          SARATOGA AVENUE    DECATUR STREET   \n",
       "\n",
       "           OFF STREET NAME  ...  CONTRIBUTING FACTOR VEHICLE 2  \\\n",
       "0                      NaN  ...                    Unspecified   \n",
       "1                      NaN  ...                            NaN   \n",
       "2                      NaN  ...                    Unspecified   \n",
       "3  1211      LORING AVENUE  ...                            NaN   \n",
       "4                      NaN  ...                            NaN   \n",
       "\n",
       "   CONTRIBUTING FACTOR VEHICLE 3  CONTRIBUTING FACTOR VEHICLE 4  \\\n",
       "0                            NaN                            NaN   \n",
       "1                            NaN                            NaN   \n",
       "2                            NaN                            NaN   \n",
       "3                            NaN                            NaN   \n",
       "4                            NaN                            NaN   \n",
       "\n",
       "   CONTRIBUTING FACTOR VEHICLE 5  COLLISION_ID  VEHICLE TYPE CODE 1  \\\n",
       "0                            NaN       4455765                Sedan   \n",
       "1                            NaN       4513547                Sedan   \n",
       "2                            NaN       4541903                Sedan   \n",
       "3                            NaN       4456314                Sedan   \n",
       "4                            NaN       4486609                  NaN   \n",
       "\n",
       "   VEHICLE TYPE CODE 2  VEHICLE TYPE CODE 3 VEHICLE TYPE CODE 4  \\\n",
       "0                Sedan                  NaN                 NaN   \n",
       "1                  NaN                  NaN                 NaN   \n",
       "2        Pick-up Truck                  NaN                 NaN   \n",
       "3                  NaN                  NaN                 NaN   \n",
       "4                  NaN                  NaN                 NaN   \n",
       "\n",
       "  VEHICLE TYPE CODE 5  \n",
       "0                 NaN  \n",
       "1                 NaN  \n",
       "2                 NaN  \n",
       "3                 NaN  \n",
       "4                 NaN  \n",
       "\n",
       "[5 rows x 29 columns]"
      ]
     },
     "execution_count": 26,
     "metadata": {},
     "output_type": "execute_result"
    }
   ],
   "source": [
    "df.head()"
   ]
  },
  {
   "cell_type": "code",
   "execution_count": 30,
   "id": "c6855cf2-5095-4017-808f-e9f522f06241",
   "metadata": {},
   "outputs": [],
   "source": [
    "sub_df = df[['CRASH DATE', \n",
    "             'BOROUGH', \n",
    "             'COLLISION_ID', \n",
    "             'VEHICLE TYPE CODE 1', \n",
    "             'VEHICLE TYPE CODE 2', \n",
    "             'VEHICLE TYPE CODE 3', \n",
    "             'VEHICLE TYPE CODE 4', \n",
    "             'VEHICLE TYPE CODE 5']]"
   ]
  },
  {
   "cell_type": "code",
   "execution_count": 34,
   "id": "20c76e13-c8ac-4f25-b45d-01bd1a74c350",
   "metadata": {},
   "outputs": [
    {
     "name": "stdout",
     "output_type": "stream",
     "text": [
      "<class 'pandas.core.frame.DataFrame'>\n",
      "RangeIndex: 2111509 entries, 0 to 2111508\n",
      "Data columns (total 8 columns):\n",
      " #   Column               Dtype \n",
      "---  ------               ----- \n",
      " 0   CRASH DATE           object\n",
      " 1   BOROUGH              object\n",
      " 2   COLLISION_ID         int64 \n",
      " 3   VEHICLE TYPE CODE 1  object\n",
      " 4   VEHICLE TYPE CODE 2  object\n",
      " 5   VEHICLE TYPE CODE 3  object\n",
      " 6   VEHICLE TYPE CODE 4  object\n",
      " 7   VEHICLE TYPE CODE 5  object\n",
      "dtypes: int64(1), object(7)\n",
      "memory usage: 128.9+ MB\n"
     ]
    }
   ],
   "source": [
    "sub_df.info()"
   ]
  },
  {
   "cell_type": "code",
   "execution_count": 50,
   "id": "c7440805-9f1a-4dd4-87bf-387784b7db39",
   "metadata": {},
   "outputs": [
    {
     "data": {
      "text/html": [
       "<div>\n",
       "<style scoped>\n",
       "    .dataframe tbody tr th:only-of-type {\n",
       "        vertical-align: middle;\n",
       "    }\n",
       "\n",
       "    .dataframe tbody tr th {\n",
       "        vertical-align: top;\n",
       "    }\n",
       "\n",
       "    .dataframe thead th {\n",
       "        text-align: right;\n",
       "    }\n",
       "</style>\n",
       "<table border=\"1\" class=\"dataframe\">\n",
       "  <thead>\n",
       "    <tr style=\"text-align: right;\">\n",
       "      <th></th>\n",
       "      <th>CRASH DATE</th>\n",
       "      <th>BOROUGH</th>\n",
       "      <th>COLLISION_ID</th>\n",
       "      <th>VEHICLE TYPE CODE 1</th>\n",
       "      <th>VEHICLE TYPE CODE 2</th>\n",
       "      <th>VEHICLE TYPE CODE 3</th>\n",
       "      <th>VEHICLE TYPE CODE 4</th>\n",
       "      <th>VEHICLE TYPE CODE 5</th>\n",
       "    </tr>\n",
       "  </thead>\n",
       "  <tbody>\n",
       "    <tr>\n",
       "      <th>0</th>\n",
       "      <td>09/11/2021</td>\n",
       "      <td>NaN</td>\n",
       "      <td>4455765</td>\n",
       "      <td>Sedan</td>\n",
       "      <td>Sedan</td>\n",
       "      <td>NaN</td>\n",
       "      <td>NaN</td>\n",
       "      <td>NaN</td>\n",
       "    </tr>\n",
       "    <tr>\n",
       "      <th>1</th>\n",
       "      <td>03/26/2022</td>\n",
       "      <td>NaN</td>\n",
       "      <td>4513547</td>\n",
       "      <td>Sedan</td>\n",
       "      <td>NaN</td>\n",
       "      <td>NaN</td>\n",
       "      <td>NaN</td>\n",
       "      <td>NaN</td>\n",
       "    </tr>\n",
       "    <tr>\n",
       "      <th>2</th>\n",
       "      <td>06/29/2022</td>\n",
       "      <td>NaN</td>\n",
       "      <td>4541903</td>\n",
       "      <td>Sedan</td>\n",
       "      <td>Pick-up Truck</td>\n",
       "      <td>NaN</td>\n",
       "      <td>NaN</td>\n",
       "      <td>NaN</td>\n",
       "    </tr>\n",
       "    <tr>\n",
       "      <th>3</th>\n",
       "      <td>09/11/2021</td>\n",
       "      <td>BROOKLYN</td>\n",
       "      <td>4456314</td>\n",
       "      <td>Sedan</td>\n",
       "      <td>NaN</td>\n",
       "      <td>NaN</td>\n",
       "      <td>NaN</td>\n",
       "      <td>NaN</td>\n",
       "    </tr>\n",
       "    <tr>\n",
       "      <th>4</th>\n",
       "      <td>12/14/2021</td>\n",
       "      <td>BROOKLYN</td>\n",
       "      <td>4486609</td>\n",
       "      <td>NaN</td>\n",
       "      <td>NaN</td>\n",
       "      <td>NaN</td>\n",
       "      <td>NaN</td>\n",
       "      <td>NaN</td>\n",
       "    </tr>\n",
       "  </tbody>\n",
       "</table>\n",
       "</div>"
      ],
      "text/plain": [
       "   CRASH DATE   BOROUGH  COLLISION_ID VEHICLE TYPE CODE 1 VEHICLE TYPE CODE 2  \\\n",
       "0  09/11/2021       NaN       4455765               Sedan               Sedan   \n",
       "1  03/26/2022       NaN       4513547               Sedan                 NaN   \n",
       "2  06/29/2022       NaN       4541903               Sedan       Pick-up Truck   \n",
       "3  09/11/2021  BROOKLYN       4456314               Sedan                 NaN   \n",
       "4  12/14/2021  BROOKLYN       4486609                 NaN                 NaN   \n",
       "\n",
       "  VEHICLE TYPE CODE 3 VEHICLE TYPE CODE 4 VEHICLE TYPE CODE 5  \n",
       "0                 NaN                 NaN                 NaN  \n",
       "1                 NaN                 NaN                 NaN  \n",
       "2                 NaN                 NaN                 NaN  \n",
       "3                 NaN                 NaN                 NaN  \n",
       "4                 NaN                 NaN                 NaN  "
      ]
     },
     "execution_count": 50,
     "metadata": {},
     "output_type": "execute_result"
    }
   ],
   "source": [
    "sub_df.head()"
   ]
  },
  {
   "cell_type": "code",
   "execution_count": 66,
   "id": "b3f173d3-dfbf-4f2d-baa7-90ededacacfc",
   "metadata": {},
   "outputs": [
    {
     "name": "stderr",
     "output_type": "stream",
     "text": [
      "/var/folders/5h/1y1pgqkj59ndm5pn7srvhkyh0000gn/T/ipykernel_24568/2532275545.py:1: SettingWithCopyWarning: \n",
      "A value is trying to be set on a copy of a slice from a DataFrame.\n",
      "Try using .loc[row_indexer,col_indexer] = value instead\n",
      "\n",
      "See the caveats in the documentation: https://pandas.pydata.org/pandas-docs/stable/user_guide/indexing.html#returning-a-view-versus-a-copy\n",
      "  sub_df['CRASH DATE'] = pd.to_datetime(sub_df['CRASH DATE'], format='%m/%d/%Y')\n",
      "/var/folders/5h/1y1pgqkj59ndm5pn7srvhkyh0000gn/T/ipykernel_24568/2532275545.py:2: SettingWithCopyWarning: \n",
      "A value is trying to be set on a copy of a slice from a DataFrame.\n",
      "Try using .loc[row_indexer,col_indexer] = value instead\n",
      "\n",
      "See the caveats in the documentation: https://pandas.pydata.org/pandas-docs/stable/user_guide/indexing.html#returning-a-view-versus-a-copy\n",
      "  sub_df['Year'] = sub_df['CRASH DATE'].dt.year\n"
     ]
    }
   ],
   "source": [
    "# Change 'CRASH DATE' into datetime format\n",
    "sub_df['CRASH DATE'] = pd.to_datetime(sub_df['CRASH DATE'], format='%m/%d/%Y')\n",
    "\n",
    "# Create new column indicating only the year\n",
    "sub_df['Year'] = sub_df['CRASH DATE'].dt.year"
   ]
  },
  {
   "cell_type": "code",
   "execution_count": 67,
   "id": "9e52c74d-9de8-461f-91f8-f10b2d7e84b8",
   "metadata": {},
   "outputs": [
    {
     "data": {
      "text/html": [
       "<div>\n",
       "<style scoped>\n",
       "    .dataframe tbody tr th:only-of-type {\n",
       "        vertical-align: middle;\n",
       "    }\n",
       "\n",
       "    .dataframe tbody tr th {\n",
       "        vertical-align: top;\n",
       "    }\n",
       "\n",
       "    .dataframe thead th {\n",
       "        text-align: right;\n",
       "    }\n",
       "</style>\n",
       "<table border=\"1\" class=\"dataframe\">\n",
       "  <thead>\n",
       "    <tr style=\"text-align: right;\">\n",
       "      <th></th>\n",
       "      <th>CRASH DATE</th>\n",
       "      <th>BOROUGH</th>\n",
       "      <th>COLLISION_ID</th>\n",
       "      <th>VEHICLE TYPE CODE 1</th>\n",
       "      <th>VEHICLE TYPE CODE 2</th>\n",
       "      <th>VEHICLE TYPE CODE 3</th>\n",
       "      <th>VEHICLE TYPE CODE 4</th>\n",
       "      <th>VEHICLE TYPE CODE 5</th>\n",
       "      <th>Year</th>\n",
       "    </tr>\n",
       "  </thead>\n",
       "  <tbody>\n",
       "    <tr>\n",
       "      <th>0</th>\n",
       "      <td>2021-09-11</td>\n",
       "      <td>NaN</td>\n",
       "      <td>4455765</td>\n",
       "      <td>Sedan</td>\n",
       "      <td>Sedan</td>\n",
       "      <td>NaN</td>\n",
       "      <td>NaN</td>\n",
       "      <td>NaN</td>\n",
       "      <td>2021</td>\n",
       "    </tr>\n",
       "    <tr>\n",
       "      <th>1</th>\n",
       "      <td>2022-03-26</td>\n",
       "      <td>NaN</td>\n",
       "      <td>4513547</td>\n",
       "      <td>Sedan</td>\n",
       "      <td>NaN</td>\n",
       "      <td>NaN</td>\n",
       "      <td>NaN</td>\n",
       "      <td>NaN</td>\n",
       "      <td>2022</td>\n",
       "    </tr>\n",
       "    <tr>\n",
       "      <th>2</th>\n",
       "      <td>2022-06-29</td>\n",
       "      <td>NaN</td>\n",
       "      <td>4541903</td>\n",
       "      <td>Sedan</td>\n",
       "      <td>Pick-up Truck</td>\n",
       "      <td>NaN</td>\n",
       "      <td>NaN</td>\n",
       "      <td>NaN</td>\n",
       "      <td>2022</td>\n",
       "    </tr>\n",
       "    <tr>\n",
       "      <th>3</th>\n",
       "      <td>2021-09-11</td>\n",
       "      <td>BROOKLYN</td>\n",
       "      <td>4456314</td>\n",
       "      <td>Sedan</td>\n",
       "      <td>NaN</td>\n",
       "      <td>NaN</td>\n",
       "      <td>NaN</td>\n",
       "      <td>NaN</td>\n",
       "      <td>2021</td>\n",
       "    </tr>\n",
       "    <tr>\n",
       "      <th>4</th>\n",
       "      <td>2021-12-14</td>\n",
       "      <td>BROOKLYN</td>\n",
       "      <td>4486609</td>\n",
       "      <td>NaN</td>\n",
       "      <td>NaN</td>\n",
       "      <td>NaN</td>\n",
       "      <td>NaN</td>\n",
       "      <td>NaN</td>\n",
       "      <td>2021</td>\n",
       "    </tr>\n",
       "  </tbody>\n",
       "</table>\n",
       "</div>"
      ],
      "text/plain": [
       "  CRASH DATE   BOROUGH  COLLISION_ID VEHICLE TYPE CODE 1 VEHICLE TYPE CODE 2  \\\n",
       "0 2021-09-11       NaN       4455765               Sedan               Sedan   \n",
       "1 2022-03-26       NaN       4513547               Sedan                 NaN   \n",
       "2 2022-06-29       NaN       4541903               Sedan       Pick-up Truck   \n",
       "3 2021-09-11  BROOKLYN       4456314               Sedan                 NaN   \n",
       "4 2021-12-14  BROOKLYN       4486609                 NaN                 NaN   \n",
       "\n",
       "  VEHICLE TYPE CODE 3 VEHICLE TYPE CODE 4 VEHICLE TYPE CODE 5  Year  \n",
       "0                 NaN                 NaN                 NaN  2021  \n",
       "1                 NaN                 NaN                 NaN  2022  \n",
       "2                 NaN                 NaN                 NaN  2022  \n",
       "3                 NaN                 NaN                 NaN  2021  \n",
       "4                 NaN                 NaN                 NaN  2021  "
      ]
     },
     "execution_count": 67,
     "metadata": {},
     "output_type": "execute_result"
    }
   ],
   "source": [
    "sub_df.head()"
   ]
  },
  {
   "cell_type": "code",
   "execution_count": 58,
   "id": "b5ab3df4-f359-4c21-b107-22d8f24622ba",
   "metadata": {},
   "outputs": [],
   "source": [
    "# Create a pivot table for making 'Number of crashes by year'\n",
    "yearly_pvt = pd.pivot_table(sub_df, values= 'COLLISION_ID', index='Year', aggfunc='count')"
   ]
  },
  {
   "cell_type": "code",
   "execution_count": 60,
   "id": "d7b99aec-4e67-4ee6-af67-e8cef5423ee2",
   "metadata": {},
   "outputs": [
    {
     "name": "stdout",
     "output_type": "stream",
     "text": [
      "      COLLISION_ID\n",
      "Year              \n",
      "2012        100545\n",
      "2013        203742\n",
      "2014        206038\n",
      "2015        217694\n",
      "2016        229831\n",
      "2017        231007\n",
      "2018        231564\n",
      "2019        211486\n",
      "2020        112916\n",
      "2021        110553\n",
      "2022        103886\n",
      "2023         96593\n",
      "2024         55654\n"
     ]
    }
   ],
   "source": [
    "print(yearly_pvt)"
   ]
  },
  {
   "cell_type": "code",
   "execution_count": 64,
   "id": "f8b833e0-ccc0-431e-8a6a-698d17f11f68",
   "metadata": {},
   "outputs": [
    {
     "data": {
      "text/plain": [
       "Text(0, 0.5, 'Number of Crashes')"
      ]
     },
     "execution_count": 64,
     "metadata": {},
     "output_type": "execute_result"
    },
    {
     "data": {
      "image/png": "[encoded data removed]",
      "text/plain": [
       "<Figure size 640x480 with 1 Axes>"
      ]
     },
     "metadata": {},
     "output_type": "display_data"
    }
   ],
   "source": [
    "# Create a bar graph using seaborn\n",
    "sns.barplot(x='Year', y='COLLISION_ID', data= yearly_pvt)\n",
    "\n",
    "plt.title('Number of Crashes by Year')\n",
    "plt.xlabel('Year')\n",
    "plt.ylabel('Number of Crashes')"
   ]
  },
  {
   "cell_type": "code",
   "execution_count": 70,
   "id": "3a3aece2-bd21-4661-8202-1424937e1bac",
   "metadata": {},
   "outputs": [
    {
     "name": "stderr",
     "output_type": "stream",
     "text": [
      "/var/folders/5h/1y1pgqkj59ndm5pn7srvhkyh0000gn/T/ipykernel_24568/3448310513.py:11: SettingWithCopyWarning: \n",
      "A value is trying to be set on a copy of a slice from a DataFrame.\n",
      "Try using .loc[row_indexer,col_indexer] = value instead\n",
      "\n",
      "See the caveats in the documentation: https://pandas.pydata.org/pandas-docs/stable/user_guide/indexing.html#returning-a-view-versus-a-copy\n",
      "  sub_df['2_Wheel'] = sub_df[vehicle_types].apply(lambda row: 'Yes' if any(any(keyword in str(value).replace(' ','').lower() for keyword in keywords) for value in row) else 'No', axis=1)\n"
     ]
    }
   ],
   "source": [
    "# Select bike, scooter, cycle, moped from the vehicle type\n",
    "\n",
    "keywords = ['bik', 'scoo', 'cyc', 'mop']\n",
    "\n",
    "vehicle_types = ['VEHICLE TYPE CODE 1', \n",
    "             'VEHICLE TYPE CODE 2', \n",
    "             'VEHICLE TYPE CODE 3', \n",
    "             'VEHICLE TYPE CODE 4', \n",
    "             'VEHICLE TYPE CODE 5']\n",
    "\n",
    "sub_df['2_Wheel'] = sub_df[vehicle_types].apply(lambda row: 'Yes' if any(any(keyword in str(value).replace(' ','').lower() for keyword in keywords) for value in row) else 'No', axis=1)"
   ]
  },
  {
   "cell_type": "code",
   "execution_count": 105,
   "id": "a8fa053b-8f10-4a1e-93ef-51f08d0ba95f",
   "metadata": {},
   "outputs": [
    {
     "name": "stdout",
     "output_type": "stream",
     "text": [
      "2_Wheel\n",
      "No     1993946\n",
      "Yes     117563\n",
      "Name: count, dtype: int64\n",
      "2_Wheel\n",
      "No     94.432276\n",
      "Yes     5.567724\n",
      "Name: count, dtype: float64\n"
     ]
    }
   ],
   "source": [
    "# Check the percentage of 2-wheel accidents vs the rest\n",
    "counts = sub_df['2_Wheel'].value_counts()\n",
    "two_wheel_per = counts / counts.sum() * 100\n",
    "print(counts)\n",
    "print(two_wheel_per)"
   ]
  },
  {
   "cell_type": "code",
   "execution_count": 175,
   "id": "1fce24dd-f647-422f-abe3-94386a7eeea4",
   "metadata": {},
   "outputs": [
    {
     "data": {
      "text/html": [
       "<div>\n",
       "<style scoped>\n",
       "    .dataframe tbody tr th:only-of-type {\n",
       "        vertical-align: middle;\n",
       "    }\n",
       "\n",
       "    .dataframe tbody tr th {\n",
       "        vertical-align: top;\n",
       "    }\n",
       "\n",
       "    .dataframe thead th {\n",
       "        text-align: right;\n",
       "    }\n",
       "</style>\n",
       "<table border=\"1\" class=\"dataframe\">\n",
       "  <thead>\n",
       "    <tr style=\"text-align: right;\">\n",
       "      <th>2_Wheel</th>\n",
       "      <th>Year</th>\n",
       "      <th>No</th>\n",
       "      <th>Yes</th>\n",
       "    </tr>\n",
       "  </thead>\n",
       "  <tbody>\n",
       "    <tr>\n",
       "      <th>0</th>\n",
       "      <td>2012</td>\n",
       "      <td>96450</td>\n",
       "      <td>4095</td>\n",
       "    </tr>\n",
       "    <tr>\n",
       "      <th>1</th>\n",
       "      <td>2013</td>\n",
       "      <td>196250</td>\n",
       "      <td>7492</td>\n",
       "    </tr>\n",
       "    <tr>\n",
       "      <th>2</th>\n",
       "      <td>2014</td>\n",
       "      <td>198749</td>\n",
       "      <td>7289</td>\n",
       "    </tr>\n",
       "    <tr>\n",
       "      <th>3</th>\n",
       "      <td>2015</td>\n",
       "      <td>209881</td>\n",
       "      <td>7813</td>\n",
       "    </tr>\n",
       "    <tr>\n",
       "      <th>4</th>\n",
       "      <td>2016</td>\n",
       "      <td>220681</td>\n",
       "      <td>9150</td>\n",
       "    </tr>\n",
       "    <tr>\n",
       "      <th>5</th>\n",
       "      <td>2017</td>\n",
       "      <td>222037</td>\n",
       "      <td>8970</td>\n",
       "    </tr>\n",
       "    <tr>\n",
       "      <th>6</th>\n",
       "      <td>2018</td>\n",
       "      <td>222788</td>\n",
       "      <td>8776</td>\n",
       "    </tr>\n",
       "    <tr>\n",
       "      <th>7</th>\n",
       "      <td>2019</td>\n",
       "      <td>202586</td>\n",
       "      <td>8900</td>\n",
       "    </tr>\n",
       "    <tr>\n",
       "      <th>8</th>\n",
       "      <td>2020</td>\n",
       "      <td>103520</td>\n",
       "      <td>9396</td>\n",
       "    </tr>\n",
       "    <tr>\n",
       "      <th>9</th>\n",
       "      <td>2021</td>\n",
       "      <td>98590</td>\n",
       "      <td>11963</td>\n",
       "    </tr>\n",
       "    <tr>\n",
       "      <th>10</th>\n",
       "      <td>2022</td>\n",
       "      <td>91584</td>\n",
       "      <td>12302</td>\n",
       "    </tr>\n",
       "    <tr>\n",
       "      <th>11</th>\n",
       "      <td>2023</td>\n",
       "      <td>82817</td>\n",
       "      <td>13776</td>\n",
       "    </tr>\n",
       "    <tr>\n",
       "      <th>12</th>\n",
       "      <td>2024</td>\n",
       "      <td>48013</td>\n",
       "      <td>7641</td>\n",
       "    </tr>\n",
       "  </tbody>\n",
       "</table>\n",
       "</div>"
      ],
      "text/plain": [
       "2_Wheel  Year      No    Yes\n",
       "0        2012   96450   4095\n",
       "1        2013  196250   7492\n",
       "2        2014  198749   7289\n",
       "3        2015  209881   7813\n",
       "4        2016  220681   9150\n",
       "5        2017  222037   8970\n",
       "6        2018  222788   8776\n",
       "7        2019  202586   8900\n",
       "8        2020  103520   9396\n",
       "9        2021   98590  11963\n",
       "10       2022   91584  12302\n",
       "11       2023   82817  13776\n",
       "12       2024   48013   7641"
      ]
     },
     "execution_count": 175,
     "metadata": {},
     "output_type": "execute_result"
    }
   ],
   "source": [
    "# Create pivot table comparing 2Wheel vs 4Wheel Accidents\n",
    "two_wheel_accident = pd.pivot_table(sub_df, values='COLLISION_ID', index='Year', columns='2_Wheel', aggfunc='count')\n",
    "two_wheel_accident = two_wheel_accident.reset_index()\n",
    "two_wheel_accident"
   ]
  },
  {
   "cell_type": "code",
   "execution_count": 177,
   "id": "50f8b2d2-0546-448e-96fc-ae105f62cc96",
   "metadata": {},
   "outputs": [
    {
     "data": {
      "image/png": "[encoded data removed]",
      "text/plain": [
       "<Figure size 640x480 with 1 Axes>"
      ]
     },
     "metadata": {},
     "output_type": "display_data"
    }
   ],
   "source": [
    "sns.lineplot(data=two_wheel_accident, x='Year', y='Yes', marker='o', label='2-Wheel')\n",
    "sns.lineplot(data=two_wheel_accident, x='Year', y='No', marker='^', label='4-Wheel')\n",
    "\n",
    "plt.title('Number of 2-Wheel and 4-Wheel Accidents by Year')\n",
    "plt.xlabel('Year')\n",
    "plt.ylabel('Number of accidents')\n",
    "\n",
    "plt.show()"
   ]
  },
  {
   "cell_type": "code",
   "execution_count": 179,
   "id": "436597ab-58b3-4d0d-b4cd-28f6e8130e6d",
   "metadata": {},
   "outputs": [
    {
     "name": "stdout",
     "output_type": "stream",
     "text": [
      "2_Wheel  Year      No    Yes  No_normalized  Yes_normalized\n",
      "0        2012   96450   4095       0.277139        0.000000\n",
      "1        2013  196250   7492       0.848159        0.350894\n",
      "2        2014  198749   7289       0.862457        0.329925\n",
      "3        2015  209881   7813       0.926151        0.384051\n",
      "4        2016  220681   9150       0.987945        0.522157\n",
      "5        2017  222037   8970       0.995703        0.503564\n",
      "6        2018  222788   8776       1.000000        0.483524\n",
      "7        2019  202586   8900       0.884411        0.496333\n",
      "8        2020  103520   9396       0.317591        0.547567\n",
      "9        2021   98590  11963       0.289383        0.812726\n",
      "10       2022   91584  12302       0.249298        0.847743\n",
      "11       2023   82817  13776       0.199136        1.000000\n",
      "12       2024   48013   7641       0.000000        0.366284\n"
     ]
    }
   ],
   "source": [
    "# Normalize data to compare\n",
    "two_wheel_accident['No_normalized'] = (two_wheel_accident['No'] - two_wheel_accident['No'].min()) / (two_wheel_accident['No'].max() - two_wheel_accident['No'].min())\n",
    "two_wheel_accident['Yes_normalized'] = (two_wheel_accident['Yes'] - two_wheel_accident['Yes'].min()) / (two_wheel_accident['Yes'].max() - two_wheel_accident['Yes'].min())\n",
    "print(two_wheel_accident)"
   ]
  },
  {
   "cell_type": "code",
   "execution_count": 181,
   "id": "7a3b30da-e7e3-4e1a-a3d4-a75e361bae86",
   "metadata": {},
   "outputs": [],
   "source": [
    "two_wheel_accident_filtered = two_wheel_accident[two_wheel_accident['Year'] < 2024]"
   ]
  },
  {
   "cell_type": "code",
   "execution_count": 183,
   "id": "7ae4d902-b7b1-49f3-9f51-eae77d9bb091",
   "metadata": {},
   "outputs": [
    {
     "data": {
      "text/plain": [
       "Text(0, 0.5, 'Normalized Value')"
      ]
     },
     "execution_count": 183,
     "metadata": {},
     "output_type": "execute_result"
    },
    {
     "data": {
      "image/png": "[encoded data removed]",
      "text/plain": [
       "<Figure size 640x480 with 1 Axes>"
      ]
     },
     "metadata": {},
     "output_type": "display_data"
    }
   ],
   "source": [
    "\n",
    "\n",
    "sns.lineplot(data=two_wheel_accident_filtered, x='Year', y='Yes_normalized', marker='o', label='2-Wheel')\n",
    "sns.lineplot(data=two_wheel_accident_filtered, x='Year', y='No_normalized', marker='^', label='4-Wheel')\n",
    "\n",
    "plt.title('Normalized 2-Wheel vs 4-Wheel Accidents by Year')\n",
    "plt.xlabel('Year')\n",
    "plt.ylabel('Normalized Value')\n"
   ]
  },
  {
   "cell_type": "code",
   "execution_count": null,
   "id": "61ae46e5-2f0c-435b-a435-179b17af7ba3",
   "metadata": {},
   "outputs": [],
   "source": []
  }
 ],
 "metadata": {
  "kernelspec": {
   "display_name": "Python 3 (ipykernel)",
   "language": "python",
   "name": "python3"
  },
  "language_info": {
   "codemirror_mode": {
    "name": "ipython",
    "version": 3
   },
   "file_extension": ".py",
   "mimetype": "text/x-python",
   "name": "python",
   "nbconvert_exporter": "python",
   "pygments_lexer": "ipython3",
   "version": "3.12.4"
  }
 },
 "nbformat": 4,
 "nbformat_minor": 5
}
