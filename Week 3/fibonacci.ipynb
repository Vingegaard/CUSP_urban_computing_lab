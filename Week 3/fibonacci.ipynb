{
 "cells": [
  {
   "cell_type": "markdown",
   "id": "92fbc329-a39b-4ae2-a3e8-bb19595991b1",
   "metadata": {},
   "source": [
    "### Fibonacci lab"
   ]
  },
  {
   "cell_type": "code",
   "execution_count": 16,
   "id": "0854deba-84b5-4f63-b1bf-eae4b93a0675",
   "metadata": {},
   "outputs": [
    {
     "name": "stdin",
     "output_type": "stream",
     "text": [
      "Please enter a positive integer greater than 1: 4\n"
     ]
    },
    {
     "name": "stdout",
     "output_type": "stream",
     "text": [
      "1\n",
      "1\n",
      "2\n",
      "3\n"
     ]
    }
   ],
   "source": [
    "def main():\n",
    "    n = int(input(\"Please enter a positive integer greater than 1:\"))\n",
    "\n",
    "    a = 1\n",
    "    b = 1\n",
    "   \n",
    "    print(1)\n",
    "    print(1)\n",
    "    for i in range(2, n):\n",
    "        fib = a + b\n",
    "        a = b\n",
    "        b = fib\n",
    "        print(fib)\n",
    "\n",
    "main()\n",
    "        \n",
    "        \n",
    "        \n",
    "        \n",
    "                  "
   ]
  },
  {
   "cell_type": "code",
   "execution_count": 12,
   "id": "12de2474-633f-4cfc-aa04-5de88be4e5a9",
   "metadata": {},
   "outputs": [
    {
     "name": "stdin",
     "output_type": "stream",
     "text": [
      "Please enter a positive integer greater than 1:  4\n"
     ]
    },
    {
     "name": "stdout",
     "output_type": "stream",
     "text": [
      "1\n",
      "1\n",
      "2\n",
      "3\n"
     ]
    }
   ],
   "source": [
    "num = int(input(\"Please enter a positive integer greater than 1: \"))\n",
    "f = 1\n",
    "s = 1\n",
    "fib = 2\n",
    "print(1)\n",
    "print(1)\n",
    "for x in range(2,num):\n",
    " fib = f + s\n",
    " f = s\n",
    " s = fib\n",
    " print(fib)\n"
   ]
  },
  {
   "cell_type": "code",
   "execution_count": 22,
   "id": "4c0318c6-ecf7-44a1-9cad-8acfb2e2090a",
   "metadata": {},
   "outputs": [
    {
     "name": "stdin",
     "output_type": "stream",
     "text": [
      "Enter a positive integer: 4\n"
     ]
    },
    {
     "name": "stdout",
     "output_type": "stream",
     "text": [
      "1\n",
      "1\n",
      "2\n",
      "3\n"
     ]
    }
   ],
   "source": [
    "n = int(input(\"Enter a positive integer:\"))\n",
    "\n",
    "def main():\n",
    "    a = 1\n",
    "    b = 1\n",
    "    print(a)\n",
    "    print(b)\n",
    "\n",
    "    for i in range(2, n):\n",
    "        fib = a + b\n",
    "        a = b\n",
    "        b = fib\n",
    "        print(fib)\n",
    "\n",
    "main()"
   ]
  }
 ],
 "metadata": {
  "kernelspec": {
   "display_name": "Python 3 (ipykernel)",
   "language": "python",
   "name": "python3"
  },
  "language_info": {
   "codemirror_mode": {
    "name": "ipython",
    "version": 3
   },
   "file_extension": ".py",
   "mimetype": "text/x-python",
   "name": "python",
   "nbconvert_exporter": "python",
   "pygments_lexer": "ipython3",
   "version": "3.12.4"
  }
 },
 "nbformat": 4,
 "nbformat_minor": 5
}
