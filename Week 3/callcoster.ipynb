{
 "cells": [
  {
   "cell_type": "code",
   "execution_count": 8,
   "id": "af60ca36-61e7-41d1-b33a-98eaa2e349b9",
   "metadata": {},
   "outputs": [
    {
     "name": "stdin",
     "output_type": "stream",
     "text": [
      "Enter the day call started at: sat\n",
      "Enter the time the call started at (hhmm): 1100\n",
      "Enter the duration of the call (in minutes): 100\n"
     ]
    },
    {
     "name": "stdout",
     "output_type": "stream",
     "text": [
      "This call will cost $15.00\n"
     ]
    }
   ],
   "source": [
    "### Call cost calculator lab\n",
    "\n",
    "def main():\n",
    "    call_day = input(\"Enter the day call started at:\").lower()\n",
    "    call_time = int(input(\"Enter the time the call started at (hhmm):\"))\n",
    "    call_dur = int(input(\"Enter the duration of the call (in minutes):\"))\n",
    "\n",
    "    call_rate = call_rate_calc(call_day, call_time)\n",
    "    call_cost = call_cost_calc(call_dur, call_rate)\n",
    "\n",
    "    print(f\"This call will cost ${call_cost:.2f}\")\n",
    "\n",
    "def call_rate_calc(call_day, call_time):\n",
    "    if (call_day in [\"mon\", \"tue\", \"wed\", \"thr\", \"fri\"]) and (800 <= call_time <= 1800):\n",
    "        return 0.4\n",
    "    elif (call_day in [\"mon\", \"tue\", \"wed\", \"thr\", \"fri\"]) and (0000 <= call_time < 800 or 1800 < call_time <= 2400):\n",
    "        return 0.25\n",
    "    elif (call_day in [\"sat\", \"sun\"]):\n",
    "        return 0.15\n",
    "\n",
    "def call_cost_calc(call_dur, call_rate):\n",
    "    return call_dur * call_rate\n",
    "\n",
    "main()\n",
    "    "
   ]
  },
  {
   "cell_type": "code",
   "execution_count": null,
   "id": "43941613-3ce8-4396-a236-012d6c3792d6",
   "metadata": {},
   "outputs": [],
   "source": []
  }
 ],
 "metadata": {
  "kernelspec": {
   "display_name": "Python 3 (ipykernel)",
   "language": "python",
   "name": "python3"
  },
  "language_info": {
   "codemirror_mode": {
    "name": "ipython",
    "version": 3
   },
   "file_extension": ".py",
   "mimetype": "text/x-python",
   "name": "python",
   "nbconvert_exporter": "python",
   "pygments_lexer": "ipython3",
   "version": "3.12.4"
  }
 },
 "nbformat": 4,
 "nbformat_minor": 5
}
