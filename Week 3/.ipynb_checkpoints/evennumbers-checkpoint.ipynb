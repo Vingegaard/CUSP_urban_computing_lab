{
 "cells": [
  {
   "cell_type": "markdown",
   "id": "3a8f05ec-8631-443c-ba10-dec750240a5d",
   "metadata": {},
   "source": [
    "### Even number lab"
   ]
  },
  {
   "cell_type": "code",
   "execution_count": 58,
   "id": "83458331-cfbd-4b7c-bd8a-b4a73cfdf03f",
   "metadata": {},
   "outputs": [
    {
     "name": "stdin",
     "output_type": "stream",
     "text": [
      "Please enter a positive integer: 3\n"
     ]
    },
    {
     "name": "stdout",
     "output_type": "stream",
     "text": [
      "2\n",
      "4\n",
      "6\n"
     ]
    }
   ],
   "source": [
    "def main():\n",
    "    n = int(input(\"Please enter a positive integer:\"))\n",
    "    result = even_num_calc(n)\n",
    "\n",
    "    \n",
    "def even_num_calc(n):    \n",
    "     for i in range(1, n+1):\n",
    "        print(2 * i)\n",
    "        \n",
    "main()"
   ]
  },
  {
   "cell_type": "code",
   "execution_count": null,
   "id": "98e5c225-931a-4f52-97a9-53c87548dcb9",
   "metadata": {},
   "outputs": [],
   "source": []
  }
 ],
 "metadata": {
  "kernelspec": {
   "display_name": "Python 3 (ipykernel)",
   "language": "python",
   "name": "python3"
  },
  "language_info": {
   "codemirror_mode": {
    "name": "ipython",
    "version": 3
   },
   "file_extension": ".py",
   "mimetype": "text/x-python",
   "name": "python",
   "nbconvert_exporter": "python",
   "pygments_lexer": "ipython3",
   "version": "3.12.4"
  }
 },
 "nbformat": 4,
 "nbformat_minor": 5
}
