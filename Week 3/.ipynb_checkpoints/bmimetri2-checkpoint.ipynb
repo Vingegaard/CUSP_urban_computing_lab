{
 "cells": [
  {
   "cell_type": "markdown",
   "id": "05f8ed83-09bb-4928-b5dd-389ea7286fca",
   "metadata": {},
   "source": [
    "# BMI metric with status category lab"
   ]
  },
  {
   "cell_type": "code",
   "execution_count": 19,
   "id": "55eb1e03-2dac-4d7c-bd3e-4cadb0170434",
   "metadata": {},
   "outputs": [
    {
     "name": "stdout",
     "output_type": "stream",
     "text": [
      "Please enter weight in kilograms:\n"
     ]
    },
    {
     "name": "stdin",
     "output_type": "stream",
     "text": [
      " 75.7\n"
     ]
    },
    {
     "name": "stdout",
     "output_type": "stream",
     "text": [
      "Please enter height in centimeters:\n"
     ]
    },
    {
     "name": "stdin",
     "output_type": "stream",
     "text": [
      " 171\n"
     ]
    },
    {
     "name": "stdout",
     "output_type": "stream",
     "text": [
      "Your BMI is 25.89, Status is Overweight\n"
     ]
    }
   ],
   "source": [
    "def main():\n",
    "    \n",
    "    while True:\n",
    "        print(\"Please enter weight in kilograms:\")\n",
    "        weight = input()\n",
    "        \n",
    "        try:\n",
    "            weight = float(weight)\n",
    "            if weight <= 0:\n",
    "                raise ValueError(\"Weight must be a positive number.\")\n",
    "        except ValueError as ve:\n",
    "            print(f\"Invalid input: {ve}\")\n",
    "            continue\n",
    "        \n",
    "        print(\"Please enter height in centimeters:\")\n",
    "        height = input()\n",
    "        \n",
    "        try:\n",
    "            height = float(height) / 100\n",
    "            if height <= 0:\n",
    "                raise ValueError(\"Height must be a positive number.\")\n",
    "        except ValueError as ve:\n",
    "            print(f\"Invalid input: {ve}\")\n",
    "            continue\n",
    "\n",
    "        break\n",
    "\n",
    "    bmi = bmi_calc(weight, height)\n",
    "    if (bmi < 18.5):\n",
    "        print(f\"Your BMI is {bmi:.2f}, Status is Underweight\")\n",
    "    elif (18.5 <= bmi < 25):\n",
    "        print(f\"Your BMI is {bmi:.2f}, Status is Normal\")\n",
    "    elif (25 <= bmi < 30):\n",
    "        print(f\"Your BMI is {bmi:.2f}, Status is Overweight\")\n",
    "    else:\n",
    "        print(f\"Your BMI is {bmi:.2f}, Status is Obese\")\n",
    "    \n",
    "def bmi_calc(w, h):\n",
    "    return w / (h ** 2)\n",
    "    \n",
    "main()\n",
    "\n"
   ]
  },
  {
   "cell_type": "code",
   "execution_count": 21,
   "id": "293e3230-0794-4cb1-ae22-0fcfae399df2",
   "metadata": {},
   "outputs": [
    {
     "name": "stdout",
     "output_type": "stream",
     "text": [
      "Please enter weight in kilograms:\n"
     ]
    },
    {
     "name": "stdin",
     "output_type": "stream",
     "text": [
      " 75.7\n"
     ]
    },
    {
     "name": "stdout",
     "output_type": "stream",
     "text": [
      "Please enter height in meters:\n"
     ]
    },
    {
     "name": "stdin",
     "output_type": "stream",
     "text": [
      " asd\n"
     ]
    },
    {
     "name": "stdout",
     "output_type": "stream",
     "text": [
      "Invalid input: could not convert string to float: 'asd'\n",
      "Please enter height in meters:\n"
     ]
    },
    {
     "name": "stdin",
     "output_type": "stream",
     "text": [
      " -11\n"
     ]
    },
    {
     "name": "stdout",
     "output_type": "stream",
     "text": [
      "Invalid input: Height must be a positive number.\n",
      "Please enter height in meters:\n"
     ]
    },
    {
     "name": "stdin",
     "output_type": "stream",
     "text": [
      " 171\n"
     ]
    },
    {
     "name": "stdout",
     "output_type": "stream",
     "text": [
      "Your BMI is 0.00, Status is Underweight\n"
     ]
    }
   ],
   "source": [
    "def main():\n",
    "    weight = None\n",
    "    height = None\n",
    "    \n",
    "    # Prompt for weight\n",
    "    while weight is None:\n",
    "        print(\"Please enter weight in kilograms:\")\n",
    "        weight_input = input()\n",
    "        \n",
    "        try:\n",
    "            weight = float(weight_input)\n",
    "            if weight <= 0:\n",
    "                raise ValueError(\"Weight must be a positive number.\")\n",
    "        except ValueError as ve:\n",
    "            print(f\"Invalid input: {ve}\")\n",
    "            weight = None  # Reset weight to None to re-prompt\n",
    "    \n",
    "    # Prompt for height\n",
    "    while height is None:\n",
    "        print(\"Please enter height in meters:\")\n",
    "        height_input = input()\n",
    "        \n",
    "        try:\n",
    "            height = float(height_input)\n",
    "            if height <= 0:\n",
    "                raise ValueError(\"Height must be a positive number.\")\n",
    "        except ValueError as ve:\n",
    "            print(f\"Invalid input: {ve}\")\n",
    "            height = None  # Reset height to None to re-prompt\n",
    "\n",
    "    bmi = bmi_calc(weight, height)\n",
    "    if bmi < 18.5:\n",
    "        print(f\"Your BMI is {bmi:.2f}, Status is Underweight\")\n",
    "    elif 18.5 <= bmi < 25:\n",
    "        print(f\"Your BMI is {bmi:.2f}, Status is Normal\")\n",
    "    elif 25 <= bmi < 30:\n",
    "        print(f\"Your BMI is {bmi:.2f}, Status is Overweight\")\n",
    "    else:\n",
    "        print(f\"Your BMI is {bmi:.2f}, Status is Obese\")\n",
    "    \n",
    "def bmi_calc(w, h):\n",
    "    return w / (h ** 2)\n",
    "\n",
    "main()"
   ]
  }
 ],
 "metadata": {
  "kernelspec": {
   "display_name": "Python 3 (ipykernel)",
   "language": "python",
   "name": "python3"
  },
  "language_info": {
   "codemirror_mode": {
    "name": "ipython",
    "version": 3
   },
   "file_extension": ".py",
   "mimetype": "text/x-python",
   "name": "python",
   "nbconvert_exporter": "python",
   "pygments_lexer": "ipython3",
   "version": "3.12.4"
  }
 },
 "nbformat": 4,
 "nbformat_minor": 5
}
