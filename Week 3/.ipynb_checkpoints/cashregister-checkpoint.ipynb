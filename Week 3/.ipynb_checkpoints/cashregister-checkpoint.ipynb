{
 "cells": [
  {
   "cell_type": "markdown",
   "id": "b038e794-da5f-4713-9fb3-149e6439f234",
   "metadata": {},
   "source": [
    "### Cash Register Lab"
   ]
  },
  {
   "cell_type": "code",
   "execution_count": 38,
   "id": "2481e229-bc9f-405d-b5af-f797b84b9e57",
   "metadata": {},
   "outputs": [
    {
     "name": "stdin",
     "output_type": "stream",
     "text": [
      "Enter the price of the first item: 10\n",
      "Enter the price of the second item: 20\n",
      "Does the customer have a club card? (Y/N): y\n",
      "Enter tax rate, e.g., 5.5 for 5.5% tax: 8.25\n"
     ]
    },
    {
     "name": "stdout",
     "output_type": "stream",
     "text": [
      "Base price: 30.00\n",
      "Price after discounts: 22.50\n",
      "Total price: 24.36\n"
     ]
    }
   ],
   "source": [
    "#User prompt\n",
    "def main():\n",
    "    first_item = float(input(\"Enter the price of the first item:\"))\n",
    "    second_item = float(input(\"Enter the price of the second item:\"))\n",
    "    club_card = input(\"Does the customer have a club card? (Y/N):\").strip().lower()\n",
    "    tax_rate = float(input(\"Enter tax rate, e.g., 5.5 for 5.5% tax:\"))\n",
    "        \n",
    "    base_price = first_item + second_item\n",
    "    price_after_discounts = calc(first_item, second_item)\n",
    "    price_after_membership = mem_calc(price_after_discounts, club_card)\n",
    "    total_price = tax_calc(price_after_membership, tax_rate)\n",
    "\n",
    "    print(f\"Base price: {base_price:2.2f}\")\n",
    "    print(f\"Price after discounts: {price_after_membership:2.2f}\")\n",
    "    print(f\"Total price: {total_price:2.2f}\")\n",
    "    \n",
    "def calc(first, second):        \n",
    "    if (first < second):\n",
    "        discounted_price = (first * 0.5) + second\n",
    "    elif (first > second):\n",
    "        discounted_price = (second * 0.5) + first\n",
    "    return discounted_price\n",
    "    \n",
    "def mem_calc(disc, club_card):\n",
    "    if club_card == 'y':\n",
    "        return disc * 0.9\n",
    "    else:\n",
    "        return disc\n",
    "\n",
    "def tax_calc(mem, tax_rate):\n",
    "    return mem * (1 + tax_rate / 100)\n",
    "    \n",
    "main()"
   ]
  },
  {
   "cell_type": "code",
   "execution_count": null,
   "id": "76153884-16ab-430d-b62a-00837c3ad537",
   "metadata": {},
   "outputs": [],
   "source": []
  }
 ],
 "metadata": {
  "kernelspec": {
   "display_name": "Python 3 (ipykernel)",
   "language": "python",
   "name": "python3"
  },
  "language_info": {
   "codemirror_mode": {
    "name": "ipython",
    "version": 3
   },
   "file_extension": ".py",
   "mimetype": "text/x-python",
   "name": "python",
   "nbconvert_exporter": "python",
   "pygments_lexer": "ipython3",
   "version": "3.12.4"
  }
 },
 "nbformat": 4,
 "nbformat_minor": 5
}
