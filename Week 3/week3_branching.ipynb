{
 "cells": [
  {
   "cell_type": "markdown",
   "id": "78a8c6f5-e437-481b-afcc-8e0795de48c1",
   "metadata": {},
   "source": [
    "#### Absolute value"
   ]
  },
  {
   "cell_type": "code",
   "execution_count": 5,
   "id": "274b9137-832d-476c-b32c-d26af3611666",
   "metadata": {},
   "outputs": [
    {
     "name": "stdout",
     "output_type": "stream",
     "text": [
      "Please enter an integer: \n"
     ]
    },
    {
     "name": "stdin",
     "output_type": "stream",
     "text": [
      " -10\n"
     ]
    },
    {
     "name": "stdout",
     "output_type": "stream",
     "text": [
      "|-10| = 10\n"
     ]
    }
   ],
   "source": [
    "# Write a program that reads from the user an integer, and prints it absolute value\n",
    "\n",
    "# Create user input\n",
    "print(\"Please enter an integer: \")\n",
    "user_input = int(input())\n",
    "\n",
    "# Convert to absolute value\n",
    "absolute = abs(user_input)\n",
    "\n",
    "# Print output\n",
    "print(f\"|{user_input}| = {absolute}\")"
   ]
  },
  {
   "cell_type": "code",
   "execution_count": 9,
   "id": "2f022644-5a16-4766-bf43-6204571707b3",
   "metadata": {},
   "outputs": [
    {
     "name": "stdout",
     "output_type": "stream",
     "text": [
      "Please enter an integer: \n"
     ]
    },
    {
     "name": "stdin",
     "output_type": "stream",
     "text": [
      " -10\n"
     ]
    },
    {
     "name": "stdout",
     "output_type": "stream",
     "text": [
      "The absolute value is: 10\n"
     ]
    }
   ],
   "source": [
    "# absolute value maker using branching\n",
    "\n",
    "# Create input value\n",
    "print(\"Please enter an integer: \")\n",
    "user_input = int(input())\n",
    "\n",
    "# Figure out if the integer is positive or negative)\n",
    "if (user_input >= 0):\n",
    "    print(f\"The absolute value is: {user_input}\")  # this is not needed.\n",
    "elif (user_input < 0):\n",
    "    neg_pos = user_input * -1\n",
    "    print(f\"The absolute value is: {neg_pos}\")\n",
    "\n"
   ]
  },
  {
   "cell_type": "code",
   "execution_count": 42,
   "id": "933d810e-797b-4f39-8d5e-eae4f9e4edd5",
   "metadata": {},
   "outputs": [
    {
     "name": "stdout",
     "output_type": "stream",
     "text": [
      "Please enter an integer: \n"
     ]
    },
    {
     "name": "stdin",
     "output_type": "stream",
     "text": [
      " -8\n"
     ]
    },
    {
     "name": "stdout",
     "output_type": "stream",
     "text": [
      "|-8| = 8\n",
      "|-8| = 8\n"
     ]
    }
   ],
   "source": [
    "# answer\n",
    "\n",
    "print(\"Please enter an integer: \" )\n",
    "user_input2 = int(input())\n",
    "\n",
    "abs_value = user_input2\n",
    "if(user_input2 < 0):\n",
    "    abs_value = user_input2 * (-1)\n",
    "\n",
    "print(f\"|{user_input2}| = {abs_value}\")\n",
    "print(\"|\", user_input2, \"| = \", abs_value, sep = \"\")"
   ]
  },
  {
   "cell_type": "markdown",
   "id": "8be4eee0-da90-42ab-87b4-9629197d3510",
   "metadata": {},
   "source": [
    "#### Determining parity"
   ]
  },
  {
   "cell_type": "code",
   "execution_count": 70,
   "id": "d05193d4-31e1-4751-af33-78720f25dea6",
   "metadata": {},
   "outputs": [
    {
     "name": "stdout",
     "output_type": "stream",
     "text": [
      "Please enter a positive integer: \n"
     ]
    },
    {
     "name": "stdin",
     "output_type": "stream",
     "text": [
      " 10\n"
     ]
    },
    {
     "name": "stdout",
     "output_type": "stream",
     "text": [
      "10 is even.\n"
     ]
    }
   ],
   "source": [
    "print(\"Please enter a positive integer: \")\n",
    "pos_int = int(input())\n",
    "\n",
    "if (pos_int % 2 == 0):\n",
    "    print(f\"{pos_int} is even.\")\n",
    "\n",
    "else:\n",
    "    print(f\"{pos_int} is odd.\")\n",
    "\n"
   ]
  },
  {
   "cell_type": "markdown",
   "id": "432a259b-1e05-4004-a8df-cb38eb3780a1",
   "metadata": {},
   "source": [
    "#### The letter grade problem"
   ]
  },
  {
   "cell_type": "code",
   "execution_count": 21,
   "id": "b1177acc-1bd6-45a2-ab2d-9e8e4085e3aa",
   "metadata": {},
   "outputs": [
    {
     "name": "stdout",
     "output_type": "stream",
     "text": [
      "Please enter a grade: \n"
     ]
    },
    {
     "name": "stdin",
     "output_type": "stream",
     "text": [
      " 999\n"
     ]
    },
    {
     "name": "stdout",
     "output_type": "stream",
     "text": [
      "Your grade cannot exceed 100. Please enter a grade: \n"
     ]
    },
    {
     "name": "stdin",
     "output_type": "stream",
     "text": [
      " 69\n"
     ]
    },
    {
     "name": "stdout",
     "output_type": "stream",
     "text": [
      "D\n"
     ]
    }
   ],
   "source": [
    "# Create user input\n",
    "print(\"Please enter a grade: \")\n",
    "grade = int(input())\n",
    "\n",
    "# Create grade range and letter grade\n",
    "if (grade > 100):\n",
    "    print(\"Your grade cannot exceed 100. Please enter a grade: \")\n",
    "    grade2 = int(input())\n",
    "    if (grade2 >= 90 and grade2 <= 100):\n",
    "        print(\"A\")\n",
    "    elif (grade2 >= 80 and grade2 <=89):  # Using 'if' again will make an error. Because all 'ifs' are independent.\n",
    "        print(\"B\")\n",
    "    elif (grade2 >= 70 and grade2 <=79):\n",
    "        print(\"C\")    \n",
    "    elif (grade2 >= 60 and grade2 <=69):\n",
    "        print(\"D\")\n",
    "    else:\n",
    "        print(\"F\")\n",
    "\n",
    "elif (grade >= 90 and grade <= 100):\n",
    "   print(\"A\")\n",
    "elif (grade >= 80 and grade <=89):  # Using 'if' again will make an error. Because all 'ifs' are independent.\n",
    "   print(\"B\")\n",
    "elif (grade >= 70 and grade <=79):\n",
    "   print(\"C\")    \n",
    "elif (grade >= 60 and grade <=69):\n",
    "   print(\"D\")\n",
    "else:\n",
    "   print(\"F\")\n",
    "\n"
   ]
  },
  {
   "cell_type": "markdown",
   "id": "df78439b-2c27-4629-ade2-194e4f9dfb2e",
   "metadata": {},
   "source": [
    "#### Convert 24 hours into 12 hours program"
   ]
  },
  {
   "cell_type": "code",
   "execution_count": 19,
   "id": "c1df19ca-dc64-4a32-b969-cc4981ba67da",
   "metadata": {},
   "outputs": [
    {
     "name": "stdout",
     "output_type": "stream",
     "text": [
      "Please enter a time in a 24-hour format:\n"
     ]
    },
    {
     "name": "stdin",
     "output_type": "stream",
     "text": [
      "Hours:  1\n",
      "Minutes:  1\n"
     ]
    },
    {
     "name": "stdout",
     "output_type": "stream",
     "text": [
      "01:01 is 01:01am\n"
     ]
    }
   ],
   "source": [
    "# Create user_input\n",
    "print(\"Please enter a time in a 24-hour format:\")\n",
    "hour = int(input(\"Hours: \"))\n",
    "minutes = int(input(\"Minutes: \"))\n",
    "\n",
    "# Convert from 24hour to 12hour\n",
    "if (hour >= 1 and hour < 13):\n",
    "    am_hour = hour\n",
    "    print(f\"{hour:02}:{minutes:02} is {am_hour:02}:{minutes:02}am\")\n",
    "\n",
    "elif (hour >= 13 and hour <= 23):\n",
    "    pm_hour = (hour - 12)\n",
    "    print(f\"{hour:02}:{minutes:02} is {pm_hour:02}:{minutes:02}pm\")\n",
    "\n",
    "elif (hour == 24):\n",
    "    mid_night = (hour - 12)\n",
    "    print(f\"{hour:02}:{minutes:02} is {mid_night:02}:{minutes:02}am\")\n",
    "\n",
    "else:\n",
    "    print(\"Wrong format\")\n",
    "    exit()\n",
    "\n",
    "\n",
    "\n",
    "                    "
   ]
  },
  {
   "cell_type": "code",
   "execution_count": 49,
   "id": "211d87df-f96f-4430-82c8-a0516453a4c5",
   "metadata": {},
   "outputs": [
    {
     "name": "stdout",
     "output_type": "stream",
     "text": [
      "Please enter a time in a 24-hour format:\n"
     ]
    },
    {
     "name": "stdin",
     "output_type": "stream",
     "text": [
      "Hours:  15\n",
      "Minutes:  37\n"
     ]
    },
    {
     "name": "stdout",
     "output_type": "stream",
     "text": [
      "15:37 is 03:37pm\n"
     ]
    }
   ],
   "source": [
    "# Style correction\n",
    "print(\"Please enter a time in a 24-hour format:\")\n",
    "hour = int(input(\"Hours: \"))\n",
    "minutes = int(input(\"Minutes: \"))\n",
    "\n",
    "# Format\n",
    "formatted_hour = f\"{hour:02}\"\n",
    "formatted_mins = f\"{minutes:02}\"\n",
    "\n",
    "# Convert\n",
    "if (1 <= hour < 12):\n",
    "    am_pm_hour = hour\n",
    "    period = \"am\"\n",
    "elif (13 <= hour < 24):\n",
    "    am_pm_hour = hour - 12\n",
    "    period = \"pm\"\n",
    "elif (hour == 24):  # midnight\n",
    "    am_pm_hour = hour -12\n",
    "    period = \"am\"\n",
    "elif (hour == 12):  # noon\n",
    "    am_pm_hour = hour\n",
    "    period = \"pm\"\n",
    "else: \n",
    "    print(\"Wrong value\")\n",
    "    exit()\n",
    "\n",
    "# Print the result\n",
    "formatted_am_pm_hour = f\"{am_pm_hour:02}\"\n",
    "print(f\"{formatted_hour}:{formatted_mins} is {formatted_am_pm_hour}:{formatted_mins}{period}\")\n",
    "\n",
    "\n"
   ]
  },
  {
   "cell_type": "code",
   "execution_count": null,
   "id": "7e0d13b7-35a0-49ad-8f3c-2a090ad3a7ea",
   "metadata": {},
   "outputs": [],
   "source": []
  }
 ],
 "metadata": {
  "kernelspec": {
   "display_name": "Python 3 (ipykernel)",
   "language": "python",
   "name": "python3"
  },
  "language_info": {
   "codemirror_mode": {
    "name": "ipython",
    "version": 3
   },
   "file_extension": ".py",
   "mimetype": "text/x-python",
   "name": "python",
   "nbconvert_exporter": "python",
   "pygments_lexer": "ipython3",
   "version": "3.12.4"
  }
 },
 "nbformat": 4,
 "nbformat_minor": 5
}
