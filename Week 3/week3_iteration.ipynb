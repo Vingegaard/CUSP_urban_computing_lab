{
 "cells": [
  {
   "cell_type": "markdown",
   "id": "c48e321c-d51b-4af6-9891-e010dce17371",
   "metadata": {},
   "source": [
    "## Interative statements"
   ]
  },
  {
   "cell_type": "markdown",
   "id": "e44c78a9-c1dc-49e9-aafe-549df519b11d",
   "metadata": {},
   "source": [
    "### positive integer printer"
   ]
  },
  {
   "cell_type": "code",
   "execution_count": 21,
   "id": "cf3f091b-b03b-416a-ae2a-7f0c82501161",
   "metadata": {},
   "outputs": [
    {
     "name": "stdout",
     "output_type": "stream",
     "text": [
      "Please enter a positive integer:\n"
     ]
    },
    {
     "name": "stdin",
     "output_type": "stream",
     "text": [
      " 2\n"
     ]
    },
    {
     "name": "stdout",
     "output_type": "stream",
     "text": [
      "1\n",
      "2\n"
     ]
    }
   ],
   "source": [
    "# while loop\n",
    "print(\"Please enter a positive integer:\")\n",
    "user_input = int(input())\n",
    "counter = 1\n",
    "\n",
    "while (counter <= user_input):\n",
    "    print(counter)\n",
    "    counter += 1"
   ]
  },
  {
   "cell_type": "code",
   "execution_count": 29,
   "id": "34015c8d-6388-4d97-aa94-7a94039094c1",
   "metadata": {},
   "outputs": [
    {
     "name": "stdout",
     "output_type": "stream",
     "text": [
      "Please enter a positive integer:\n"
     ]
    },
    {
     "name": "stdin",
     "output_type": "stream",
     "text": [
      " 6\n"
     ]
    },
    {
     "name": "stdout",
     "output_type": "stream",
     "text": [
      "1\n",
      "2\n",
      "3\n",
      "4\n",
      "5\n",
      "6\n"
     ]
    }
   ],
   "source": [
    "# for loop\n",
    "print(\"Please enter a positive integer:\")\n",
    "user_input = int(input())\n",
    "\n",
    "for counter in range(1,user_input +1):\n",
    "    print(counter)\n",
    "    \n",
    "    "
   ]
  },
  {
   "cell_type": "markdown",
   "id": "80e411de-443a-44b6-9dab-028d635d3375",
   "metadata": {},
   "source": [
    "### Printing a square"
   ]
  },
  {
   "cell_type": "code",
   "execution_count": 48,
   "id": "b0ebff43-c643-41b9-8ce4-2e2ef02abf78",
   "metadata": {},
   "outputs": [
    {
     "name": "stdout",
     "output_type": "stream",
     "text": [
      "Please enter a positive integer:\n"
     ]
    },
    {
     "name": "stdin",
     "output_type": "stream",
     "text": [
      " 4\n"
     ]
    },
    {
     "name": "stdout",
     "output_type": "stream",
     "text": [
      "****\n",
      "****\n",
      "****\n",
      "****\n"
     ]
    }
   ],
   "source": [
    "# For loop\n",
    "print(\"Please enter a positive integer:\")\n",
    "user_input = int(input())\n",
    "\n",
    "for square in range(1, user_input + 1):\n",
    "    print('*'*user_input)\n"
   ]
  },
  {
   "cell_type": "code",
   "execution_count": 46,
   "id": "a68bdf05-330c-4119-8b5e-3c634bea20b5",
   "metadata": {},
   "outputs": [
    {
     "name": "stdout",
     "output_type": "stream",
     "text": [
      "Please enter a positive integer:\n"
     ]
    },
    {
     "name": "stdin",
     "output_type": "stream",
     "text": [
      " 4\n"
     ]
    },
    {
     "name": "stdout",
     "output_type": "stream",
     "text": [
      "****\n",
      "****\n",
      "****\n",
      "****\n"
     ]
    }
   ],
   "source": [
    "# While loop\n",
    "print(\"Please enter a positive integer:\")\n",
    "user_input = int(input())\n",
    "counter = 1\n",
    "\n",
    "while (counter <= user_input):\n",
    "    print('*'*user_input)\n",
    "    counter += 1\n"
   ]
  },
  {
   "cell_type": "markdown",
   "id": "bb6ca1dd-cd35-48f1-bec7-86dce0fdbf87",
   "metadata": {},
   "source": [
    "### Triangle aligned to the left"
   ]
  },
  {
   "cell_type": "code",
   "execution_count": 62,
   "id": "fdaf043d-5107-4bb3-87ff-0851cce38c9a",
   "metadata": {},
   "outputs": [
    {
     "name": "stdout",
     "output_type": "stream",
     "text": [
      "Please enter a positive integer:\n"
     ]
    },
    {
     "name": "stdin",
     "output_type": "stream",
     "text": [
      " 4\n"
     ]
    },
    {
     "name": "stdout",
     "output_type": "stream",
     "text": [
      "*\n",
      "**\n",
      "***\n",
      "****\n"
     ]
    }
   ],
   "source": [
    "# For loop\n",
    "print(\"Please enter a positive integer:\")\n",
    "n = int(input())\n",
    "\n",
    "for i in range(1,n + 1):\n",
    "    print(\"*\" * i)"
   ]
  },
  {
   "cell_type": "code",
   "execution_count": 60,
   "id": "56aa9343-5aed-4efa-8e1e-a7a53bc4eca3",
   "metadata": {},
   "outputs": [
    {
     "name": "stdout",
     "output_type": "stream",
     "text": [
      "Please enter a positive integer:\n"
     ]
    },
    {
     "name": "stdin",
     "output_type": "stream",
     "text": [
      " 4\n"
     ]
    },
    {
     "name": "stdout",
     "output_type": "stream",
     "text": [
      "*\n",
      "**\n",
      "***\n",
      "****\n"
     ]
    }
   ],
   "source": [
    "# While loop\n",
    "print(\"Please enter a positive integer:\")\n",
    "n = int(input())\n",
    "counter = 1\n",
    "\n",
    "while (counter <= n):\n",
    "    print('*'*counter)\n",
    "    counter += 1"
   ]
  },
  {
   "cell_type": "markdown",
   "id": "d175a065-d212-42ad-8b0d-544b7aa71208",
   "metadata": {},
   "source": [
    "### Triangle aligned to the right"
   ]
  },
  {
   "cell_type": "code",
   "execution_count": 67,
   "id": "4519ecb8-5aa7-4cb2-85a9-03a7ff530b1b",
   "metadata": {},
   "outputs": [
    {
     "name": "stdout",
     "output_type": "stream",
     "text": [
      "Please enter a positive integer:\n"
     ]
    },
    {
     "name": "stdin",
     "output_type": "stream",
     "text": [
      " 4\n"
     ]
    },
    {
     "name": "stdout",
     "output_type": "stream",
     "text": [
      "    *\n",
      "   **\n",
      "  ***\n",
      " ****\n"
     ]
    }
   ],
   "source": [
    "# For loop\n",
    "print(\"Please enter a positive integer:\")\n",
    "n = int(input())\n",
    "\n",
    "for i in range(1,n + 1):\n",
    "    print(\" \" * (n-i), \"*\" * i)"
   ]
  },
  {
   "cell_type": "code",
   "execution_count": 69,
   "id": "662673f0-1b64-48bd-9101-360c5abd25c2",
   "metadata": {},
   "outputs": [
    {
     "name": "stdout",
     "output_type": "stream",
     "text": [
      "Please enter a positive integer:\n"
     ]
    },
    {
     "name": "stdin",
     "output_type": "stream",
     "text": [
      " 4\n"
     ]
    },
    {
     "name": "stdout",
     "output_type": "stream",
     "text": [
      "    *\n",
      "   **\n",
      "  ***\n",
      " ****\n"
     ]
    }
   ],
   "source": [
    "# While loop\n",
    "print(\"Please enter a positive integer:\")\n",
    "n = int(input())\n",
    "counter = 1\n",
    "\n",
    "while (counter <= n):\n",
    "    print(\" \" * (n - counter), \"*\" * counter)\n",
    "    counter += 1\n"
   ]
  },
  {
   "cell_type": "markdown",
   "id": "a91f2d24-077b-4191-9f3a-f9a094b7520c",
   "metadata": {},
   "source": [
    "### Multiplication Table"
   ]
  },
  {
   "cell_type": "code",
   "execution_count": 119,
   "id": "5961dd50-d730-4ac2-a12f-814c9f38bb20",
   "metadata": {},
   "outputs": [
    {
     "name": "stdout",
     "output_type": "stream",
     "text": [
      "Please enter a positive integer:\n"
     ]
    },
    {
     "name": "stdin",
     "output_type": "stream",
     "text": [
      " 5\n"
     ]
    },
    {
     "name": "stdout",
     "output_type": "stream",
     "text": [
      "3\t6\t9\t12\t15\t\n"
     ]
    }
   ],
   "source": [
    "# For loop\n",
    "print(\"Please enter a positive integer:\")\n",
    "n = int(input())\n",
    "\n",
    "for i in range(1, n + 1):\n",
    "    print(3*i, end='\\t')\n",
    "print('')"
   ]
  },
  {
   "cell_type": "code",
   "execution_count": 124,
   "id": "eb7e7673-ed9f-470a-b7f7-df42af280932",
   "metadata": {},
   "outputs": [
    {
     "name": "stdout",
     "output_type": "stream",
     "text": [
      "Please enter a positive integer:\n"
     ]
    },
    {
     "name": "stdin",
     "output_type": "stream",
     "text": [
      " 5\n"
     ]
    },
    {
     "name": "stdout",
     "output_type": "stream",
     "text": [
      "1\t2\t3\t4\t5\t\n",
      "2\t4\t6\t8\t10\t\n",
      "3\t6\t9\t12\t15\t\n",
      "4\t8\t12\t16\t20\t\n",
      "5\t10\t15\t20\t25\t\n"
     ]
    }
   ],
   "source": [
    "# For loop\n",
    "print(\"Please enter a positive integer:\")\n",
    "n = int(input())\n",
    "\n",
    "for row in range(1, n + 1):  \n",
    "    for i in range(1, n + 1):\n",
    "        print(row*i, end='\\t')\n",
    "    print('')\n",
    "\n"
   ]
  },
  {
   "cell_type": "markdown",
   "id": "29c316d0-7476-4e9e-9e18-f6b68c32101c",
   "metadata": {},
   "source": [
    "### Computing the average with known length of numbers"
   ]
  },
  {
   "cell_type": "code",
   "execution_count": 31,
   "id": "7d5e3b5a-f711-42be-991f-32b186c8e8ba",
   "metadata": {},
   "outputs": [
    {
     "name": "stdout",
     "output_type": "stream",
     "text": [
      "Please enter the number of students in the class:\n"
     ]
    },
    {
     "name": "stdin",
     "output_type": "stream",
     "text": [
      " 4\n"
     ]
    },
    {
     "name": "stdout",
     "output_type": "stream",
     "text": [
      "Please enter the grades:\n"
     ]
    },
    {
     "name": "stdin",
     "output_type": "stream",
     "text": [
      " 71\n",
      " 86\n",
      " 68\n",
      " 94\n"
     ]
    },
    {
     "name": "stdout",
     "output_type": "stream",
     "text": [
      "The class average is 79.75\n"
     ]
    }
   ],
   "source": [
    "# number of students\n",
    "print(\"Please enter the number of students in the class:\")\n",
    "stu = int(input())\n",
    "grades_sum = 0\n",
    "\n",
    "print(\"Please enter the grades:\")\n",
    "for i in range(stu):\n",
    "    curr_grade = int(input())\n",
    "    grades_sum += curr_grade\n",
    "\n",
    "average = grades_sum / stu\n",
    "print(f\"The class average is {average}\")\n",
    "\n"
   ]
  },
  {
   "cell_type": "markdown",
   "id": "f5fae4bd-f3cb-4ebd-93fb-25c4efc4233c",
   "metadata": {},
   "source": [
    "### Computing the average with unknown length of numbers"
   ]
  },
  {
   "cell_type": "code",
   "execution_count": 40,
   "id": "8f964beb-bb4e-416c-b10c-eef2e714970a",
   "metadata": {},
   "outputs": [
    {
     "name": "stdout",
     "output_type": "stream",
     "text": [
      "Enter the grades in seperate lines. To end the input type, 'done'\n"
     ]
    },
    {
     "name": "stdin",
     "output_type": "stream",
     "text": [
      " 71\n",
      " 86\n",
      " 68\n",
      " 94\n",
      " done\n"
     ]
    },
    {
     "name": "stdout",
     "output_type": "stream",
     "text": [
      "The class average is 79.75\n"
     ]
    }
   ],
   "source": [
    "print(\"Enter the grades in seperate lines. To end the input type, 'done'\")\n",
    "\n",
    "grades_sum = 0\n",
    "students_count = 0\n",
    "seen_done = False\n",
    "\n",
    "while (seen_done == False):\n",
    "    curr_input = input()\n",
    "    if (curr_input == 'done'):\n",
    "        seen_done = True\n",
    "    else:\n",
    "        curr_grades = int(curr_input)\n",
    "        grades_sum += curr_grades\n",
    "        students_count += 1\n",
    "\n",
    "average = grades_sum / students_count\n",
    "print(f\"The class average is {average}\")\n",
    "        "
   ]
  },
  {
   "cell_type": "markdown",
   "id": "6a2edddc-9292-42e8-9b47-b97fa73df441",
   "metadata": {},
   "source": [
    "### Practice with chatgpt"
   ]
  },
  {
   "cell_type": "code",
   "execution_count": 57,
   "id": "6ba4170b-cc3a-4e89-baba-a9709b697953",
   "metadata": {},
   "outputs": [
    {
     "name": "stdout",
     "output_type": "stream",
     "text": [
      "Welcome to the guess the Number Game!\n",
      "I have selected a number between 1 and 100. Try to guess it!\n"
     ]
    },
    {
     "name": "stdin",
     "output_type": "stream",
     "text": [
      "Enter your guess: 50\n",
      " 40\n"
     ]
    },
    {
     "ename": "TypeError",
     "evalue": "'>' not supported between instances of 'str' and 'int'",
     "output_type": "error",
     "traceback": [
      "\u001b[0;31m---------------------------------------------------------------------------\u001b[0m",
      "\u001b[0;31mTypeError\u001b[0m                                 Traceback (most recent call last)",
      "Cell \u001b[0;32mIn[57], line 21\u001b[0m\n\u001b[1;32m     19\u001b[0m     attepmts_count \u001b[38;5;241m+\u001b[39m\u001b[38;5;241m=\u001b[39m \u001b[38;5;241m1\u001b[39m\n\u001b[1;32m     20\u001b[0m     \u001b[38;5;28mprint\u001b[39m(\u001b[38;5;124mf\u001b[39m\u001b[38;5;124m\"\u001b[39m\u001b[38;5;124mCongratulations! You guessed the number in \u001b[39m\u001b[38;5;132;01m{\u001b[39;00mattepmts_count\u001b[38;5;132;01m}\u001b[39;00m\u001b[38;5;124m attempts.\u001b[39m\u001b[38;5;124m\"\u001b[39m)\n\u001b[0;32m---> 21\u001b[0m \u001b[38;5;28;01melif\u001b[39;00m guess \u001b[38;5;241m>\u001b[39m ran_num:\n\u001b[1;32m     22\u001b[0m     attepmts_count \u001b[38;5;241m+\u001b[39m\u001b[38;5;241m=\u001b[39m \u001b[38;5;241m1\u001b[39m\n\u001b[1;32m     23\u001b[0m     \u001b[38;5;28mprint\u001b[39m(\u001b[38;5;124m\"\u001b[39m\u001b[38;5;124mToo low! Try again.\u001b[39m\u001b[38;5;124m\"\u001b[39m)\n",
      "\u001b[0;31mTypeError\u001b[0m: '>' not supported between instances of 'str' and 'int'"
     ]
    }
   ],
   "source": [
    "import random\n",
    "\n",
    "# intro\n",
    "print(\"Welcome to the guess the Number Game!\")\n",
    "print(\"I have selected a number between 1 and 100. Try to guess it!\")\n",
    "\n",
    "# create random number\n",
    "ran_num = random.randint(1, 100)\n",
    "\n",
    "# make pre-conditions\n",
    "attemps_count = 0\n",
    "guess = input(\"Enter your guess:\")\n",
    "\n",
    "# create user guess\n",
    "while guess != ran_num:\n",
    "    guess = input()\n",
    "    curr_guess = int(guess)\n",
    "    if guess == ran_num:\n",
    "        attepmts_count += 1\n",
    "        print(f\"Congratulations! You guessed the number in {attepmts_count} attempts.\")\n",
    "    elif guess > ran_num:\n",
    "        attepmts_count += 1\n",
    "        print(\"Too low! Try again.\")\n",
    "    else:\n",
    "        attemps_count + 1 \n",
    "        print(\"Too high! Try again.\")\n",
    "\n"
   ]
  },
  {
   "cell_type": "code",
   "execution_count": 61,
   "id": "8fb29205-d70d-446a-bfa7-95aa133f30dd",
   "metadata": {},
   "outputs": [
    {
     "name": "stdout",
     "output_type": "stream",
     "text": [
      "Welcome to the Guess the Number Game!\n",
      "I have selected a number between 1 and 100. Try to guess it!\n"
     ]
    },
    {
     "name": "stdin",
     "output_type": "stream",
     "text": [
      "Enter your guess (or type 'exit' to quit):  d\n"
     ]
    },
    {
     "name": "stdout",
     "output_type": "stream",
     "text": [
      "Invalid input! Please enter a number or type 'exit' to quit.\n"
     ]
    },
    {
     "name": "stdin",
     "output_type": "stream",
     "text": [
      "Enter your guess (or type 'exit' to quit):  50\n"
     ]
    },
    {
     "name": "stdout",
     "output_type": "stream",
     "text": [
      "Too high! Try again.\n"
     ]
    },
    {
     "name": "stdin",
     "output_type": "stream",
     "text": [
      "Enter your guess (or type 'exit' to quit):  40\n"
     ]
    },
    {
     "name": "stdout",
     "output_type": "stream",
     "text": [
      "Too high! Try again.\n"
     ]
    },
    {
     "name": "stdin",
     "output_type": "stream",
     "text": [
      "Enter your guess (or type 'exit' to quit):  30\n"
     ]
    },
    {
     "name": "stdout",
     "output_type": "stream",
     "text": [
      "Too high! Try again.\n"
     ]
    },
    {
     "name": "stdin",
     "output_type": "stream",
     "text": [
      "Enter your guess (or type 'exit' to quit):  20\n"
     ]
    },
    {
     "name": "stdout",
     "output_type": "stream",
     "text": [
      "Too high! Try again.\n"
     ]
    },
    {
     "name": "stdin",
     "output_type": "stream",
     "text": [
      "Enter your guess (or type 'exit' to quit):  5\n"
     ]
    },
    {
     "name": "stdout",
     "output_type": "stream",
     "text": [
      "Too low! Try again.\n"
     ]
    },
    {
     "name": "stdin",
     "output_type": "stream",
     "text": [
      "Enter your guess (or type 'exit' to quit):  7\n"
     ]
    },
    {
     "name": "stdout",
     "output_type": "stream",
     "text": [
      "Too low! Try again.\n"
     ]
    },
    {
     "name": "stdin",
     "output_type": "stream",
     "text": [
      "Enter your guess (or type 'exit' to quit):  8\n"
     ]
    },
    {
     "name": "stdout",
     "output_type": "stream",
     "text": [
      "Too low! Try again.\n"
     ]
    },
    {
     "name": "stdin",
     "output_type": "stream",
     "text": [
      "Enter your guess (or type 'exit' to quit):  9\n"
     ]
    },
    {
     "name": "stdout",
     "output_type": "stream",
     "text": [
      "Too low! Try again.\n"
     ]
    },
    {
     "name": "stdin",
     "output_type": "stream",
     "text": [
      "Enter your guess (or type 'exit' to quit):  10\n"
     ]
    },
    {
     "name": "stdout",
     "output_type": "stream",
     "text": [
      "Congratulations! You guessed the number in 9 attempts.\n"
     ]
    }
   ],
   "source": [
    "# Intro\n",
    "print(\"Welcome to the Guess the Number Game!\")\n",
    "print(\"I have selected a number between 1 and 100. Try to guess it!\")\n",
    "\n",
    "# Create random number\n",
    "ran_num = random.randint(1, 100)\n",
    "\n",
    "# Pre-conditions\n",
    "attempts_count = 0\n",
    "\n",
    "while True:\n",
    "    guess = input(\"Enter your guess (or type 'exit' to quit): \")\n",
    "    \n",
    "    if guess.lower() == \"exit\":\n",
    "        print(\"You've chosen to exit the game. Goodbye!\")\n",
    "        break\n",
    "    \n",
    "    try:\n",
    "        curr_guess = int(guess)\n",
    "    except ValueError:\n",
    "        print(\"Invalid input! Please enter a number or type 'exit' to quit.\")\n",
    "        continue\n",
    "    \n",
    "    attempts_count += 1\n",
    "    \n",
    "    if curr_guess == ran_num:\n",
    "        print(f\"Congratulations! You guessed the number in {attempts_count} attempts.\")\n",
    "        break\n",
    "    elif curr_guess < ran_num:\n",
    "        print(\"Too low! Try again.\")\n",
    "    else:\n",
    "        print(\"Too high! Try again.\")"
   ]
  },
  {
   "cell_type": "code",
   "execution_count": 83,
   "id": "debb144a-d050-4e83-82bb-e06efe5fa1eb",
   "metadata": {},
   "outputs": [
    {
     "name": "stdout",
     "output_type": "stream",
     "text": [
      "1\n",
      "2\n",
      "Fizz\n",
      "4\n",
      "Buzz\n",
      "Fizz\n",
      "7\n",
      "8\n",
      "Fizz\n",
      "Buzz\n",
      "11\n",
      "Fizz\n",
      "13\n",
      "14\n",
      "FizzBuzz\n",
      "16\n",
      "17\n",
      "Fizz\n",
      "19\n",
      "Buzz\n",
      "Fizz\n",
      "22\n",
      "23\n",
      "Fizz\n",
      "Buzz\n",
      "26\n",
      "Fizz\n",
      "28\n",
      "29\n",
      "FizzBuzz\n",
      "31\n",
      "32\n",
      "Fizz\n",
      "34\n",
      "Buzz\n",
      "Fizz\n",
      "37\n",
      "38\n",
      "Fizz\n",
      "Buzz\n",
      "41\n",
      "Fizz\n",
      "43\n",
      "44\n",
      "FizzBuzz\n",
      "46\n",
      "47\n",
      "Fizz\n",
      "49\n",
      "Buzz\n",
      "Fizz\n",
      "52\n",
      "53\n",
      "Fizz\n",
      "Buzz\n",
      "56\n",
      "Fizz\n",
      "58\n",
      "59\n",
      "FizzBuzz\n",
      "61\n",
      "62\n",
      "Fizz\n",
      "64\n",
      "Buzz\n",
      "Fizz\n",
      "67\n",
      "68\n",
      "Fizz\n",
      "Buzz\n",
      "71\n",
      "Fizz\n",
      "73\n",
      "74\n",
      "FizzBuzz\n",
      "76\n",
      "77\n",
      "Fizz\n",
      "79\n",
      "Buzz\n",
      "Fizz\n",
      "82\n",
      "83\n",
      "Fizz\n",
      "Buzz\n",
      "86\n",
      "Fizz\n",
      "88\n",
      "89\n",
      "FizzBuzz\n",
      "91\n",
      "92\n",
      "Fizz\n",
      "94\n",
      "Buzz\n",
      "Fizz\n",
      "97\n",
      "98\n",
      "Fizz\n",
      "Buzz\n"
     ]
    }
   ],
   "source": [
    "for i in range(1, 101):\n",
    "    if (i % 3 == 0) and (i % 5 == 0):\n",
    "        print(\"FizzBuzz\")\n",
    "    elif (i % 3 == 0):\n",
    "        print(\"Fizz\")\n",
    "    elif (i % 5 == 0):\n",
    "        print(\"Buzz\")\n",
    "    else:\n",
    "        print(i)"
   ]
  },
  {
   "cell_type": "code",
   "execution_count": 109,
   "id": "17eca8df-6390-4f80-9a2e-dce975ab5224",
   "metadata": {},
   "outputs": [
    {
     "name": "stdout",
     "output_type": "stream",
     "text": [
      "Enter a positive integer:\n"
     ]
    },
    {
     "name": "stdin",
     "output_type": "stream",
     "text": [
      "Enter a positive integer: 1234\n"
     ]
    },
    {
     "name": "stdout",
     "output_type": "stream",
     "text": [
      "The sum of the digits is: 10\n"
     ]
    }
   ],
   "source": [
    "print(\"Enter a positive integer:\")\n",
    "\n",
    "def sum_of_digits(number):\n",
    "    total = 0\n",
    "    while number > 0:\n",
    "        total += number % 10\n",
    "        number //= 10\n",
    "    return total\n",
    " \n",
    "while True:\n",
    "    input_num = input(\"Enter a positive integer:\")\n",
    "    if not input_num.isdigit() or int(input_num) <= 0:\n",
    "        print(\"Invalid input! Please enter a positive integer.\")\n",
    "        continue\n",
    "\n",
    "    number = int(input_num)\n",
    "    result = sum_of_digits(number)\n",
    "\n",
    "    print(f\"The sum of the digits is: {result}\")\n",
    "    break\n",
    "\n",
    "\n",
    "\n"
   ]
  },
  {
   "cell_type": "code",
   "execution_count": 17,
   "id": "46b44985-a02c-4158-8ccc-ec40d0095af9",
   "metadata": {},
   "outputs": [
    {
     "name": "stdin",
     "output_type": "stream",
     "text": [
      "Enter a positive integer: 1\n"
     ]
    },
    {
     "name": "stdout",
     "output_type": "stream",
     "text": [
      "1 is odd\n"
     ]
    }
   ],
   "source": [
    "# Determine the number is even or odd\n",
    "\n",
    "def det_even_odd(number):\n",
    "    if (number % 2 == 0):\n",
    "        return \"even\"\n",
    "    else:\n",
    "        return \"odd\"\n",
    "\n",
    "\n",
    "# Takes a positive integer until they enter a positive integer\n",
    "while True:\n",
    "    user_input = input(\"Enter a positive integer:\")\n",
    "    if not user_input.isdigit() or int(user_input) <= 0:\n",
    "        print(\"Invalid input! Please enter a positive integer\")\n",
    "        continue\n",
    "\n",
    "    number = int(user_input)\n",
    "    result = det_even_odd(number)\n",
    "\n",
    "    print(f\"{number} is {result}\")\n",
    "    break\n"
   ]
  },
  {
   "cell_type": "code",
   "execution_count": 19,
   "id": "7dc69615-5de3-47dc-b698-e9eb5b0bae22",
   "metadata": {},
   "outputs": [
    {
     "name": "stdin",
     "output_type": "stream",
     "text": [
      "Enter a positive integer: 5\n"
     ]
    },
    {
     "name": "stdout",
     "output_type": "stream",
     "text": [
      "5 x 1 = 5\n",
      "5 x 2 = 10\n",
      "5 x 3 = 15\n",
      "5 x 4 = 20\n",
      "5 x 5 = 25\n",
      "5 x 6 = 30\n",
      "5 x 7 = 35\n",
      "5 x 8 = 40\n",
      "5 x 9 = 45\n",
      "5 x 10 = 50\n"
     ]
    }
   ],
   "source": [
    "# Loop to ensure the user enters a positive integer\n",
    "while True:\n",
    "    user_input = input(\"Enter a positive integer:\")\n",
    "    if not user_input.isdigit() or int(user_input) <= 0:\n",
    "        print(\"Invalid input! Please enter a positive integer.\")\n",
    "        continue\n",
    "\n",
    "    # If the input is valid, convert to integer\n",
    "    n = int(user_input)\n",
    "\n",
    "    # Print the multiplication table for the number n\n",
    "    for i in range(1, 11):\n",
    "        print(f\"{n} x {i} = {n*i}\")\n",
    "    break"
   ]
  },
  {
   "cell_type": "code",
   "execution_count": 15,
   "id": "795a0187-1f83-4c89-94cc-42eab1f89c00",
   "metadata": {},
   "outputs": [
    {
     "name": "stdin",
     "output_type": "stream",
     "text": [
      "Enter a positive integer: 6\n"
     ]
    },
    {
     "name": "stdout",
     "output_type": "stream",
     "text": [
      "6 is not a prime number\n"
     ]
    }
   ],
   "source": [
    "import math\n",
    "\n",
    "# prompt the user\n",
    "while True:\n",
    "    user_input = input(\"Enter a positive integer:\")\n",
    "    if not user_input.isdigit() or int(user_input) <= 0:\n",
    "        print(\"Invalid input! Please enter a positive integer:\")\n",
    "        continue\n",
    "\n",
    "    # Convert user_input into int if valid\n",
    "    n = int(user_input)\n",
    "\n",
    "    # Check for the prime\n",
    "    if n <= 1:\n",
    "        print(\"f{n} is not a prime number\")\n",
    "    else:\n",
    "        is_prime = True\n",
    "        for i in range(2, int(math.sqrt(n)) + 1):\n",
    "            if n % i == 0:\n",
    "                is_prime = False\n",
    "                break\n",
    "\n",
    "        if is_prime:\n",
    "            print(f\"{n} is a prime number\")\n",
    "        else:\n",
    "            print(f\"{n} is not a prime number\")\n",
    "    break"
   ]
  },
  {
   "cell_type": "code",
   "execution_count": null,
   "id": "43d3831a-ea9e-4a25-b003-24ff4ad56e6c",
   "metadata": {},
   "outputs": [],
   "source": [
    "import math\n",
    "\n",
    "# prompt the user\n",
    "while True:\n",
    "    user_input = input(\"Enter a positive integer:\")\n",
    "    if not user_input.isdigit() or int(user_input) <= 0:\n",
    "        print(\"Invalid input! Please enter a positive integer:\")\n",
    "        continue\n",
    "\n",
    "    n = int(user_input)\n",
    "    "
   ]
  },
  {
   "cell_type": "code",
   "execution_count": null,
   "id": "c51da23b-56a8-455e-b7c5-29c9fdf4aa58",
   "metadata": {},
   "outputs": [],
   "source": []
  },
  {
   "cell_type": "code",
   "execution_count": null,
   "id": "95fdcac4-cd12-4cfa-8799-6868f1a5323b",
   "metadata": {},
   "outputs": [],
   "source": []
  },
  {
   "cell_type": "code",
   "execution_count": null,
   "id": "d34a64e5-ffc1-4b83-be32-dcebfdb93bf2",
   "metadata": {},
   "outputs": [],
   "source": []
  }
 ],
 "metadata": {
  "kernelspec": {
   "display_name": "Python 3 (ipykernel)",
   "language": "python",
   "name": "python3"
  },
  "language_info": {
   "codemirror_mode": {
    "name": "ipython",
    "version": 3
   },
   "file_extension": ".py",
   "mimetype": "text/x-python",
   "name": "python",
   "nbconvert_exporter": "python",
   "pygments_lexer": "ipython3",
   "version": "3.12.4"
  }
 },
 "nbformat": 4,
 "nbformat_minor": 5
}
