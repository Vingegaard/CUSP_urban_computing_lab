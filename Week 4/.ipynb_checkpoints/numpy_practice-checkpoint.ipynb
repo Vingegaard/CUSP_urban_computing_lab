{
 "cells": [
  {
   "cell_type": "code",
   "execution_count": 1,
   "id": "37aae9bc-2e63-4c49-a4bf-4c06bbe3f488",
   "metadata": {},
   "outputs": [],
   "source": [
    "import numpy as np"
   ]
  },
  {
   "cell_type": "code",
   "execution_count": 29,
   "id": "79327f1c-f83d-4ec5-a445-fccc028bcc8c",
   "metadata": {},
   "outputs": [
    {
     "name": "stdout",
     "output_type": "stream",
     "text": [
      "a:\n",
      " [0 1 2 3 4 5 6 7 8 9] \n",
      "\n",
      "b:\n",
      " [[1. 1. 1.]\n",
      " [1. 1. 1.]\n",
      " [1. 1. 1.]] \n",
      "\n",
      "c:\n",
      " [[ 0  1  2  3]\n",
      " [ 4  5  6  7]\n",
      " [ 8  9 10 11]\n",
      " [12 13 14 15]]\n"
     ]
    }
   ],
   "source": [
    "# Problem 1: array creation\n",
    "\n",
    "# 1 \n",
    "a = np.arange(10)\n",
    "\n",
    "# 2\n",
    "b = np.ones((3,3))\n",
    "\n",
    "# 3\n",
    "c = np.arange(16).reshape(4,4)\n",
    "\n",
    "print('a:\\n',a,'\\n\\nb:\\n', b,'\\n\\nc:\\n', c)"
   ]
  },
  {
   "cell_type": "code",
   "execution_count": 49,
   "id": "900cbb89-9269-46e3-9034-1c20ae210391",
   "metadata": {},
   "outputs": [
    {
     "name": "stdout",
     "output_type": "stream",
     "text": [
      "[[0.87098368 0.4904903  0.17394611 0.65189301 0.87729069]\n",
      " [0.80210654 0.6616362  0.27009807 0.57864583 0.69151454]\n",
      " [0.2768997  0.12855945 0.71096067 0.86063749 0.11259324]\n",
      " [0.39362126 0.30069494 0.79628491 0.59001982 0.83057215]\n",
      " [0.20114097 0.96457786 0.83599594 0.78704676 0.47694642]]\n",
      "0.9645778648511596\n",
      "0.11259323991665615\n"
     ]
    }
   ],
   "source": [
    "# Problem 2: Array operations\n",
    "\n",
    "# 4 \n",
    "d = np.random.rand(25).reshape(5,5)\n",
    "print(d)\n",
    "print(np.max(d))\n",
    "print(np.min(d))"
   ]
  },
  {
   "cell_type": "code",
   "execution_count": 55,
   "id": "772c992a-5f7c-4f89-bb77-1db558fdcde3",
   "metadata": {},
   "outputs": [
    {
     "name": "stdout",
     "output_type": "stream",
     "text": [
      "[0.64555037 0.01616257 0.75220925 0.70397261 0.78889401 0.33136013\n",
      " 0.6524314  0.44407549 0.63059743 0.44339021]\n",
      "0.5408643475512401\n",
      "0.22412526465195756\n"
     ]
    }
   ],
   "source": [
    "# 5\n",
    "\n",
    "e = np.random.rand(10)\n",
    "print(e)\n",
    "print(np.mean(e))\n",
    "print(np.std(e))"
   ]
  },
  {
   "cell_type": "code",
   "execution_count": 177,
   "id": "638d6039-43f8-4cf1-973c-1c41598472eb",
   "metadata": {},
   "outputs": [
    {
     "name": "stdout",
     "output_type": "stream",
     "text": [
      "[[0 1]\n",
      " [2 3]]\n",
      "[[1. 0.]\n",
      " [0. 1.]]\n",
      "[[0. 1.]\n",
      " [2. 3.]]\n"
     ]
    }
   ],
   "source": [
    "# 6\n",
    "f = np.arange(4).reshape(2,2)\n",
    "print(f)\n",
    "\n",
    "g = np.eye(2)\n",
    "print(g)\n",
    "\n",
    "dot_prod = np.dot(f, g)\n",
    "print(dot_prod)"
   ]
  },
  {
   "cell_type": "code",
   "execution_count": 65,
   "id": "ed193a0f-8cb0-478c-b6ce-38d019a4f3b9",
   "metadata": {},
   "outputs": [
    {
     "name": "stdout",
     "output_type": "stream",
     "text": [
      "[10 11 12 13 14 15 16 17 18 19]\n",
      "[13 14 15 16 17 18]\n"
     ]
    }
   ],
   "source": [
    "# Problem 3: Indexing and slicing\n",
    "\n",
    "# 7 \n",
    "h = np.arange(10,20)\n",
    "print(h)\n",
    "print(h[3:9])"
   ]
  },
  {
   "cell_type": "code",
   "execution_count": 71,
   "id": "3f4e652c-b876-481b-ab42-6cfb24c41860",
   "metadata": {},
   "outputs": [
    {
     "name": "stdout",
     "output_type": "stream",
     "text": [
      "[[1 2 3]\n",
      " [4 5 6]\n",
      " [7 8 9]]\n",
      "2 9\n"
     ]
    }
   ],
   "source": [
    "# 8 \n",
    "i = np.arange(1,10).reshape(3,3)\n",
    "print(i)\n",
    "print(i[0,1],i[2,2])"
   ]
  },
  {
   "cell_type": "code",
   "execution_count": 97,
   "id": "330f3e69-79c9-4604-828d-8a3d03de0b52",
   "metadata": {},
   "outputs": [
    {
     "name": "stdout",
     "output_type": "stream",
     "text": [
      "[[0.84711802 0.44398078 0.34542053 0.38598417]\n",
      " [0.76345068 0.9231784  0.23185621 0.04351087]\n",
      " [0.02850702 0.19314868 0.93705827 0.68516343]]\n"
     ]
    }
   ],
   "source": [
    "# Problem 4: Array manipulation\n",
    "# 9\n",
    "k = np.random.rand(12).reshape(3,4)\n",
    "print(k)"
   ]
  },
  {
   "cell_type": "code",
   "execution_count": 111,
   "id": "c39d4f41-ba2e-42a7-a6aa-fa2fd8799ac2",
   "metadata": {},
   "outputs": [
    {
     "name": "stdout",
     "output_type": "stream",
     "text": [
      "[[6 9 6 2]\n",
      " [4 9 3 6]\n",
      " [8 2 8 1]\n",
      " [3 1 7 3]]\n",
      "[6 9 6 2 4 9 3 6 8 2 8 1 3 1 7 3]\n"
     ]
    }
   ],
   "source": [
    "# 10\n",
    "l = np.random.randint(1,10,16).reshape(4,4)\n",
    "print(l)\n",
    "print(l.reshape(16))"
   ]
  },
  {
   "cell_type": "code",
   "execution_count": 181,
   "id": "439be245-7ce2-4f82-befd-71f5b59b3520",
   "metadata": {},
   "outputs": [
    {
     "name": "stdout",
     "output_type": "stream",
     "text": [
      "[0.40084769 0.3274614  0.10254593 0.33355361 0.4551986  0.15110246\n",
      " 0.45017503 0.41141286 0.37285318 0.3844311 ]\n",
      "[1.49308984 1.3874415  1.10798819 1.39591987 1.57648645 1.16311582\n",
      " 1.56858671 1.50894822 1.45187117 1.46877849]\n",
      "[0.69319465 0.69379897 0.79172382 0.69334626 0.69889758 0.75159851\n",
      " 0.69816964 0.69391928 0.6922238  0.69245463]\n"
     ]
    }
   ],
   "source": [
    "# Problem 5: Mathematical functions\n",
    "# 11\n",
    "j = np.random.rand(10)\n",
    "print(j)\n",
    "print(np.exp(j))"
   ]
  },
  {
   "cell_type": "code",
   "execution_count": 137,
   "id": "0b0b22c0-a8c2-4bbe-b380-59baa122f701",
   "metadata": {},
   "outputs": [
    {
     "name": "stdout",
     "output_type": "stream",
     "text": [
      "[44 94  7 96 67]\n",
      "[26 80 23 78 20]\n",
      "sum:  [ 70 174  30 174  87]\n",
      "diff:  [ 18  14 -16  18  47]\n",
      "product:  [1144 7520  161 7488 1340]\n",
      "div:  [1.69230769 1.175      0.30434783 1.23076923 3.35      ]\n"
     ]
    }
   ],
   "source": [
    "# 12\n",
    "m = np.random.randint(1,100,5)\n",
    "n = np.random.randint(1,100,5)\n",
    "\n",
    "print(m)\n",
    "print(n)\n",
    "print(\"sum: \", m + n)\n",
    "print(\"diff: \", m - n)\n",
    "print(\"product: \", m * n)\n",
    "print(\"div: \", m / n)\n"
   ]
  },
  {
   "cell_type": "code",
   "execution_count": 147,
   "id": "afe05872-feef-4b89-a993-7cb3993522e9",
   "metadata": {},
   "outputs": [
    {
     "name": "stdout",
     "output_type": "stream",
     "text": [
      "[[27 63  4 15 49]\n",
      " [69 52  5 80 88]\n",
      " [67 99  3 19 36]\n",
      " [41 93 18 72 60]\n",
      " [92  2 40 12 60]]\n",
      "[59.2 61.8 14.  39.6 58.6]\n",
      "[31.6 58.8 44.8 56.8 41.2]\n"
     ]
    }
   ],
   "source": [
    "# Problem 6: Statistical operations\n",
    "\n",
    "# 13\n",
    "o = np.random.randint(1,100,25).reshape(5,5)\n",
    "print(o)\n",
    "print(np.mean(o, axis=0))\n",
    "print(np.mean(o, axis=1))"
   ]
  },
  {
   "cell_type": "code",
   "execution_count": 149,
   "id": "b666f1b4-858b-42b1-aafb-e609e784680c",
   "metadata": {},
   "outputs": [
    {
     "name": "stdout",
     "output_type": "stream",
     "text": [
      "[68 91 71 71 28 79 65 52 76  4]\n",
      "[ 4 28 52 65 68 71 71 76 79 91]\n"
     ]
    }
   ],
   "source": [
    "# 14\n",
    "\n",
    "p = np.random.randint(1,100,10)\n",
    "print(p)\n",
    "print(np.sort(p))"
   ]
  },
  {
   "cell_type": "code",
   "execution_count": 161,
   "id": "01ae0f88-3bb8-4b38-af12-87b9b7c13791",
   "metadata": {},
   "outputs": [
    {
     "name": "stdout",
     "output_type": "stream",
     "text": [
      "[[1 2 3]\n",
      " [4 5 6]\n",
      " [7 8 9]]\n",
      "[[ 2  3  4]\n",
      " [ 5  6  7]\n",
      " [ 8  9 10]]\n"
     ]
    }
   ],
   "source": [
    "# Problem 7: Broadcasting\n",
    "\n",
    "# 15\n",
    "q = np.arange(1,10).reshape(3,3)\n",
    "print(q)\n",
    "\n",
    "r = np.array([1,1,1])\n",
    "s = (q + r)\n",
    "print(s)"
   ]
  },
  {
   "cell_type": "code",
   "execution_count": 187,
   "id": "b5176732-6f9a-4bd4-aa42-f8db47be60e6",
   "metadata": {},
   "outputs": [
    {
     "name": "stdout",
     "output_type": "stream",
     "text": [
      "[0.26243766 0.42629868 0.61628726 0.39674483 0.82114177 0.58152502\n",
      " 0.81908061 0.38973746 0.42657848 0.07238842]\n",
      "[False False  True False  True  True  True False False False]\n",
      "[0 0 1 0 1 1 1 0 0 0]\n"
     ]
    }
   ],
   "source": [
    "# Problem 8: Boolean indexing\n",
    "\n",
    "# 16\n",
    "t = np.random.rand(10)\n",
    "print(t)\n",
    "x = (t > 0.5)\n",
    "print(x)\n",
    "u = np.where(t > 0.5, 1, 0)\n",
    "print(u)\n"
   ]
  },
  {
   "cell_type": "code",
   "execution_count": 203,
   "id": "b93fd4de-e5a8-4778-a7be-238472c75eaf",
   "metadata": {},
   "outputs": [
    {
     "name": "stdout",
     "output_type": "stream",
     "text": [
      "[8 7 9 2 2]\n",
      "[3 4 9 4 6]\n",
      "[2 3 4 6 7 8 9]\n",
      "[9]\n"
     ]
    }
   ],
   "source": [
    "# Problem 9: set operations\n",
    "\n",
    "arr1 = np.random.randint(1,10,5)\n",
    "arr2 = np.random.randint(1,10,5)\n",
    "print(arr1)\n",
    "print(arr2)\n",
    "\n",
    "uni = np.union1d(arr1, arr2)\n",
    "print(uni)\n",
    "\n",
    "intsec = np.intersect1d(arr1, arr2)\n",
    "print(intsec)"
   ]
  },
  {
   "cell_type": "code",
   "execution_count": 207,
   "id": "9909450c-8b36-4102-8d94-a999a9303e50",
   "metadata": {},
   "outputs": [
    {
     "name": "stdout",
     "output_type": "stream",
     "text": [
      "Matrix:\n",
      " [[1 2]\n",
      " [3 4]]\n",
      "Determinant: -2.0000000000000004\n",
      "Inverse:\n",
      " [[-2.   1. ]\n",
      " [ 1.5 -0.5]]\n"
     ]
    }
   ],
   "source": [
    "# Problem 10\n",
    "# Create a 2x2 matrix\n",
    "matrix = np.array([[1, 2], [3, 4]])\n",
    "\n",
    "# Compute the determinant\n",
    "determinant = np.linalg.det(matrix)\n",
    "\n",
    "# Compute the inverse\n",
    "inverse = np.linalg.inv(matrix)\n",
    "\n",
    "# Display the matrix, determinant, and inverse\n",
    "print(\"Matrix:\\n\", matrix)\n",
    "print(\"Determinant:\", determinant)\n",
    "print(\"Inverse:\\n\", inverse)"
   ]
  },
  {
   "cell_type": "code",
   "execution_count": null,
   "id": "86cb786d-969b-476d-b68d-64fd9077d9f3",
   "metadata": {
    "scrolled": true
   },
   "outputs": [],
   "source": []
  },
  {
   "cell_type": "code",
   "execution_count": null,
   "id": "15945768-4b22-470e-abc4-4a0bfa23cb2b",
   "metadata": {
    "scrolled": true
   },
   "outputs": [],
   "source": [
    "# Problem 11\n",
    "# 1 \n",
    "a = np.arange(0,16).reshape(4,4)\n",
    "b = np.mean(a, axis=1)\n",
    "\n",
    "c = a - b\n",
    "\n",
    "print(a,\"\\n\")\n",
    "print(b,\"\\n\")\n",
    "print(c,\"\\n\")\n",
    "\n",
    "\n",
    "# Problem 12: Array Broadcasting\n",
    "d = np.arange(0,9).reshape(3,3)\n",
    "e = np.array([1,2,3])\n",
    "f = d * e\n",
    "\n",
    "print(d,\"\\n\")\n",
    "print(e,\"\\n\")\n",
    "print(f,\"\\n\")\n",
    "\n",
    "# Problem 13: Advanced indexing\n",
    "mat1 = np.random.rand(25).reshape(5,5)\n",
    "print(mat1)\n",
    "\n",
    "mat2 = mat1[mat1 > 0.5] * -1\n",
    "print(mat2)\n",
    "\n",
    "# Problem 14: Fancy Indexing\n",
    "arr1 = np.array([1,2,3,4,5,6,7,8,9,10])\n",
    "arr1[[1,3,5,7]] = -1\n",
    "print(arr1)\n",
    "\n",
    "# Problem 15: Matrix multiplication\n",
    "arr3 = np.arange(0,9).reshape(3,3)\n",
    "arr4 = np.arange(10,19).reshape(3,3)\n",
    "arr5 = arr3 * arr4\n",
    "print(arr3,\"\\n\")\n",
    "print(arr4,\"\\n\")\n",
    "print(arr5,\"\\n\")"
   ]
  },
  {
   "cell_type": "code",
   "execution_count": 333,
   "id": "2d36dabe-c873-43ad-91f2-1807650e5811",
   "metadata": {
    "scrolled": true
   },
   "outputs": [
    {
     "name": "stdout",
     "output_type": "stream",
     "text": [
      "[[ 0  1  2  3]\n",
      " [ 4  5  6  7]\n",
      " [ 8  9 10 11]\n",
      " [12 13 14 15]] \n",
      "\n",
      "[ 1.5  5.5  9.5 13.5] \n",
      "\n",
      "[[ -1.5  -4.5  -7.5 -10.5]\n",
      " [  2.5  -0.5  -3.5  -6.5]\n",
      " [  6.5   3.5   0.5  -2.5]\n",
      " [ 10.5   7.5   4.5   1.5]] \n",
      "\n"
     ]
    }
   ],
   "source": [
    "# Problem 11\n",
    "# 1 \n",
    "a = np.arange(0,16).reshape(4,4)\n",
    "b = np.mean(a, axis=1)\n",
    "\n",
    "c = a - b\n",
    "\n",
    "print(a,\"\\n\")\n",
    "print(b,\"\\n\")\n",
    "print(c,\"\\n\")\n"
   ]
  },
  {
   "cell_type": "code",
   "execution_count": 327,
   "id": "f6ff4125-b4c0-4b60-a76c-3593c72ee31e",
   "metadata": {},
   "outputs": [
    {
     "name": "stdout",
     "output_type": "stream",
     "text": [
      "[[ 0  1  2  3]\n",
      " [ 4  5  6  7]\n",
      " [ 8  9 10 11]\n",
      " [12 13 14 15]] \n",
      "\n",
      "[[ 1.5]\n",
      " [ 5.5]\n",
      " [ 9.5]\n",
      " [13.5]] \n",
      "\n",
      "[[-1.5 -0.5  0.5  1.5]\n",
      " [-1.5 -0.5  0.5  1.5]\n",
      " [-1.5 -0.5  0.5  1.5]\n",
      " [-1.5 -0.5  0.5  1.5]] \n",
      "\n"
     ]
    }
   ],
   "source": [
    "a = np.arange(0, 16).reshape(4, 4)\n",
    "row_means = a.mean(axis=1, keepdims=True)\n",
    "c = a - row_means\n",
    "\n",
    "print(a, \"\\n\")\n",
    "print(row_means, \"\\n\")\n",
    "print(c, \"\\n\")"
   ]
  },
  {
   "cell_type": "code",
   "execution_count": 345,
   "id": "cac8b790-71cd-451d-9d4c-d44c1f0e7ff6",
   "metadata": {},
   "outputs": [
    {
     "name": "stdout",
     "output_type": "stream",
     "text": [
      "[[0.63620215 0.51371147 0.83840768 0.88637378 0.52009264]\n",
      " [0.98346314 0.2151481  0.65403632 0.37967299 0.09290071]\n",
      " [0.94362738 0.03097087 0.25659916 0.57447213 0.91269506]\n",
      " [0.68689319 0.52548616 0.37087289 0.39671863 0.24736463]\n",
      " [0.88145048 0.2525031  0.38602004 0.17957702 0.94564653]]\n",
      "[[-0.63620215 -0.51371147 -0.83840768 -0.88637378 -0.52009264]\n",
      " [-0.98346314  0.2151481  -0.65403632  0.37967299  0.09290071]\n",
      " [-0.94362738  0.03097087  0.25659916 -0.57447213 -0.91269506]\n",
      " [-0.68689319 -0.52548616  0.37087289  0.39671863  0.24736463]\n",
      " [-0.88145048  0.2525031   0.38602004  0.17957702 -0.94564653]]\n"
     ]
    }
   ],
   "source": [
    "# Problem 13: Advanced indexing\n",
    "mat1 = np.random.rand(25).reshape(5,5)\n",
    "print(mat1)\n",
    "\n",
    "mat1[mat1 > 0.5] *= -1\n",
    "print(mat1)"
   ]
  },
  {
   "cell_type": "code",
   "execution_count": 347,
   "id": "b3a54013-5992-40ce-888d-7bd27897ab0f",
   "metadata": {},
   "outputs": [
    {
     "name": "stdout",
     "output_type": "stream",
     "text": [
      "[[70  9 44  7 14]\n",
      " [ 6 10 89 25 66]\n",
      " [81 65 41 29 36]\n",
      " [24 64 15 51 58]\n",
      " [74 66 98 32 70]]\n",
      "[[70  9 44  7 14]\n",
      " [ 6 10  0 25 66]\n",
      " [ 0 65 41 29 36]\n",
      " [24 64 15 51 58]\n",
      " [74 66  0 32 70]]\n"
     ]
    }
   ],
   "source": [
    "mat2 = np.random.randint(0,100,25).reshape(5,5)\n",
    "print(mat2)\n",
    "\n",
    "mat2[mat2 > 80] = 0\n",
    "print(mat2)"
   ]
  },
  {
   "cell_type": "code",
   "execution_count": 349,
   "id": "dcc57b48-a59d-42a4-8b3c-24948481b78b",
   "metadata": {},
   "outputs": [
    {
     "name": "stdout",
     "output_type": "stream",
     "text": [
      "[[0 1 2]\n",
      " [3 4 5]\n",
      " [6 7 8]] \n",
      "\n",
      "[[10 11 12]\n",
      " [13 14 15]\n",
      " [16 17 18]] \n",
      "\n",
      "[[  0  11  24]\n",
      " [ 39  56  75]\n",
      " [ 96 119 144]] \n",
      "\n"
     ]
    }
   ],
   "source": [
    "# Problem 15: Matrix multiplication\n",
    "arr3 = np.arange(0,9).reshape(3,3)\n",
    "arr4 = np.arange(10,19).reshape(3,3)\n",
    "arr5 = arr3 * arr4\n",
    "print(arr3,\"\\n\")\n",
    "print(arr4,\"\\n\")\n",
    "print(arr5,\"\\n\")"
   ]
  },
  {
   "cell_type": "code",
   "execution_count": 351,
   "id": "ff6415a5-165a-4b99-93f8-2ac7eb68452e",
   "metadata": {},
   "outputs": [
    {
     "name": "stdout",
     "output_type": "stream",
     "text": [
      "[[0 1 2]\n",
      " [3 4 5]\n",
      " [6 7 8]] \n",
      "\n",
      "[[10 11 12]\n",
      " [13 14 15]\n",
      " [16 17 18]] \n",
      "\n",
      "[[ 45  48  51]\n",
      " [162 174 186]\n",
      " [279 300 321]] \n",
      "\n"
     ]
    }
   ],
   "source": [
    "# Problem 15: Matrix multiplication\n",
    "arr3 = np.arange(0,9).reshape(3,3)\n",
    "arr4 = np.arange(10,19).reshape(3,3)\n",
    "arr5 = np.dot(arr3, arr4)\n",
    "print(arr3,\"\\n\")\n",
    "print(arr4,\"\\n\")\n",
    "print(arr5,\"\\n\")"
   ]
  },
  {
   "cell_type": "code",
   "execution_count": null,
   "id": "b2467bc5-d3b6-4ba2-bfea-e5fd1a0a3288",
   "metadata": {},
   "outputs": [],
   "source": []
  }
 ],
 "metadata": {
  "kernelspec": {
   "display_name": "Python 3 (ipykernel)",
   "language": "python",
   "name": "python3"
  },
  "language_info": {
   "codemirror_mode": {
    "name": "ipython",
    "version": 3
   },
   "file_extension": ".py",
   "mimetype": "text/x-python",
   "name": "python",
   "nbconvert_exporter": "python",
   "pygments_lexer": "ipython3",
   "version": "3.12.4"
  }
 },
 "nbformat": 4,
 "nbformat_minor": 5
}
