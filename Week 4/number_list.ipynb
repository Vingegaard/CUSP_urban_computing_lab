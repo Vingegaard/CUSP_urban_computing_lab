{
 "cells": [
  {
   "cell_type": "code",
   "execution_count": 3,
   "id": "40a42980-8e8a-4026-b44e-48437196db57",
   "metadata": {},
   "outputs": [
    {
     "name": "stdout",
     "output_type": "stream",
     "text": [
      "[1, 2, 3, 4, 5, 6, 7, 8, 9, 10, 11, 12, 13, 14, 15, 16, 17, 18, 19, 20, 21, 22, 23, 24, 25, 26, 27, 28, 29, 30]\n"
     ]
    }
   ],
   "source": [
    "zero_thir = []\n",
    "\n",
    "for i in range(1,31):\n",
    "    zero_thir.append(i)\n",
    "\n",
    "print(zero_thir)"
   ]
  },
  {
   "cell_type": "code",
   "execution_count": 11,
   "id": "9daf3619-f77d-4773-9f21-f36b83a929f1",
   "metadata": {},
   "outputs": [
    {
     "name": "stdout",
     "output_type": "stream",
     "text": [
      "[30, 31, 32, 33, 34, 35, 36, 37, 38, 39, 40, 41, 42, 43, 44, 45, 46, 47, 48, 49, 50, 51, 52, 53, 54, 55, 56, 57, 58, 59, 60, 61, 62, 63, 64, 65, 66, 67, 68, 69, 70, 71, 72, 73, 74, 75, 76, 77, 78, 79, 80, 81, 82, 83, 84, 85, 86, 87, 88, 89, 90, 91, 92, 93, 94, 95, 96, 97, 98, 99, 100]\n"
     ]
    }
   ],
   "source": [
    "thir_hun = []\n",
    "i = 30\n",
    "\n",
    "while i <= 100:\n",
    "    thir_hun.append(i)\n",
    "    i += 1\n",
    "\n",
    "print(thir_hun)"
   ]
  }
 ],
 "metadata": {
  "kernelspec": {
   "display_name": "Python 3 (ipykernel)",
   "language": "python",
   "name": "python3"
  },
  "language_info": {
   "codemirror_mode": {
    "name": "ipython",
    "version": 3
   },
   "file_extension": ".py",
   "mimetype": "text/x-python",
   "name": "python",
   "nbconvert_exporter": "python",
   "pygments_lexer": "ipython3",
   "version": "3.12.4"
  }
 },
 "nbformat": 4,
 "nbformat_minor": 5
}
