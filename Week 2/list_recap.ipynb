{
 "cells": [
  {
   "cell_type": "code",
   "execution_count": 89,
   "id": "4b7b7922-d507-4a64-8981-8bfe096d6305",
   "metadata": {},
   "outputs": [
    {
     "name": "stdout",
     "output_type": "stream",
     "text": [
      "[2, 4, 2, 1]\n",
      "[2, 4, 9, 2, 1]\n",
      "[2, 4, 9, 2, 1, 5, 6]\n",
      "[2, 4, 9, 2, 1, 5, 6, [5, 6]]\n",
      "[2, 4, 9, 2, 1, 5, 6, [5, 6], 1]\n",
      "[2, 4, 9, 2, 1, 5, 6, 1]\n",
      "[1, 1, 2, 2, 4, 5, 6, 9]\n"
     ]
    }
   ],
   "source": [
    "lst = [2, 4, 2]\n",
    "lst.append(1)\n",
    "print(lst)\n",
    "lst.insert(2,9)\n",
    "print(lst)\n",
    "lst.extend([5,6])\n",
    "print(lst)\n",
    "lst.append([5,6])\n",
    "print(lst)\n",
    "lst.insert(20,1)\n",
    "print(lst)\n",
    "lst.pop(-2)\n",
    "print(lst)\n",
    "lst.sort()\n",
    "print(lst)"
   ]
  },
  {
   "cell_type": "code",
   "execution_count": 97,
   "id": "9bf442b5-917f-4fd8-bba8-c5a11cd1a6ee",
   "metadata": {},
   "outputs": [
    {
     "name": "stdout",
     "output_type": "stream",
     "text": [
      "Please enter a positive integer:\n"
     ]
    },
    {
     "name": "stdin",
     "output_type": "stream",
     "text": [
      " 90\n"
     ]
    },
    {
     "name": "stdout",
     "output_type": "stream",
     "text": [
      "[3, 4, 2, 1, 6, 5, 1, 5, 3, 2, 1, 6, 3, 2, 1, 6, 4, 6, 1, 4, 6, 3, 6, 2, 5, 6, 5, 3, 5, 3, 2, 5, 2, 1, 6, 2, 1, 6, 4, 1, 2, 1, 6, 1, 1, 6, 5, 3, 2, 4, 2, 2, 6, 4, 4, 3, 4, 6, 3, 2, 4, 3, 4, 5, 3, 5, 4, 6, 2, 5, 1, 3, 2, 2, 2, 5, 1, 2, 6, 1, 3, 5, 2, 4, 5, 5, 6, 5, 1, 1]\n"
     ]
    }
   ],
   "source": [
    "# Roll the dice\n",
    "import random\n",
    "\n",
    "def list_of_dice_rolls(n):\n",
    "    res_lst = []\n",
    "    for count in range(n):\n",
    "        curr_roll = random.randint(1, 6)\n",
    "        res_lst.append(curr_roll)\n",
    "    return res_lst\n",
    "\n",
    "def main():\n",
    "    print(\"Please enter a positive integer:\")\n",
    "    input_num = int(input())\n",
    "\n",
    "    dice_roll_results = list_of_dice_rolls(input_num)\n",
    "    print(dice_roll_results)\n",
    "\n",
    "main()"
   ]
  },
  {
   "cell_type": "code",
   "execution_count": 103,
   "id": "15be1479-8272-48b7-b2a1-18cec9c561b5",
   "metadata": {},
   "outputs": [
    {
     "name": "stdout",
     "output_type": "stream",
     "text": [
      "Enter grades in separate lines. To end the input type 'done': \n"
     ]
    },
    {
     "name": "stdin",
     "output_type": "stream",
     "text": [
      " 30\n",
      " 50\n",
      " 60\n",
      " 70\n",
      " 80\n",
      " done\n"
     ]
    },
    {
     "name": "stdout",
     "output_type": "stream",
     "text": [
      "The class average is 58.0\n",
      "[60, 70, 80]\n"
     ]
    }
   ],
   "source": [
    "# Above the average\n",
    "\n",
    "def read_list():\n",
    "    seen_done = False\n",
    "    res_list = []\n",
    "    while(seen_done == False):\n",
    "        curr_input = input()\n",
    "        if (curr_input == 'done'):\n",
    "            seen_done = True\n",
    "        else:\n",
    "            curr = int(curr_input)\n",
    "            res_list.append(curr)\n",
    "    return res_list\n",
    "\n",
    "def calc_average(lst):\n",
    "    elems_sum = 0\n",
    "    for elem in lst:\n",
    "        elems_sum += elem\n",
    "    average = elems_sum / len(lst)\n",
    "    return average\n",
    "\n",
    "def filter_above_value(lst, val):\n",
    "    res_list = []\n",
    "    for elem in lst:\n",
    "        if (elem > val):\n",
    "            res_list.append(elem)\n",
    "    return res_list\n",
    "\n",
    "def main():\n",
    "    print(\"Enter grades in separate lines. To end the input type 'done': \")\n",
    "    grades_list = read_list()\n",
    "    average = calc_average(grades_list)\n",
    "    print(\"The class average is\", average)\n",
    "    above_avg_list = filter_above_value(grades_list, average)\n",
    "    print(above_avg_list)\n",
    "    \n",
    "main()"
   ]
  },
  {
   "cell_type": "code",
   "execution_count": 117,
   "id": "f7c4eec4-f7b7-4155-8ae2-1857ca47f168",
   "metadata": {},
   "outputs": [
    {
     "name": "stdout",
     "output_type": "stream",
     "text": [
      "None\n"
     ]
    }
   ],
   "source": [
    "# Square the list\n",
    "# 1. Constructing a new list\n",
    "\n",
    "def create_sqr_list(lst):\n",
    "    res_lst = []\n",
    "    for elem in lst:\n",
    "        res_lst.append(elem*elem)\n",
    "    return res_lst\n",
    "\n",
    "create_sqr_list(lst)\n",
    "\n",
    "# 2. Mutating the list\n",
    "\n",
    "def sqr_list_in_place(lst):\n",
    "    for elem in lst:\n",
    "        elem = elem*elem  # this will not work. It actually creates lest.\n",
    "\n",
    "def sqr_list_in_place(lst):\n",
    "    for i in range(len(lst)):\n",
    "        lst[i] = lst[i]*lst[i]\n",
    "        "
   ]
  },
  {
   "cell_type": "code",
   "execution_count": 119,
   "id": "cdf5ca59-d7c8-4646-bac4-3a337ea15441",
   "metadata": {},
   "outputs": [
    {
     "data": {
      "image/png": "[encoded data removed]",
      "text/plain": [
       "<Figure size 1200x500 with 2 Axes>"
      ]
     },
     "metadata": {},
     "output_type": "display_data"
    }
   ],
   "source": [
    "import matplotlib.pyplot as plt\n",
    "import pandas as pd\n",
    "\n",
    "# Original data\n",
    "data = {'Apples': [120, 150, 100, 130, 180], 'Oranges': [3, 7, 5, 9, 2]}\n",
    "df = pd.DataFrame(data)\n",
    "\n",
    "# Normalizing the data\n",
    "df_normalized = (df - df.min()) / (df.max() - df.min())\n",
    "\n",
    "# Plotting\n",
    "fig, axs = plt.subplots(1, 2, figsize=(12, 5))\n",
    "\n",
    "df.plot.bar(ax=axs[0], title=\"Original Data\")\n",
    "df_normalized.plot.bar(ax=axs[1], title=\"Normalized Data\")\n",
    "\n",
    "plt.xlabel(\"Days\")\n",
    "plt.ylabel(\"Sales\")\n",
    "plt.show()"
   ]
  },
  {
   "cell_type": "code",
   "execution_count": 133,
   "id": "86739bd8-3d89-44b0-a419-7faa3f536719",
   "metadata": {},
   "outputs": [
    {
     "data": {
      "text/plain": [
       "144"
      ]
     },
     "execution_count": 133,
     "metadata": {},
     "output_type": "execute_result"
    }
   ],
   "source": [
    "def my_sum(x, y, z=3):\n",
    "    sum=(x+y)*3\n",
    "    return sum**2\n",
    "\n",
    "my_sum(2,2)"
   ]
  },
  {
   "cell_type": "code",
   "execution_count": 135,
   "id": "70c09442-d644-43d9-8b88-d52011fd29a6",
   "metadata": {},
   "outputs": [
    {
     "ename": "ZeroDivisionError",
     "evalue": "division by zero",
     "output_type": "error",
     "traceback": [
      "\u001b[0;31m---------------------------------------------------------------------------\u001b[0m",
      "\u001b[0;31mZeroDivisionError\u001b[0m                         Traceback (most recent call last)",
      "Cell \u001b[0;32mIn[135], line 1\u001b[0m\n\u001b[0;32m----> 1\u001b[0m \u001b[38;5;241m10\u001b[39m\u001b[38;5;241m/\u001b[39m\u001b[38;5;241m0\u001b[39m\n",
      "\u001b[0;31mZeroDivisionError\u001b[0m: division by zero"
     ]
    }
   ],
   "source": [
    "10/0"
   ]
  },
  {
   "cell_type": "code",
   "execution_count": null,
   "id": "89ac4fd8-86e1-4ec3-b295-b39e3fc23a60",
   "metadata": {},
   "outputs": [],
   "source": []
  }
 ],
 "metadata": {
  "kernelspec": {
   "display_name": "Python 3 (ipykernel)",
   "language": "python",
   "name": "python3"
  },
  "language_info": {
   "codemirror_mode": {
    "name": "ipython",
    "version": 3
   },
   "file_extension": ".py",
   "mimetype": "text/x-python",
   "name": "python",
   "nbconvert_exporter": "python",
   "pygments_lexer": "ipython3",
   "version": "3.12.4"
  }
 },
 "nbformat": 4,
 "nbformat_minor": 5
}
