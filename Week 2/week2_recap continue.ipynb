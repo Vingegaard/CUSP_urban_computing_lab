{
 "cells": [
  {
   "cell_type": "code",
   "execution_count": null,
   "id": "9b35d889-dd47-43aa-af76-b9b23efe7493",
   "metadata": {},
   "outputs": [
    {
     "name": "stdin",
     "output_type": "stream",
     "text": [
      "Enter the length of side:  1000\n"
     ]
    }
   ],
   "source": [
    "import turtle\n",
    "user_input = input(\"Enter the length of side: \")\n",
    "side_len = int(user_input)\n",
    "\n",
    "turtle.forward(side_len)\n",
    "turtle.right(90)\n",
    "turtle.forward(side_len)\n",
    "turtle.right(90)\n",
    "turtle.forward(side_len)\n",
    "turtle.right(90)\n",
    "turtle.forward(side_len)\n",
    "turtle.right(90)\n",
    "\n",
    "turtle.hideturtle()\n",
    "turtle.done()"
   ]
  },
  {
   "cell_type": "code",
   "execution_count": 1,
   "id": "80d4ea99-5d0a-4113-8d06-5e47e2430a8a",
   "metadata": {},
   "outputs": [
    {
     "name": "stdin",
     "output_type": "stream",
     "text": [
      "Enter the length of a:  2\n",
      "Enter the length of b:  100\n"
     ]
    },
    {
     "data": {
      "text/plain": [
       "<function turtle.mainloop()>"
      ]
     },
     "execution_count": 1,
     "metadata": {},
     "output_type": "execute_result"
    }
   ],
   "source": [
    "import turtle\n",
    "import math\n",
    "answer1 = input(\"Enter the length of a: \")\n",
    "answer2 = input(\"Enter the length of b: \")\n",
    "\n",
    "a = float(answer1)\n",
    "b = float(answer2)\n",
    "c = math.sqrt(a**2 + b**2)\n",
    "\n",
    "\n",
    "alpha_radians = math.atan(a / b)\n",
    "alpha = math.degrees(alpha_radians)\n",
    "beta = 90 - alpha\n",
    "\n",
    "turtle.forward(a)\n",
    "turtle.left(90)\n",
    "turtle.forward(b)\n",
    "turtle.left(180 - alpha)\n",
    "turtle.forward(c)\n",
    "turtle.left(180 - beta)\n",
    "turtle.hideturtle()\n",
    "\n",
    "turtle.done\n"
   ]
  },
  {
   "cell_type": "code",
   "execution_count": 7,
   "id": "16a20207-9c97-46b7-a2e1-6f2f69cdd609",
   "metadata": {},
   "outputs": [
    {
     "name": "stdout",
     "output_type": "stream",
     "text": [
      "abc\n",
      "d\n"
     ]
    }
   ],
   "source": [
    "print(\"abc\\nd\")"
   ]
  },
  {
   "cell_type": "code",
   "execution_count": 5,
   "id": "c4e9a78f-a1cc-41d5-a516-a1bae401b231",
   "metadata": {},
   "outputs": [
    {
     "name": "stdout",
     "output_type": "stream",
     "text": [
      "Give me three random words: \n"
     ]
    },
    {
     "name": "stdin",
     "output_type": "stream",
     "text": [
      "Word1:  Janny\n",
      "word2:  Pacsun\n",
      "word3:  Many\n"
     ]
    },
    {
     "name": "stdout",
     "output_type": "stream",
     "text": [
      "Janny\n"
     ]
    }
   ],
   "source": [
    "# First word\n",
    "\n",
    "print(\"Give me three random words: \")\n",
    "word1 = input(\"Word1: \")\n",
    "word2 = input(\"word2: \")\n",
    "word3 = input(\"word3: \")\n",
    "\n",
    "if (word1 < word2) and (word1 < word3):\n",
    "    print(word1)\n",
    "elif (word2 < word1) and (word2 < word3):\n",
    "    print(word2)\n",
    "else:\n",
    "    print(word3)\n"
   ]
  },
  {
   "cell_type": "code",
   "execution_count": 25,
   "id": "f10e165e-045a-4c49-ba7d-d5d378c3e783",
   "metadata": {},
   "outputs": [
    {
     "name": "stdout",
     "output_type": "stream",
     "text": [
      "Please enter your name\n"
     ]
    },
    {
     "name": "stdin",
     "output_type": "stream",
     "text": [
      "Your name:  Andrew Hwang\n"
     ]
    },
    {
     "name": "stdout",
     "output_type": "stream",
     "text": [
      "First_name: Andrew\n",
      "Last_name: Hwang\n",
      "Initials: AH\n"
     ]
    }
   ],
   "source": [
    "# First and last name\n",
    "\n",
    "print(\"Please enter your name\")\n",
    "name = input(\"Your name: \")\n",
    "\n",
    "space = name.find(' ')\n",
    "first_name = name[:space]\n",
    "last_name = name[space + 1:]\n",
    "initial = first_name[0] + last_name[0]\n",
    "\n",
    "print(f\"First_name: {first_name}\")\n",
    "print(f\"Last_name: {last_name}\")\n",
    "print(f\"Initials: {initial}\")\n"
   ]
  },
  {
   "cell_type": "code",
   "execution_count": 39,
   "id": "ca86a742-47d7-4e30-8c43-b321fc914691",
   "metadata": {},
   "outputs": [
    {
     "name": "stdout",
     "output_type": "stream",
     "text": [
      "Please enter a line of text: \n"
     ]
    },
    {
     "name": "stdin",
     "output_type": "stream",
     "text": [
      " I had Petey burger for my dinner.\n"
     ]
    },
    {
     "name": "stdout",
     "output_type": "stream",
     "text": [
      "You typed 7 words.\n"
     ]
    }
   ],
   "source": [
    "# Iterating over strings\n",
    "# 1. While loop\n",
    "\n",
    "print(\"Please enter a line of text: \")\n",
    "line = input()\n",
    "\n",
    "space_counts = 0\n",
    "ind = 0\n",
    "\n",
    "while (ind < len(line)) :\n",
    "    curr_char = line[ind]\n",
    "    if curr_char == \" \":\n",
    "        space_counts += 1\n",
    "    ind += 1\n",
    "\n",
    "words = space_counts + 1\n",
    "print(f\"You typed {words} words.\")\n",
    "\n"
   ]
  },
  {
   "cell_type": "code",
   "execution_count": 37,
   "id": "b842f682-4652-42d3-82ed-ef6d5906eddb",
   "metadata": {},
   "outputs": [
    {
     "name": "stdout",
     "output_type": "stream",
     "text": [
      "Please enter a line of text: \n"
     ]
    },
    {
     "name": "stdin",
     "output_type": "stream",
     "text": [
      " let it be\n"
     ]
    },
    {
     "name": "stdout",
     "output_type": "stream",
     "text": [
      "You typed 3 words.\n"
     ]
    }
   ],
   "source": [
    "# 2. For loop\n",
    "\n",
    "print(\"Please enter a line of text: \")\n",
    "line = input()\n",
    "\n",
    "space_counts = 0\n",
    "\n",
    "for ind in range(len(line)):\n",
    "    curr_char = line[ind]\n",
    "    if curr_char == \" \":\n",
    "        space_counts += 1\n",
    "\n",
    "words = space_counts + 1\n",
    "print(f\"You typed {words} words.\")\n",
    "\n"
   ]
  },
  {
   "cell_type": "code",
   "execution_count": 47,
   "id": "c9ebc092-4963-4e01-91e6-7cd2daca3346",
   "metadata": {},
   "outputs": [
    {
     "name": "stdout",
     "output_type": "stream",
     "text": [
      "Please enter a line of text: \n"
     ]
    },
    {
     "name": "stdin",
     "output_type": "stream",
     "text": [
      " let it be\n"
     ]
    },
    {
     "name": "stdout",
     "output_type": "stream",
     "text": [
      "You typed 3 words.\n"
     ]
    }
   ],
   "source": [
    "# 3. For loop with curr_char\n",
    "\n",
    "print(\"Please enter a line of text: \")\n",
    "line = input()\n",
    "\n",
    "space_counts = 0\n",
    "\n",
    "for curr_char in line:\n",
    "    if curr_char == \" \":\n",
    "        space_counts += 1\n",
    "\n",
    "words = space_counts + 1\n",
    "print(f\"You typed {words} words.\")\n"
   ]
  },
  {
   "cell_type": "code",
   "execution_count": 18,
   "id": "e3c260df-4887-451a-b838-1bc760b9785b",
   "metadata": {},
   "outputs": [
    {
     "name": "stdout",
     "output_type": "stream",
     "text": [
      "10.0\n",
      "0.5\n"
     ]
    }
   ],
   "source": [
    "x = 10.5\n",
    "print(x // 1)\n",
    "print(x % 1)"
   ]
  },
  {
   "cell_type": "markdown",
   "id": "19ce27cb-bf26-4c76-8cd4-db165ab1a455",
   "metadata": {},
   "source": [
    "# "
   ]
  },
  {
   "cell_type": "code",
   "execution_count": null,
   "id": "46e47044-14e0-426a-8a76-ca816dce9277",
   "metadata": {},
   "outputs": [],
   "source": []
  },
  {
   "cell_type": "code",
   "execution_count": null,
   "id": "ff9281af-b092-4af7-a10f-e8d9db795472",
   "metadata": {},
   "outputs": [],
   "source": []
  },
  {
   "cell_type": "code",
   "execution_count": null,
   "id": "f8fd237a-6786-4b11-b96d-479251a7ffe8",
   "metadata": {},
   "outputs": [],
   "source": []
  },
  {
   "cell_type": "code",
   "execution_count": null,
   "id": "fa7be4e9-12f7-4814-8cf5-7384c01925b7",
   "metadata": {},
   "outputs": [],
   "source": []
  },
  {
   "cell_type": "code",
   "execution_count": null,
   "id": "a0236970-23fb-4529-a00e-11864e385a62",
   "metadata": {},
   "outputs": [],
   "source": []
  }
 ],
 "metadata": {
  "kernelspec": {
   "display_name": "Python 3 (ipykernel)",
   "language": "python",
   "name": "python3"
  },
  "language_info": {
   "codemirror_mode": {
    "name": "ipython",
    "version": 3
   },
   "file_extension": ".py",
   "mimetype": "text/x-python",
   "name": "python",
   "nbconvert_exporter": "python",
   "pygments_lexer": "ipython3",
   "version": "3.12.4"
  }
 },
 "nbformat": 4,
 "nbformat_minor": 5
}
