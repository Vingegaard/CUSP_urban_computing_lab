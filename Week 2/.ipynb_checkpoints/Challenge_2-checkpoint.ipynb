{
 "cells": [
  {
   "cell_type": "markdown",
   "id": "62a2f2c2-51ae-424e-97f4-0398fbe8395e",
   "metadata": {},
   "source": [
    "# Week2 Challenge"
   ]
  },
  {
   "cell_type": "code",
   "execution_count": 15,
   "id": "e35d3eca-9ba1-4355-bffc-3499fc9cd29f",
   "metadata": {},
   "outputs": [
    {
     "name": "stdout",
     "output_type": "stream",
     "text": [
      "[3, 7, 4, 1, 5, 9]\n"
     ]
    }
   ],
   "source": [
    "# Task 1: Lists\n",
    "my_list = [3, 1, 4, 1, 5, 9]\n",
    "\n",
    "# Task 1.1: Append an element\n",
    "my_list.append(8)\n",
    "\n",
    "# Task 1.2: Update the second element\n",
    "my_list[1] = 7\n",
    "\n",
    "# Task 1.3: Remove the last element\n",
    "my_list.pop()\n",
    "\n",
    "# Task 1.4: Print the updated list\n",
    "print(my_list)"
   ]
  },
  {
   "cell_type": "code",
   "execution_count": 25,
   "id": "9c10289b-b896-4bc9-92a6-1667bad87c0f",
   "metadata": {},
   "outputs": [
    {
     "name": "stdout",
     "output_type": "stream",
     "text": [
      "(1, 'apple', 3.5, 2, 'banana', 4.5)\n"
     ]
    }
   ],
   "source": [
    "# Task 2: Tuples\n",
    "my_tuple = (1, 'apple', 3.5)\n",
    "\n",
    "# Task 2.1: Access the second element\n",
    "my_tuple[1]\n",
    "\n",
    "# Task 2.2: Concatenate two tuple\n",
    "my_tuple2 = (2, 'banana', 4.5)\n",
    "my_tuple3 = my_tuple + my_tuple2\n",
    "\n",
    "# Task 2.3: Check if an element exists in the tuple\n",
    "'pineapple' in my_tuple3\n",
    "'banana' in my_tuple3\n",
    "\n",
    "# Task 2.4: Print the final tuple\n",
    "print(my_tuple3)"
   ]
  },
  {
   "cell_type": "code",
   "execution_count": 53,
   "id": "1ff8407f-84d3-4438-940e-628587082e92",
   "metadata": {},
   "outputs": [
    {
     "name": "stdout",
     "output_type": "stream",
     "text": [
      "{'a': -1, 'c': 3, 'd': 4}\n"
     ]
    }
   ],
   "source": [
    "# Task 3: Dictionaries\n",
    "my_dict = {'a': 1, 'b': 2, 'c': 3}\n",
    "\n",
    "# Task 3.1: Add a new key-value pair to the dictionary\n",
    "my_dict.setdefault('d', 4)\n",
    "\n",
    "# Task 3.2: Update the value of an existing key\n",
    "my_dict['a'] = -1\n",
    "\n",
    "# Task 3.3: Remove a key-value pair from the dictionary\n",
    "my_dict.pop('b')\n",
    "\n",
    "# Task 3.4: Print\n",
    "print(my_dict)"
   ]
  },
  {
   "cell_type": "markdown",
   "id": "91221f29-484f-4c59-a28a-faca9c1ab1bb",
   "metadata": {},
   "source": [
    "### End of Assignment"
   ]
  }
 ],
 "metadata": {
  "kernelspec": {
   "display_name": "Python 3 (ipykernel)",
   "language": "python",
   "name": "python3"
  },
  "language_info": {
   "codemirror_mode": {
    "name": "ipython",
    "version": 3
   },
   "file_extension": ".py",
   "mimetype": "text/x-python",
   "name": "python",
   "nbconvert_exporter": "python",
   "pygments_lexer": "ipython3",
   "version": "3.12.4"
  }
 },
 "nbformat": 4,
 "nbformat_minor": 5
}
