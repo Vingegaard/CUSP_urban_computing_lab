{
 "cells": [
  {
   "cell_type": "markdown",
   "id": "4586618a-ff21-483e-9f99-37e9d4d36941",
   "metadata": {},
   "source": [
    "## Character Type"
   ]
  },
  {
   "cell_type": "code",
   "execution_count": 1,
   "id": "ea06817f-2b4a-4d58-bd48-4375c158f5b7",
   "metadata": {},
   "outputs": [
    {
     "name": "stdin",
     "output_type": "stream",
     "text": [
      "Enter a character:  0\n"
     ]
    },
    {
     "name": "stdout",
     "output_type": "stream",
     "text": [
      "0 is a digit.\n"
     ]
    }
   ],
   "source": [
    "# Create user input\n",
    "\n",
    "char_len1 = input(\"Enter a character: \")\n",
    "check_len = int(len(char_len1))\n",
    "\n",
    "# Return to input if string length is more than 1 \n",
    "while check_len != 1:\n",
    "    char_len1 = input(\"Your string length is not 1. Please enter a single character: \")\n",
    "    check_len = len(char_len1)\n",
    "    \n",
    "# Analyse character\n",
    "check_low = char_len1[0].islower()\n",
    "check_up = char_len1[0].isupper()\n",
    "check_dig = char_len1[0].isdigit()\n",
    "check_alnum = char_len1[0].isalnum()\n",
    "\n",
    "if check_low == 1:\n",
    "    print(f\"{char_len1} is a lower case letter.\")\n",
    "elif check_up == 1:\n",
    "    print(f\"{char_len1} is a upper case letter.\")\n",
    "elif check_dig == 1:\n",
    "    print(f\"{char_len1} is a digit.\")\n",
    "elif check_alnum == 0:\n",
    "    print(f\"{char_len1} is a non-alphanumeric character.\")\n"
   ]
  },
  {
   "cell_type": "code",
   "execution_count": null,
   "id": "8e8955f0-bc4b-4bf7-afb0-d43e21875f06",
   "metadata": {},
   "outputs": [],
   "source": []
  }
 ],
 "metadata": {
  "kernelspec": {
   "display_name": "Python 3 (ipykernel)",
   "language": "python",
   "name": "python3"
  },
  "language_info": {
   "codemirror_mode": {
    "name": "ipython",
    "version": 3
   },
   "file_extension": ".py",
   "mimetype": "text/x-python",
   "name": "python",
   "nbconvert_exporter": "python",
   "pygments_lexer": "ipython3",
   "version": "3.12.4"
  }
 },
 "nbformat": 4,
 "nbformat_minor": 5
}
