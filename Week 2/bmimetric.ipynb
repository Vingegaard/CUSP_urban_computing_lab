{
 "cells": [
  {
   "cell_type": "markdown",
   "id": "b960913b-c652-4cdc-9c61-1e052ef2c082",
   "metadata": {},
   "source": [
    "## BMI Metric Calculator"
   ]
  },
  {
   "cell_type": "code",
   "execution_count": 32,
   "id": "fe96fd37-819c-45b4-b0d8-2cb0d976633b",
   "metadata": {},
   "outputs": [
    {
     "name": "stdin",
     "output_type": "stream",
     "text": [
      "Type your weight(in kg):  68\n",
      "Type your height(in cm):  171\n"
     ]
    },
    {
     "name": "stdout",
     "output_type": "stream",
     "text": [
      "Your bmi is 23.26 and you have a healthy weight.\n"
     ]
    }
   ],
   "source": [
    "# Define BMI\n",
    "\n",
    "def bmi_calculation (weight, height):\n",
    "    bmi = weight / (height ** 2)\n",
    "    return bmi\n",
    "\n",
    "\n",
    "\n",
    "# Create input\n",
    "weight = float(input(\"Type your weight(in kg): \"))\n",
    "height = float(input(\"Type your height(in cm): \")) / 100  # Using 'centimeter' scale is more common. \n",
    "\n",
    "# Calculate BMI\n",
    "your_bmi = bmi_calculation (weight, height)\n",
    "\n",
    "# Analyse BMI \n",
    "if (your_bmi < 18.5):\n",
    "    print(f\"Your bmi is {your_bmi:.2f} and you are underweight.\")\n",
    "elif (18.5 <= your_bmi < 25):\n",
    "    print(f\"Your bmi is {your_bmi:.2f} and you have a healthy weight.\")\n",
    "elif (25 <= your_bmi < 30):\n",
    "    print(f\"Your bmi is {your_bmi:.2f} and you are overweight.\")\n",
    "elif (30 <= your_bmi < 35):\n",
    "    print(f\"Your bmi is {your_bmi:.2f} and you are in class 1 obesity.\")\n",
    "elif (35 <= your_bmi < 40):\n",
    "    print(f\"Your bmi is {your_bmi:.2f} and you are in class 2 obesity.\")\n",
    "else:\n",
    "    print(f\"Your bmi is {your_bmi:.2f} and you are in class 3 obesity.\")\n",
    "\n",
    "\n"
   ]
  },
  {
   "cell_type": "code",
   "execution_count": 22,
   "id": "f0ed2577-ec2b-4128-b819-11e989dcbd1b",
   "metadata": {},
   "outputs": [
    {
     "name": "stdin",
     "output_type": "stream",
     "text": [
      "Type your target bmi:  25\n",
      "Type your height(in cm):  171\n"
     ]
    },
    {
     "name": "stdout",
     "output_type": "stream",
     "text": [
      "73.10249999999999\n"
     ]
    }
   ],
   "source": [
    "def bmi_back(bmi, height):\n",
    "    weight = (height ** 2) * bmi\n",
    "    return weight\n",
    "\n",
    "bmi = float(input(\"Type your target bmi: \"))\n",
    "height = float(input(\"Type your height(in cm): \")) / 100\n",
    "\n",
    "your_weight = bmi_back(bmi, height)\n",
    "print(your_weight)\n"
   ]
  },
  {
   "cell_type": "code",
   "execution_count": null,
   "id": "2460c584-1539-4fb3-93b2-ff8e025d6c13",
   "metadata": {},
   "outputs": [],
   "source": []
  }
 ],
 "metadata": {
  "kernelspec": {
   "display_name": "Python 3 (ipykernel)",
   "language": "python",
   "name": "python3"
  },
  "language_info": {
   "codemirror_mode": {
    "name": "ipython",
    "version": 3
   },
   "file_extension": ".py",
   "mimetype": "text/x-python",
   "name": "python",
   "nbconvert_exporter": "python",
   "pygments_lexer": "ipython3",
   "version": "3.12.4"
  }
 },
 "nbformat": 4,
 "nbformat_minor": 5
}
