{
 "cells": [
  {
   "cell_type": "markdown",
   "id": "b6a059f8-14f5-4835-907f-42859bb20190",
   "metadata": {},
   "source": [
    "## String Splitter#"
   ]
  },
  {
   "cell_type": "code",
   "execution_count": 19,
   "id": "9489661b-693c-4ed7-8976-eb5bd1dce8b1",
   "metadata": {},
   "outputs": [
    {
     "name": "stdin",
     "output_type": "stream",
     "text": [
      "Enter an odd-length string:  Fortune favors the bold\n"
     ]
    },
    {
     "name": "stdout",
     "output_type": "stream",
     "text": [
      "Your string length is 23\n",
      "Middle character: o\n",
      "First half: Fortune fav\n",
      "Second half: rs the bold\n"
     ]
    }
   ],
   "source": [
    "# Enter an odd-length string\n",
    "\n",
    "odd_len = input(\"Enter an odd-length string: \")\n",
    "check_len = len(odd_len)\n",
    "print(f\"Your string length is {check_len}\")\n",
    "\n",
    "if check_len % 2 == 0:\n",
    "    print(\"Your input is not odd-length. Please enter an odd-length string: \")\n",
    "    odd_len = input()  \n",
    "\n",
    "# Find middle character\n",
    "mid_char = int(len(odd_len) / 2)\n",
    "print(f\"Middle character: {odd_len[mid_char]}\")\n",
    "print(f\"First half: {odd_len[:mid_char]}\")\n",
    "print(f\"Second half: {odd_len[mid_char + 1 :]}\")"
   ]
  }
 ],
 "metadata": {
  "kernelspec": {
   "display_name": "Python 3 (ipykernel)",
   "language": "python",
   "name": "python3"
  },
  "language_info": {
   "codemirror_mode": {
    "name": "ipython",
    "version": 3
   },
   "file_extension": ".py",
   "mimetype": "text/x-python",
   "name": "python",
   "nbconvert_exporter": "python",
   "pygments_lexer": "ipython3",
   "version": "3.12.4"
  }
 },
 "nbformat": 4,
 "nbformat_minor": 5
}
