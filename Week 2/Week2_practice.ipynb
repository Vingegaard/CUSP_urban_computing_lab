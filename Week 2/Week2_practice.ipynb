{
 "cells": [
  {
   "cell_type": "code",
   "execution_count": 21,
   "id": "27517f30-26b2-436a-b663-d33b4442f278",
   "metadata": {},
   "outputs": [
    {
     "name": "stdout",
     "output_type": "stream",
     "text": [
      "['smart glass', 'hhkb', ['nike running tights', 'naddo'], 'ipad mini']\n",
      "shallow copy: ['smart glass', 'hhkb', ['nike running tights', 'apple trackpad'], 'ipad mini']\n",
      "original list: ['smart glass', 'hhkb', ['nike running tights', 'apple trackpad'], 'ipad mini']\n"
     ]
    }
   ],
   "source": [
    "import copy\n",
    "\n",
    "original_list = ['smart glass','hhkb', ['nike running tights', 'naddo'], 'ipad mini']\n",
    "print (original_list)\n",
    "\n",
    "shallow_copy = copy.copy(original_list)\n",
    "shallow_copy[2][1] = 'apple trackpad'\n",
    "\n",
    "print(\"shallow copy:\", shallow_copy)\n",
    "print(\"original list:\", original_list)"
   ]
  },
  {
   "cell_type": "code",
   "execution_count": 13,
   "id": "f90b377e-a329-4c5f-b65c-eeae07a01854",
   "metadata": {},
   "outputs": [
    {
     "name": "stdout",
     "output_type": "stream",
     "text": [
      "shallow copy: ['smart glass', 'hhkb', 'nike running tights', 'apple trackpad', 'ipad mini']\n",
      "original list: ['smart glass', 'hhkb', 'nike running tights', 'naddo', 'ipad mini']\n"
     ]
    }
   ],
   "source": [
    "shallow_copy = copy.copy(original_list)\n",
    "shallow_copy[3] = 'apple trackpad'\n",
    "\n",
    "print(\"shallow copy:\", shallow_copy)\n",
    "print(\"original list:\", original_list)"
   ]
  },
  {
   "cell_type": "code",
   "execution_count": 15,
   "id": "481ff160-37e0-4119-8f78-ce9b68b704ee",
   "metadata": {},
   "outputs": [
    {
     "name": "stdout",
     "output_type": "stream",
     "text": [
      "deep copy: ['smart glass', 'hhkb', 'nike running tights', 'apple trackpad', 'ipad mini']\n",
      "original list: ['smart glass', 'hhkb', 'nike running tights', 'naddo', 'ipad mini']\n"
     ]
    }
   ],
   "source": [
    "deep_copy = copy.deepcopy(original_list)\n",
    "deep_copy[3] = 'apple trackpad'\n",
    "\n",
    "print(\"deep copy:\", deep_copy)\n",
    "print(\"original list:\", original_list)"
   ]
  },
  {
   "cell_type": "code",
   "execution_count": 23,
   "id": "911f135b-663f-497d-9097-d7aa18b0019b",
   "metadata": {},
   "outputs": [
    {
     "name": "stdout",
     "output_type": "stream",
     "text": [
      "1000000\n"
     ]
    }
   ],
   "source": [
    "x = 1_000_000\n",
    "print(x)\n"
   ]
  },
  {
   "cell_type": "code",
   "execution_count": 27,
   "id": "27be021d-5818-4a1f-b3b0-a59261d2618f",
   "metadata": {},
   "outputs": [
    {
     "name": "stdout",
     "output_type": "stream",
     "text": [
      "amount:  1,000,000\n"
     ]
    }
   ],
   "source": [
    "print(f\"amount:  {x:,}\")"
   ]
  },
  {
   "cell_type": "code",
   "execution_count": 29,
   "id": "48cb5b15-c98c-4739-bb1a-6666b966632f",
   "metadata": {},
   "outputs": [
    {
     "ename": "SyntaxError",
     "evalue": "expression expected after dictionary key and ':' (746695831.py, line 1)",
     "output_type": "error",
     "traceback": [
      "\u001b[0;36m  Cell \u001b[0;32mIn[29], line 1\u001b[0;36m\u001b[0m\n\u001b[0;31m    print({x:,})\u001b[0m\n\u001b[0m            ^\u001b[0m\n\u001b[0;31mSyntaxError\u001b[0m\u001b[0;31m:\u001b[0m expression expected after dictionary key and ':'\n"
     ]
    }
   ],
   "source": [
    "print({x:,})"
   ]
  },
  {
   "cell_type": "code",
   "execution_count": 31,
   "id": "d049bd73-9905-4b89-a5e8-78f887fabfdf",
   "metadata": {},
   "outputs": [
    {
     "ename": "SyntaxError",
     "evalue": "unterminated f-string literal (detected at line 1) (2705089999.py, line 1)",
     "output_type": "error",
     "traceback": [
      "\u001b[0;36m  Cell \u001b[0;32mIn[31], line 1\u001b[0;36m\u001b[0m\n\u001b[0;31m    print(f\"{x:,})\u001b[0m\n\u001b[0m          ^\u001b[0m\n\u001b[0;31mSyntaxError\u001b[0m\u001b[0;31m:\u001b[0m unterminated f-string literal (detected at line 1)\n"
     ]
    }
   ],
   "source": [
    "print(f\"{x:,})"
   ]
  },
  {
   "cell_type": "code",
   "execution_count": 33,
   "id": "9d80361f-ad30-4ce4-8f79-acb0659cd1a7",
   "metadata": {},
   "outputs": [
    {
     "name": "stdout",
     "output_type": "stream",
     "text": [
      "1,000,000\n"
     ]
    }
   ],
   "source": [
    "print(f\"{x:,}\")"
   ]
  },
  {
   "cell_type": "code",
   "execution_count": 35,
   "id": "2c499b4f-504a-4520-b24e-f0fc9e88caf6",
   "metadata": {},
   "outputs": [
    {
     "ename": "SyntaxError",
     "evalue": "invalid decimal literal (1694192358.py, line 1)",
     "output_type": "error",
     "traceback": [
      "\u001b[0;36m  Cell \u001b[0;32mIn[35], line 1\u001b[0;36m\u001b[0m\n\u001b[0;31m    1e*6\u001b[0m\n\u001b[0m    ^\u001b[0m\n\u001b[0;31mSyntaxError\u001b[0m\u001b[0;31m:\u001b[0m invalid decimal literal\n"
     ]
    }
   ],
   "source": [
    "1e*6"
   ]
  },
  {
   "cell_type": "code",
   "execution_count": 37,
   "id": "783b75e2-7867-47e3-9cd2-f218a8f40786",
   "metadata": {},
   "outputs": [
    {
     "data": {
      "text/plain": [
       "1000000.0"
      ]
     },
     "execution_count": 37,
     "metadata": {},
     "output_type": "execute_result"
    }
   ],
   "source": [
    "1e6"
   ]
  },
  {
   "cell_type": "code",
   "execution_count": 39,
   "id": "df36aa7c-4b89-42f1-b327-a64eecbd61c7",
   "metadata": {},
   "outputs": [
    {
     "name": "stdout",
     "output_type": "stream",
     "text": [
      "1,000,000.0\n"
     ]
    }
   ],
   "source": [
    "x=1e6\n",
    "\n",
    "print(f\"{x:,}\")"
   ]
  },
  {
   "cell_type": "code",
   "execution_count": 41,
   "id": "ef8c5084-52d6-434c-99fa-cc871e982b51",
   "metadata": {},
   "outputs": [
    {
     "data": {
      "text/plain": [
       "1000000"
      ]
     },
     "execution_count": 41,
     "metadata": {},
     "output_type": "execute_result"
    }
   ],
   "source": [
    "int(x)"
   ]
  },
  {
   "cell_type": "code",
   "execution_count": 43,
   "id": "32ca1aa6-a645-47ee-a72f-7a180c062823",
   "metadata": {},
   "outputs": [
    {
     "data": {
      "text/plain": [
       "inf"
      ]
     },
     "execution_count": 43,
     "metadata": {},
     "output_type": "execute_result"
    }
   ],
   "source": [
    "2e400"
   ]
  },
  {
   "cell_type": "code",
   "execution_count": 45,
   "id": "bdb83584-c4ef-4f9c-9453-0b4839b62fc5",
   "metadata": {},
   "outputs": [
    {
     "name": "stdout",
     "output_type": "stream",
     "text": [
      "25000000\n",
      "25000000\n"
     ]
    }
   ],
   "source": [
    "num1 = 25_000_000\n",
    "num2 = 25000000\n",
    "\n",
    "print(num1)\n",
    "print(num2)"
   ]
  },
  {
   "cell_type": "code",
   "execution_count": 47,
   "id": "0f835eb8-16dd-4441-99d8-4fb72e9d035e",
   "metadata": {},
   "outputs": [
    {
     "data": {
      "text/plain": [
       "2.596148429267414e+34"
      ]
     },
     "execution_count": 47,
     "metadata": {},
     "output_type": "execute_result"
    }
   ],
   "source": [
    "2e50 % 2e49"
   ]
  },
  {
   "cell_type": "code",
   "execution_count": 49,
   "id": "3ce28b15-197f-4c53-b9ea-d24c01eba790",
   "metadata": {},
   "outputs": [
    {
     "ename": "TypeError",
     "evalue": "type str doesn't define __round__ method",
     "output_type": "error",
     "traceback": [
      "\u001b[0;31m---------------------------------------------------------------------------\u001b[0m",
      "\u001b[0;31mTypeError\u001b[0m                                 Traceback (most recent call last)",
      "Cell \u001b[0;32mIn[49], line 1\u001b[0m\n\u001b[0;32m----> 1\u001b[0m \u001b[38;5;28mround\u001b[39m(_ , \u001b[38;5;241m2\u001b[39m)\n",
      "\u001b[0;31mTypeError\u001b[0m: type str doesn't define __round__ method"
     ]
    }
   ],
   "source": [
    "round(_ , 2)"
   ]
  },
  {
   "cell_type": "code",
   "execution_count": 51,
   "id": "c682eafe-1620-4a02-af2c-ba26f95275b6",
   "metadata": {},
   "outputs": [],
   "source": [
    "import math"
   ]
  },
  {
   "cell_type": "code",
   "execution_count": 59,
   "id": "13b3391d-51af-403f-a413-e4c3800575ab",
   "metadata": {},
   "outputs": [
    {
     "name": "stdout",
     "output_type": "stream",
     "text": [
      "2.596148429267414e+34\n"
     ]
    }
   ],
   "source": [
    "x = 2e50 % 2e49\n",
    "print(x)"
   ]
  },
  {
   "cell_type": "code",
   "execution_count": 61,
   "id": "303b51a0-fb33-4275-908b-dc00b960f514",
   "metadata": {},
   "outputs": [
    {
     "data": {
      "text/plain": [
       "2.596148429267414e+34"
      ]
     },
     "execution_count": 61,
     "metadata": {},
     "output_type": "execute_result"
    }
   ],
   "source": [
    "\n",
    "round(x,2)\n"
   ]
  },
  {
   "cell_type": "code",
   "execution_count": 69,
   "id": "040479d8-06df-4445-91c2-1db8165b0642",
   "metadata": {
    "jp-MarkdownHeadingCollapsed": true
   },
   "outputs": [
    {
     "data": {
      "text/plain": [
       "0.30000000000000004"
      ]
     },
     "execution_count": 69,
     "metadata": {},
     "output_type": "execute_result"
    }
   ],
   "source": [
    "0.1 + 0.2"
   ]
  },
  {
   "cell_type": "code",
   "execution_count": 71,
   "id": "d1e80a7c-b6e4-4156-9b79-114d9780c8a3",
   "metadata": {
    "jp-MarkdownHeadingCollapsed": true
   },
   "outputs": [
    {
     "data": {
      "text/plain": [
       "0.3333333333333333"
      ]
     },
     "execution_count": 71,
     "metadata": {},
     "output_type": "execute_result"
    }
   ],
   "source": [
    "1/3"
   ]
  },
  {
   "cell_type": "code",
   "execution_count": 73,
   "id": "05a73e8e-ff50-4b5d-bd74-a962a521828b",
   "metadata": {},
   "outputs": [
    {
     "data": {
      "text/plain": [
       "0.1"
      ]
     },
     "execution_count": 73,
     "metadata": {},
     "output_type": "execute_result"
    }
   ],
   "source": [
    "0.1"
   ]
  },
  {
   "cell_type": "code",
   "execution_count": 75,
   "id": "ee876d7f-8dfb-41da-b568-3890257fe846",
   "metadata": {},
   "outputs": [
    {
     "data": {
      "text/plain": [
       "5.43"
      ]
     },
     "execution_count": 75,
     "metadata": {},
     "output_type": "execute_result"
    }
   ],
   "source": [
    "num = 5.432\n",
    "round(num, 2)"
   ]
  },
  {
   "cell_type": "code",
   "execution_count": 77,
   "id": "aa3161ab-e5e7-4d3b-ad49-b0be6871e353",
   "metadata": {},
   "outputs": [
    {
     "name": "stdin",
     "output_type": "stream",
     "text": [
      "Enter a number:  5.432\n"
     ]
    },
    {
     "name": "stdout",
     "output_type": "stream",
     "text": [
      "5.432 rounded to 2 decimal places is 5.43\n"
     ]
    }
   ],
   "source": [
    "user_input = input(\"Enter a number: \")\n",
    "num = float(user_input)\n",
    "rounded_num = round(num, 2)\n",
    "print(f\"{num} rounded to 2 decimal places is {rounded_num}\")"
   ]
  },
  {
   "cell_type": "code",
   "execution_count": 79,
   "id": "44fbeaf0-1411-4939-8d9e-95d45e061a37",
   "metadata": {},
   "outputs": [
    {
     "name": "stdout",
     "output_type": "stream",
     "text": [
      "$150,000.00\n"
     ]
    }
   ],
   "source": [
    "num = 150000\n",
    "print(f\"${num:,.2f}\")"
   ]
  },
  {
   "cell_type": "code",
   "execution_count": 81,
   "id": "cf713e1b-ee1e-42bd-91d3-1a172e3a6a2b",
   "metadata": {},
   "outputs": [
    {
     "data": {
      "text/plain": [
       "0"
      ]
     },
     "execution_count": 81,
     "metadata": {},
     "output_type": "execute_result"
    }
   ],
   "source": [
    "5//10"
   ]
  },
  {
   "cell_type": "code",
   "execution_count": 83,
   "id": "f864c6c0-f136-40ae-bc26-5816a4614992",
   "metadata": {},
   "outputs": [
    {
     "data": {
      "text/plain": [
       "2"
      ]
     },
     "execution_count": 83,
     "metadata": {},
     "output_type": "execute_result"
    }
   ],
   "source": [
    "10//5"
   ]
  },
  {
   "cell_type": "code",
   "execution_count": 85,
   "id": "a1718cd7-ad11-494f-b6b8-b487537f660a",
   "metadata": {},
   "outputs": [
    {
     "data": {
      "text/plain": [
       "2"
      ]
     },
     "execution_count": 85,
     "metadata": {},
     "output_type": "execute_result"
    }
   ],
   "source": [
    "12//5"
   ]
  },
  {
   "cell_type": "code",
   "execution_count": 91,
   "id": "c8c553ab-5de9-47ad-b4d4-5e28c1623611",
   "metadata": {},
   "outputs": [
    {
     "data": {
      "text/plain": [
       "'foofighters'"
      ]
     },
     "execution_count": 91,
     "metadata": {},
     "output_type": "execute_result"
    }
   ],
   "source": [
    "s = \"foo\"\n",
    "t = \"fig\"\n",
    "u = \"hters\"\n",
    "\n",
    "s + t + u"
   ]
  },
  {
   "cell_type": "code",
   "execution_count": 95,
   "id": "1e58cd08-41b3-4202-bccb-d1abd38c09c3",
   "metadata": {},
   "outputs": [
    {
     "data": {
      "text/plain": [
       "'foofoofoofoofoo'"
      ]
     },
     "execution_count": 95,
     "metadata": {},
     "output_type": "execute_result"
    }
   ],
   "source": [
    "s * 5"
   ]
  },
  {
   "cell_type": "code",
   "execution_count": null,
   "id": "cf8de3d5-4e02-4564-bbd4-5e0ee1833c15",
   "metadata": {},
   "outputs": [],
   "source": [
    "chr()  # this returns a character value for the given interger\n",
    "ord()  # this converts a character to an integer (ASCII)\n",
    "len()\n",
    "str()  # returns a string representation of an object -> make number into words. "
   ]
  },
  {
   "cell_type": "code",
   "execution_count": 113,
   "id": "8dcb8f0a-f813-4c4c-815d-39d5db45f2d4",
   "metadata": {},
   "outputs": [
    {
     "name": "stdout",
     "output_type": "stream",
     "text": [
      "123\n"
     ]
    }
   ],
   "source": [
    "x = str(123)\n",
    "print(x)"
   ]
  },
  {
   "cell_type": "code",
   "execution_count": 115,
   "id": "57a7b48f-77fe-42f0-8caa-7126f727fa0c",
   "metadata": {},
   "outputs": [
    {
     "data": {
      "text/plain": [
       "str"
      ]
     },
     "execution_count": 115,
     "metadata": {},
     "output_type": "execute_result"
    }
   ],
   "source": [
    "type(x)"
   ]
  },
  {
   "cell_type": "code",
   "execution_count": 107,
   "id": "57f61f8f-1ded-412b-94e8-1eadd7e0ec61",
   "metadata": {},
   "outputs": [
    {
     "data": {
      "text/plain": [
       "'b'"
      ]
     },
     "execution_count": 107,
     "metadata": {},
     "output_type": "execute_result"
    }
   ],
   "source": [
    "chr(98)"
   ]
  },
  {
   "cell_type": "code",
   "execution_count": 117,
   "id": "6ca3c3e2-1d5a-4f30-9394-9ab2e8cc4db0",
   "metadata": {},
   "outputs": [],
   "source": [
    "s = 'apple'"
   ]
  },
  {
   "cell_type": "code",
   "execution_count": 121,
   "id": "168eba72-1e5d-4afe-812f-fcb0acef5540",
   "metadata": {},
   "outputs": [
    {
     "data": {
      "text/plain": [
       "'applple'"
      ]
     },
     "execution_count": 121,
     "metadata": {},
     "output_type": "execute_result"
    }
   ],
   "source": [
    "s[:4] + s[2:]"
   ]
  },
  {
   "cell_type": "code",
   "execution_count": 125,
   "id": "c477dd0f-586a-4253-8590-aa8c251fb816",
   "metadata": {},
   "outputs": [
    {
     "data": {
      "text/plain": [
       "True"
      ]
     },
     "execution_count": 125,
     "metadata": {},
     "output_type": "execute_result"
    }
   ],
   "source": [
    "s[:1] + s[1:] == s"
   ]
  },
  {
   "cell_type": "code",
   "execution_count": 129,
   "id": "f3b894ae-896a-44a1-9d4e-d4104e950255",
   "metadata": {},
   "outputs": [
    {
     "data": {
      "text/plain": [
       "'ep'"
      ]
     },
     "execution_count": 129,
     "metadata": {},
     "output_type": "execute_result"
    }
   ],
   "source": [
    "s[5:0:-2]"
   ]
  },
  {
   "cell_type": "code",
   "execution_count": 145,
   "id": "9d3a7c37-63b2-44b5-a732-05226893b5cf",
   "metadata": {},
   "outputs": [
    {
     "name": "stdout",
     "output_type": "stream",
     "text": [
      "먼구하감난 참 것이 아\n",
      "먼구하감난 참 것이 \n"
     ]
    }
   ],
   "source": [
    "s = '아 이것 참 난감하구먼'\n",
    "print(s[::-1])\n",
    "print(s[len(s):0:-1])"
   ]
  },
  {
   "cell_type": "code",
   "execution_count": 147,
   "id": "e423c793-fbbd-40a4-a236-b4aeac963eaa",
   "metadata": {},
   "outputs": [],
   "source": [
    "x = 'nike'"
   ]
  },
  {
   "cell_type": "code",
   "execution_count": 149,
   "id": "487b2d98-07f6-448d-adc8-f7c717b3c401",
   "metadata": {},
   "outputs": [
    {
     "ename": "TypeError",
     "evalue": "'str' object does not support item assignment",
     "output_type": "error",
     "traceback": [
      "\u001b[0;31m---------------------------------------------------------------------------\u001b[0m",
      "\u001b[0;31mTypeError\u001b[0m                                 Traceback (most recent call last)",
      "Cell \u001b[0;32mIn[149], line 1\u001b[0m\n\u001b[0;32m----> 1\u001b[0m x[\u001b[38;5;241m0\u001b[39m] \u001b[38;5;241m=\u001b[39m x\n",
      "\u001b[0;31mTypeError\u001b[0m: 'str' object does not support item assignment"
     ]
    }
   ],
   "source": [
    "x[0] = x"
   ]
  },
  {
   "cell_type": "code",
   "execution_count": 155,
   "id": "24160b0a-d746-4c90-8d12-d7354a509522",
   "metadata": {},
   "outputs": [
    {
     "name": "stdout",
     "output_type": "stream",
     "text": [
      "kipchoge\n"
     ]
    }
   ],
   "source": [
    "x = 'kipchoge'\n",
    "print(x)"
   ]
  },
  {
   "cell_type": "code",
   "execution_count": 157,
   "id": "94b1abf5-9a66-4f29-8e1c-823d031a0235",
   "metadata": {},
   "outputs": [],
   "source": [
    "x = 'nike'"
   ]
  },
  {
   "cell_type": "code",
   "execution_count": 167,
   "id": "f0b1ca80-452e-4e13-92c9-120d09f36120",
   "metadata": {},
   "outputs": [
    {
     "name": "stdout",
     "output_type": "stream",
     "text": [
      "nnne\n"
     ]
    }
   ],
   "source": [
    "x = x.replace('j', 'n')\n",
    "print(x)"
   ]
  },
  {
   "cell_type": "code",
   "execution_count": 169,
   "id": "8641a02e-b5b6-4ffb-9832-d3abe91a1698",
   "metadata": {},
   "outputs": [
    {
     "ename": "SyntaxError",
     "evalue": "invalid syntax (4096835824.py, line 1)",
     "output_type": "error",
     "traceback": [
      "\u001b[0;36m  Cell \u001b[0;32mIn[169], line 1\u001b[0;36m\u001b[0m\n\u001b[0;31m    obj.foo(<args>)\u001b[0m\n\u001b[0m            ^\u001b[0m\n\u001b[0;31mSyntaxError\u001b[0m\u001b[0;31m:\u001b[0m invalid syntax\n"
     ]
    }
   ],
   "source": [
    "obj.foo(<args>)"
   ]
  },
  {
   "cell_type": "code",
   "execution_count": 171,
   "id": "d09481cd-ff62-4e3d-9f69-b7cfe18a733f",
   "metadata": {},
   "outputs": [
    {
     "data": {
      "text/plain": [
       "-1"
      ]
     },
     "execution_count": 171,
     "metadata": {},
     "output_type": "execute_result"
    }
   ],
   "source": [
    "'foo bar foo baz foo qux'.find('foot')"
   ]
  },
  {
   "cell_type": "code",
   "execution_count": 187,
   "id": "fa1667c5-07c2-4468-ba45-5492e2d8ea8c",
   "metadata": {},
   "outputs": [
    {
     "data": {
      "text/plain": [
       "'-----------------------------------------------andrew-----------------------------------------------'"
      ]
     },
     "execution_count": 187,
     "metadata": {},
     "output_type": "execute_result"
    }
   ],
   "source": [
    "'andrew'.center(100, '-')"
   ]
  },
  {
   "cell_type": "code",
   "execution_count": 211,
   "id": "ed4b309c-c19f-4106-b53d-7f769a4e7423",
   "metadata": {},
   "outputs": [
    {
     "data": {
      "text/plain": [
       "'apple'"
      ]
     },
     "execution_count": 211,
     "metadata": {},
     "output_type": "execute_result"
    }
   ],
   "source": [
    "''.join(['a', 'p', 'p', 'l', 'e'])\n"
   ]
  },
  {
   "cell_type": "code",
   "execution_count": 217,
   "id": "0c0b8556-7759-495f-9034-5af55deee184",
   "metadata": {},
   "outputs": [],
   "source": [
    "# Wrtie a program that reads from the user the number of days they traveled. \n",
    "## The program will help them print their traveling time in the format of full weeks and additional days."
   ]
  },
  {
   "cell_type": "code",
   "execution_count": 235,
   "id": "628ffa96-aea7-4693-a024-3bd1629f6762",
   "metadata": {},
   "outputs": [
    {
     "name": "stdin",
     "output_type": "stream",
     "text": [
      "Please enter number of days you traveld: 19\n"
     ]
    },
    {
     "name": "stdout",
     "output_type": "stream",
     "text": [
      "Days traveled is total 19 days and that is 2 weeks and 5 days.\n"
     ]
    }
   ],
   "source": [
    "# Ask user how many days they traveled\n",
    "\n",
    "user_input = input(\"Please enter number of days you traveld:\")\n",
    "num = int(user_input)\n",
    "num_weeks = num // 7\n",
    "num_days = num % 7\n",
    "print(f\"Days traveled is total {num} days and that is {num_weeks} weeks and {num_days} days.\")"
   ]
  },
  {
   "cell_type": "code",
   "execution_count": 249,
   "id": "071d45bb-21d5-46e5-a560-392b7076421a",
   "metadata": {},
   "outputs": [
    {
     "name": "stdin",
     "output_type": "stream",
     "text": [
      "What is the radius?  40\n"
     ]
    },
    {
     "name": "stdout",
     "output_type": "stream",
     "text": [
      "The are of a circle with radius 40.0 is 5,026.55 square meters.\n"
     ]
    }
   ],
   "source": [
    "# Area of a circle program\n",
    "user_input = input(\"What is the radius? \")\n",
    "radius = float(user_input)\n",
    "area = math.pi * radius ** 2\n",
    "print(f\"The are of a circle with radius {radius} is {area:,.2f} square meters.\")"
   ]
  },
  {
   "cell_type": "code",
   "execution_count": null,
   "id": "e02c6def-0339-44db-abb2-0136a8e5e2b5",
   "metadata": {},
   "outputs": [],
   "source": []
  },
  {
   "cell_type": "code",
   "execution_count": null,
   "id": "e5f6768f-16ab-4bd5-b418-f5ebd4135d15",
   "metadata": {},
   "outputs": [],
   "source": []
  },
  {
   "cell_type": "code",
   "execution_count": null,
   "id": "140e4c54-d875-461b-9cb2-1d6ae82a3d39",
   "metadata": {},
   "outputs": [],
   "source": []
  },
  {
   "cell_type": "code",
   "execution_count": null,
   "id": "eb49c2dc-9ee6-4b46-abaf-4eed37804120",
   "metadata": {},
   "outputs": [],
   "source": [
    "# Drawing a square\n",
    "import turtle\n",
    "x = input(\"Please enter the length: \")\n",
    "side_len = int(x)\n",
    "turtle.forward(side_len)\n",
    "turtle.right(90)\n",
    "turtle.forward(side_len)\n",
    "turtle.right(90)\n",
    "turtle.forward(side_len)\n",
    "turtle.right(90)\n",
    "turtle.forward(side_len)\n",
    "turtle.right(90)\n"
   ]
  },
  {
   "cell_type": "code",
   "execution_count": null,
   "id": "d2b7c52e-4594-4986-ab8e-decfa36acbfa",
   "metadata": {},
   "outputs": [],
   "source": []
  },
  {
   "cell_type": "code",
   "execution_count": null,
   "id": "8b6e1fec-e156-4cff-a8f8-cc5006af5a19",
   "metadata": {},
   "outputs": [],
   "source": []
  },
  {
   "cell_type": "code",
   "execution_count": null,
   "id": "f573bd7b-c1e6-44e4-a73e-3b0aff813176",
   "metadata": {},
   "outputs": [],
   "source": []
  }
 ],
 "metadata": {
  "kernelspec": {
   "display_name": "Python 3 (ipykernel)",
   "language": "python",
   "name": "python3"
  },
  "language_info": {
   "codemirror_mode": {
    "name": "ipython",
    "version": 3
   },
   "file_extension": ".py",
   "mimetype": "text/x-python",
   "name": "python",
   "nbconvert_exporter": "python",
   "pygments_lexer": "ipython3",
   "version": "3.12.4"
  }
 },
 "nbformat": 4,
 "nbformat_minor": 5
}
