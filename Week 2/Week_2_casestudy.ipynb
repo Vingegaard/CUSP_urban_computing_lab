{
 "cells": [
  {
   "cell_type": "markdown",
   "metadata": {
    "id": "SxtY1DKO0Qx8"
   },
   "source": [
    "## Investigate the relationship between relief award type and amount over time"
   ]
  },
  {
   "cell_type": "markdown",
   "metadata": {
    "id": "FyMsmSYd0gFJ"
   },
   "source": [
    "## Goals\n",
    "\n",
    "In this case study, we will be processing foreign assistance data using basic functions from the `pandas` python module and doing some basic data visualizations to better understand how relief aid is disbursed in Venezuela. "
   ]
  },
  {
   "cell_type": "markdown",
   "metadata": {
    "id": "-ZAWSKYr0tZD"
   },
   "source": [
    "## Introduction\n",
    "\n",
    "**Context.** The U.S. manages foreign assistance programs in more than 100 countries around the world through the efforts of over 20 different U.S. government agencies. Foreign assistance is aid that is given by the United States to other countries to support global peace, security, and development efforts, and to provide humanitarian relief during times of crisis. These investments further America's foreign policy interests on issues ranging from expanding free markets, combating extremism, ensuring stable democracies, and addressing the root causes of poverty.\n",
    "\n",
    "To learn more about these efforts, you can visit the website https://foreignassistance.gov\n",
    "\n",
    "The question of whether or not foreign aid has the intended effects is unclear - there is little evidence of a significant positive effect of aid on the long-term development of countries that receive this aid. "
   ]
  },
  {
   "cell_type": "markdown",
   "metadata": {
    "id": "lggonr181ABd"
   },
   "source": [
    "**Objective.** Venezuela is a country in South America which has experienced political turmoil in the last decade with an increasingly authoritarian leader and significant struggles with hyperinflation, shortages of basic goods, widespread unemployment, poverty, disease, high child mortality, malnutrition, crime, and corruption. \n",
    "\n",
    "The United States has provided hundreds of millions of dollars in life-saving aid and for critical social services - including shelter, health assistance, protection from violence and exploitation, and access to work and education opportunities for Venezuelans both at home and htose living in other countries in the region. In this exercise, we will work through descriptive analysis to understand the relationship between aid amount and various attributes of the award in Venezuela.\n"
   ]
  },
  {
   "cell_type": "markdown",
   "metadata": {
    "id": "W1osqj3j1J4P"
   },
   "source": [
    "**Analytical Task.** We will be processing data in CSV format from foreignassistance.gov website, which aggregates data on individual assistance awards that are distributed from over 20 U.S. government agencies on a quarterly basis and makes it available under creative commons licenses for people like us to do analyses.\n",
    "\n",
    "In this exercise, we will: \n",
    "\n",
    "(1) pre-process the data to convert it into a format that we can use for subsequent analyses;\n",
    "\n",
    "(2) Use simple plotting to explore the relationships between aid amount and type"
   ]
  },
  {
   "cell_type": "code",
   "execution_count": 7,
   "metadata": {
    "executionInfo": {
     "elapsed": 178,
     "status": "ok",
     "timestamp": 1637198060960,
     "user": {
      "displayName": "Martina Balestra",
      "photoUrl": "https://lh3.googleusercontent.com/a/default-user=s64",
      "userId": "07007880778668886190"
     },
     "user_tz": 360
    },
    "id": "7cJQDpc6zkRy"
   },
   "outputs": [],
   "source": [
    "# import modules\n",
    "import pandas as pd\n",
    "import numpy as np \n",
    "from sklearn import preprocessing\n",
    "import os\n",
    "import matplotlib.pyplot as plt\n",
    "import datetime\n",
    "import seaborn as sns\n",
    "\n",
    "plt.rcParams['figure.figsize'] = [12, 8]\n",
    "plt.rcParams['figure.dpi'] = 100 "
   ]
  },
  {
   "cell_type": "code",
   "execution_count": 13,
   "metadata": {
    "executionInfo": {
     "elapsed": 18737,
     "status": "ok",
     "timestamp": 1637195755139,
     "user": {
      "displayName": "Martina Balestra",
      "photoUrl": "https://lh3.googleusercontent.com/a/default-user=s64",
      "userId": "07007880778668886190"
     },
     "user_tz": 360
    },
    "id": "RIK9-9kP3TZV"
   },
   "outputs": [
    {
     "ename": "ModuleNotFoundError",
     "evalue": "No module named 'pydrive'",
     "output_type": "error",
     "traceback": [
      "\u001b[0;31m---------------------------------------------------------------------------\u001b[0m",
      "\u001b[0;31mModuleNotFoundError\u001b[0m                       Traceback (most recent call last)",
      "Cell \u001b[0;32mIn[13], line 2\u001b[0m\n\u001b[1;32m      1\u001b[0m \u001b[38;5;66;03m# import the data\u001b[39;00m\n\u001b[0;32m----> 2\u001b[0m \u001b[38;5;28;01mfrom\u001b[39;00m \u001b[38;5;21;01mpydrive\u001b[39;00m\u001b[38;5;21;01m.\u001b[39;00m\u001b[38;5;21;01mauth\u001b[39;00m \u001b[38;5;28;01mimport\u001b[39;00m GoogleAuth\n\u001b[1;32m      3\u001b[0m \u001b[38;5;28;01mfrom\u001b[39;00m \u001b[38;5;21;01mpydrive\u001b[39;00m\u001b[38;5;21;01m.\u001b[39;00m\u001b[38;5;21;01mdrive\u001b[39;00m \u001b[38;5;28;01mimport\u001b[39;00m GoogleDrive\n\u001b[1;32m      4\u001b[0m \u001b[38;5;28;01mfrom\u001b[39;00m \u001b[38;5;21;01mgoogle\u001b[39;00m\u001b[38;5;21;01m.\u001b[39;00m\u001b[38;5;21;01mcolab\u001b[39;00m \u001b[38;5;28;01mimport\u001b[39;00m auth\n",
      "\u001b[0;31mModuleNotFoundError\u001b[0m: No module named 'pydrive'"
     ]
    }
   ],
   "source": [
    "# import the data\n",
    "from pydrive.auth import GoogleAuth\n",
    "from pydrive.drive import GoogleDrive\n",
    "from google.colab import auth\n",
    "from oauth2client.client import GoogleCredentials\n",
    "\n",
    "# Authenticate and create the PyDrive client.\n",
    "# This only needs to be done once per notebook.\n",
    "auth.authenticate_user()\n",
    "gauth = GoogleAuth()\n",
    "gauth.credentials = GoogleCredentials.get_application_default()\n",
    "drive = GoogleDrive(gauth)\n",
    "\n",
    "# Download a file based on its file ID.\n",
    "file_id = '1QeIrBeSh37mXFAlSPkfWq9RrnTvQaS8b'\n",
    "downloaded = drive.CreateFile({'id': file_id})\n",
    "downloaded.GetContentFile('wk2_Venezuela.csv')  \n",
    "#print('Downloaded content \"{}\"'.format(downloaded.GetContentString()))"
   ]
  },
  {
   "cell_type": "code",
   "execution_count": 11,
   "metadata": {
    "executionInfo": {
     "elapsed": 117,
     "status": "ok",
     "timestamp": 1637197100404,
     "user": {
      "displayName": "Martina Balestra",
      "photoUrl": "https://lh3.googleusercontent.com/a/default-user=s64",
      "userId": "07007880778668886190"
     },
     "user_tz": 360
    },
    "id": "BRSlbyT-4Cwh"
   },
   "outputs": [
    {
     "ename": "FileNotFoundError",
     "evalue": "[Errno 2] No such file or directory: 'wk2_Venezuela.csv'",
     "output_type": "error",
     "traceback": [
      "\u001b[0;31m---------------------------------------------------------------------------\u001b[0m",
      "\u001b[0;31mFileNotFoundError\u001b[0m                         Traceback (most recent call last)",
      "Cell \u001b[0;32mIn[11], line 1\u001b[0m\n\u001b[0;32m----> 1\u001b[0m aid_df \u001b[38;5;241m=\u001b[39m pd\u001b[38;5;241m.\u001b[39mDataFrame(pd\u001b[38;5;241m.\u001b[39mread_csv(\u001b[38;5;124m'\u001b[39m\u001b[38;5;124mwk2_Venezuela.csv\u001b[39m\u001b[38;5;124m'\u001b[39m))\n",
      "File \u001b[0;32m/opt/anaconda3/lib/python3.12/site-packages/pandas/io/parsers/readers.py:1026\u001b[0m, in \u001b[0;36mread_csv\u001b[0;34m(filepath_or_buffer, sep, delimiter, header, names, index_col, usecols, dtype, engine, converters, true_values, false_values, skipinitialspace, skiprows, skipfooter, nrows, na_values, keep_default_na, na_filter, verbose, skip_blank_lines, parse_dates, infer_datetime_format, keep_date_col, date_parser, date_format, dayfirst, cache_dates, iterator, chunksize, compression, thousands, decimal, lineterminator, quotechar, quoting, doublequote, escapechar, comment, encoding, encoding_errors, dialect, on_bad_lines, delim_whitespace, low_memory, memory_map, float_precision, storage_options, dtype_backend)\u001b[0m\n\u001b[1;32m   1013\u001b[0m kwds_defaults \u001b[38;5;241m=\u001b[39m _refine_defaults_read(\n\u001b[1;32m   1014\u001b[0m     dialect,\n\u001b[1;32m   1015\u001b[0m     delimiter,\n\u001b[0;32m   (...)\u001b[0m\n\u001b[1;32m   1022\u001b[0m     dtype_backend\u001b[38;5;241m=\u001b[39mdtype_backend,\n\u001b[1;32m   1023\u001b[0m )\n\u001b[1;32m   1024\u001b[0m kwds\u001b[38;5;241m.\u001b[39mupdate(kwds_defaults)\n\u001b[0;32m-> 1026\u001b[0m \u001b[38;5;28;01mreturn\u001b[39;00m _read(filepath_or_buffer, kwds)\n",
      "File \u001b[0;32m/opt/anaconda3/lib/python3.12/site-packages/pandas/io/parsers/readers.py:620\u001b[0m, in \u001b[0;36m_read\u001b[0;34m(filepath_or_buffer, kwds)\u001b[0m\n\u001b[1;32m    617\u001b[0m _validate_names(kwds\u001b[38;5;241m.\u001b[39mget(\u001b[38;5;124m\"\u001b[39m\u001b[38;5;124mnames\u001b[39m\u001b[38;5;124m\"\u001b[39m, \u001b[38;5;28;01mNone\u001b[39;00m))\n\u001b[1;32m    619\u001b[0m \u001b[38;5;66;03m# Create the parser.\u001b[39;00m\n\u001b[0;32m--> 620\u001b[0m parser \u001b[38;5;241m=\u001b[39m TextFileReader(filepath_or_buffer, \u001b[38;5;241m*\u001b[39m\u001b[38;5;241m*\u001b[39mkwds)\n\u001b[1;32m    622\u001b[0m \u001b[38;5;28;01mif\u001b[39;00m chunksize \u001b[38;5;129;01mor\u001b[39;00m iterator:\n\u001b[1;32m    623\u001b[0m     \u001b[38;5;28;01mreturn\u001b[39;00m parser\n",
      "File \u001b[0;32m/opt/anaconda3/lib/python3.12/site-packages/pandas/io/parsers/readers.py:1620\u001b[0m, in \u001b[0;36mTextFileReader.__init__\u001b[0;34m(self, f, engine, **kwds)\u001b[0m\n\u001b[1;32m   1617\u001b[0m     \u001b[38;5;28mself\u001b[39m\u001b[38;5;241m.\u001b[39moptions[\u001b[38;5;124m\"\u001b[39m\u001b[38;5;124mhas_index_names\u001b[39m\u001b[38;5;124m\"\u001b[39m] \u001b[38;5;241m=\u001b[39m kwds[\u001b[38;5;124m\"\u001b[39m\u001b[38;5;124mhas_index_names\u001b[39m\u001b[38;5;124m\"\u001b[39m]\n\u001b[1;32m   1619\u001b[0m \u001b[38;5;28mself\u001b[39m\u001b[38;5;241m.\u001b[39mhandles: IOHandles \u001b[38;5;241m|\u001b[39m \u001b[38;5;28;01mNone\u001b[39;00m \u001b[38;5;241m=\u001b[39m \u001b[38;5;28;01mNone\u001b[39;00m\n\u001b[0;32m-> 1620\u001b[0m \u001b[38;5;28mself\u001b[39m\u001b[38;5;241m.\u001b[39m_engine \u001b[38;5;241m=\u001b[39m \u001b[38;5;28mself\u001b[39m\u001b[38;5;241m.\u001b[39m_make_engine(f, \u001b[38;5;28mself\u001b[39m\u001b[38;5;241m.\u001b[39mengine)\n",
      "File \u001b[0;32m/opt/anaconda3/lib/python3.12/site-packages/pandas/io/parsers/readers.py:1880\u001b[0m, in \u001b[0;36mTextFileReader._make_engine\u001b[0;34m(self, f, engine)\u001b[0m\n\u001b[1;32m   1878\u001b[0m     \u001b[38;5;28;01mif\u001b[39;00m \u001b[38;5;124m\"\u001b[39m\u001b[38;5;124mb\u001b[39m\u001b[38;5;124m\"\u001b[39m \u001b[38;5;129;01mnot\u001b[39;00m \u001b[38;5;129;01min\u001b[39;00m mode:\n\u001b[1;32m   1879\u001b[0m         mode \u001b[38;5;241m+\u001b[39m\u001b[38;5;241m=\u001b[39m \u001b[38;5;124m\"\u001b[39m\u001b[38;5;124mb\u001b[39m\u001b[38;5;124m\"\u001b[39m\n\u001b[0;32m-> 1880\u001b[0m \u001b[38;5;28mself\u001b[39m\u001b[38;5;241m.\u001b[39mhandles \u001b[38;5;241m=\u001b[39m get_handle(\n\u001b[1;32m   1881\u001b[0m     f,\n\u001b[1;32m   1882\u001b[0m     mode,\n\u001b[1;32m   1883\u001b[0m     encoding\u001b[38;5;241m=\u001b[39m\u001b[38;5;28mself\u001b[39m\u001b[38;5;241m.\u001b[39moptions\u001b[38;5;241m.\u001b[39mget(\u001b[38;5;124m\"\u001b[39m\u001b[38;5;124mencoding\u001b[39m\u001b[38;5;124m\"\u001b[39m, \u001b[38;5;28;01mNone\u001b[39;00m),\n\u001b[1;32m   1884\u001b[0m     compression\u001b[38;5;241m=\u001b[39m\u001b[38;5;28mself\u001b[39m\u001b[38;5;241m.\u001b[39moptions\u001b[38;5;241m.\u001b[39mget(\u001b[38;5;124m\"\u001b[39m\u001b[38;5;124mcompression\u001b[39m\u001b[38;5;124m\"\u001b[39m, \u001b[38;5;28;01mNone\u001b[39;00m),\n\u001b[1;32m   1885\u001b[0m     memory_map\u001b[38;5;241m=\u001b[39m\u001b[38;5;28mself\u001b[39m\u001b[38;5;241m.\u001b[39moptions\u001b[38;5;241m.\u001b[39mget(\u001b[38;5;124m\"\u001b[39m\u001b[38;5;124mmemory_map\u001b[39m\u001b[38;5;124m\"\u001b[39m, \u001b[38;5;28;01mFalse\u001b[39;00m),\n\u001b[1;32m   1886\u001b[0m     is_text\u001b[38;5;241m=\u001b[39mis_text,\n\u001b[1;32m   1887\u001b[0m     errors\u001b[38;5;241m=\u001b[39m\u001b[38;5;28mself\u001b[39m\u001b[38;5;241m.\u001b[39moptions\u001b[38;5;241m.\u001b[39mget(\u001b[38;5;124m\"\u001b[39m\u001b[38;5;124mencoding_errors\u001b[39m\u001b[38;5;124m\"\u001b[39m, \u001b[38;5;124m\"\u001b[39m\u001b[38;5;124mstrict\u001b[39m\u001b[38;5;124m\"\u001b[39m),\n\u001b[1;32m   1888\u001b[0m     storage_options\u001b[38;5;241m=\u001b[39m\u001b[38;5;28mself\u001b[39m\u001b[38;5;241m.\u001b[39moptions\u001b[38;5;241m.\u001b[39mget(\u001b[38;5;124m\"\u001b[39m\u001b[38;5;124mstorage_options\u001b[39m\u001b[38;5;124m\"\u001b[39m, \u001b[38;5;28;01mNone\u001b[39;00m),\n\u001b[1;32m   1889\u001b[0m )\n\u001b[1;32m   1890\u001b[0m \u001b[38;5;28;01massert\u001b[39;00m \u001b[38;5;28mself\u001b[39m\u001b[38;5;241m.\u001b[39mhandles \u001b[38;5;129;01mis\u001b[39;00m \u001b[38;5;129;01mnot\u001b[39;00m \u001b[38;5;28;01mNone\u001b[39;00m\n\u001b[1;32m   1891\u001b[0m f \u001b[38;5;241m=\u001b[39m \u001b[38;5;28mself\u001b[39m\u001b[38;5;241m.\u001b[39mhandles\u001b[38;5;241m.\u001b[39mhandle\n",
      "File \u001b[0;32m/opt/anaconda3/lib/python3.12/site-packages/pandas/io/common.py:873\u001b[0m, in \u001b[0;36mget_handle\u001b[0;34m(path_or_buf, mode, encoding, compression, memory_map, is_text, errors, storage_options)\u001b[0m\n\u001b[1;32m    868\u001b[0m \u001b[38;5;28;01melif\u001b[39;00m \u001b[38;5;28misinstance\u001b[39m(handle, \u001b[38;5;28mstr\u001b[39m):\n\u001b[1;32m    869\u001b[0m     \u001b[38;5;66;03m# Check whether the filename is to be opened in binary mode.\u001b[39;00m\n\u001b[1;32m    870\u001b[0m     \u001b[38;5;66;03m# Binary mode does not support 'encoding' and 'newline'.\u001b[39;00m\n\u001b[1;32m    871\u001b[0m     \u001b[38;5;28;01mif\u001b[39;00m ioargs\u001b[38;5;241m.\u001b[39mencoding \u001b[38;5;129;01mand\u001b[39;00m \u001b[38;5;124m\"\u001b[39m\u001b[38;5;124mb\u001b[39m\u001b[38;5;124m\"\u001b[39m \u001b[38;5;129;01mnot\u001b[39;00m \u001b[38;5;129;01min\u001b[39;00m ioargs\u001b[38;5;241m.\u001b[39mmode:\n\u001b[1;32m    872\u001b[0m         \u001b[38;5;66;03m# Encoding\u001b[39;00m\n\u001b[0;32m--> 873\u001b[0m         handle \u001b[38;5;241m=\u001b[39m \u001b[38;5;28mopen\u001b[39m(\n\u001b[1;32m    874\u001b[0m             handle,\n\u001b[1;32m    875\u001b[0m             ioargs\u001b[38;5;241m.\u001b[39mmode,\n\u001b[1;32m    876\u001b[0m             encoding\u001b[38;5;241m=\u001b[39mioargs\u001b[38;5;241m.\u001b[39mencoding,\n\u001b[1;32m    877\u001b[0m             errors\u001b[38;5;241m=\u001b[39merrors,\n\u001b[1;32m    878\u001b[0m             newline\u001b[38;5;241m=\u001b[39m\u001b[38;5;124m\"\u001b[39m\u001b[38;5;124m\"\u001b[39m,\n\u001b[1;32m    879\u001b[0m         )\n\u001b[1;32m    880\u001b[0m     \u001b[38;5;28;01melse\u001b[39;00m:\n\u001b[1;32m    881\u001b[0m         \u001b[38;5;66;03m# Binary mode\u001b[39;00m\n\u001b[1;32m    882\u001b[0m         handle \u001b[38;5;241m=\u001b[39m \u001b[38;5;28mopen\u001b[39m(handle, ioargs\u001b[38;5;241m.\u001b[39mmode)\n",
      "\u001b[0;31mFileNotFoundError\u001b[0m: [Errno 2] No such file or directory: 'wk2_Venezuela.csv'"
     ]
    }
   ],
   "source": [
    "aid_df = pd.DataFrame(pd.read_csv('wk2_Venezuela.csv')) # load the aid data set"
   ]
  },
  {
   "cell_type": "markdown",
   "metadata": {
    "id": "bf8HQfFV5gRd"
   },
   "source": [
    "\n",
    "Start by examing the data that is stored in this file. We can do this by printing out the column names along side the column type."
   ]
  },
  {
   "cell_type": "code",
   "execution_count": 4,
   "metadata": {
    "colab": {
     "base_uri": "https://localhost:8080/"
    },
    "executionInfo": {
     "elapsed": 135,
     "status": "ok",
     "timestamp": 1637197103178,
     "user": {
      "displayName": "Martina Balestra",
      "photoUrl": "https://lh3.googleusercontent.com/a/default-user=s64",
      "userId": "07007880778668886190"
     },
     "user_tz": 360
    },
    "id": "J-BB5VAN4Pd6",
    "outputId": "cc3ef938-a8dd-4dde-d62d-37443cbf07f6"
   },
   "outputs": [
    {
     "data": {
      "text/plain": [
       "Funding Agency                                        object\n",
       "Funding Agency - Office                               object\n",
       "Managing Agency                                       object\n",
       "Managing Agency - Office                              object\n",
       "Implementing Partner                                  object\n",
       "Implementing Partner - Type                           object\n",
       "Implementing Partner - Country                        object\n",
       "Implementing Partner - DUNS Number                    object\n",
       "Award - Interagency Transfer Status                   object\n",
       "Award - Identifier                                    object\n",
       "Award - Title                                         object\n",
       "Award - Description                                   object\n",
       "Award - Benefitting Location                          object\n",
       "Award - Status                                        object\n",
       "Award - Total Estimated Value                        float64\n",
       "Award - Signing Date                                  object\n",
       "Award - Start Date                                    object\n",
       "Award - End Date                                      object\n",
       "Award - Collaboration Type                            object\n",
       "Transaction - Description                             object\n",
       "Transaction - Value                                  float64\n",
       "Transaction - Date                                    object\n",
       "Transaction - Fiscal Year                              int64\n",
       "Transaction - Quarter                                  int64\n",
       "Transaction - Type                                    object\n",
       "Transaction - Flow Type                               object\n",
       "Transaction - Finance Type                            object\n",
       "Transaction - Aid Type                                object\n",
       "Transaction  - Tied Status                            object\n",
       "Transaction - DAC Purpose Code                         int64\n",
       "Transaction - DAC Purpose Code Name                   object\n",
       "Transaction - U.S. Foreign Assistance Sector Code      int64\n",
       "Transaction - U.S. Foreign Assistance Sector Name     object\n",
       "Transaction - U.S. Foreign Assistance Category        object\n",
       "Treasury Account - Regular Code and Main Code         object\n",
       "Treasury Account - Title                              object\n",
       "Treasury Account - Starting Fiscal Year                int64\n",
       "Treasury Account - Ending Fiscal Year                  int64\n",
       "Submission Date to FA.gov                             object\n",
       "dtype: object"
      ]
     },
     "execution_count": 4,
     "metadata": {},
     "output_type": "execute_result"
    }
   ],
   "source": [
    "aid_df.dtypes"
   ]
  },
  {
   "cell_type": "markdown",
   "metadata": {
    "id": "HIidQuSgAHt9"
   },
   "source": [
    "### Question for the class:\n",
    "\n",
    "- What do these data types represent?\n"
   ]
  },
  {
   "cell_type": "markdown",
   "metadata": {
    "id": "jj091XgG5zyM"
   },
   "source": [
    "There are **39** features collected for each award. There are several related to the Funding and managing agency, the implementing partner, the award itself, the transaction, and the treasury account.\n",
    "\n",
    "To simplify our analysis, we're going to reduce the number of columns. We'll do this by creating a new list containing the names of columns we want to keep, which we name 'cols', then subset the aid_df so that it only includes the columns in the list. "
   ]
  },
  {
   "cell_type": "code",
   "execution_count": 5,
   "metadata": {
    "executionInfo": {
     "elapsed": 103,
     "status": "ok",
     "timestamp": 1637198017728,
     "user": {
      "displayName": "Martina Balestra",
      "photoUrl": "https://lh3.googleusercontent.com/a/default-user=s64",
      "userId": "07007880778668886190"
     },
     "user_tz": 360
    },
    "id": "IdvFeUtD5uVP"
   },
   "outputs": [],
   "source": [
    "cols = ['Funding Agency',\n",
    "        'Award - Interagency Transfer Status',\n",
    "        'Transaction - DAC Purpose Code Name',\n",
    "        'Treasury Account - Title',\n",
    "        'Award - Title',\n",
    "        'Award - Description',\n",
    "        'Award - Benefitting Location',\n",
    "        'Award - Status',\n",
    "        'Award - Total Estimated Value',\n",
    "        'Award - Start Date',\n",
    "        'Award - End Date',\n",
    "        'Transaction - Description',\n",
    "        'Transaction - Type',\n",
    "        'Transaction - Aid Type',\n",
    "        'Transaction - U.S. Foreign Assistance Sector Name',\n",
    "        'Transaction - U.S. Foreign Assistance Category']\n",
    "\n",
    "aid_df = aid_df[cols]"
   ]
  },
  {
   "cell_type": "markdown",
   "metadata": {
    "id": "FXIu2vuH61RE"
   },
   "source": [
    "To preview this data set we can use the pandas 'head' command. We can specify the number of rows to output inside the parentheses, but if you leave this empty it will default to the first 5 rows."
   ]
  },
  {
   "cell_type": "code",
   "execution_count": 6,
   "metadata": {
    "colab": {
     "base_uri": "https://localhost:8080/",
     "height": 581
    },
    "executionInfo": {
     "elapsed": 107,
     "status": "ok",
     "timestamp": 1637198021477,
     "user": {
      "displayName": "Martina Balestra",
      "photoUrl": "https://lh3.googleusercontent.com/a/default-user=s64",
      "userId": "07007880778668886190"
     },
     "user_tz": 360
    },
    "id": "rPbrMtal6vf6",
    "outputId": "f83a8690-c779-48fe-d9c2-10d48fd3d399"
   },
   "outputs": [
    {
     "data": {
      "text/html": [
       "<div>\n",
       "<style scoped>\n",
       "    .dataframe tbody tr th:only-of-type {\n",
       "        vertical-align: middle;\n",
       "    }\n",
       "\n",
       "    .dataframe tbody tr th {\n",
       "        vertical-align: top;\n",
       "    }\n",
       "\n",
       "    .dataframe thead th {\n",
       "        text-align: right;\n",
       "    }\n",
       "</style>\n",
       "<table border=\"1\" class=\"dataframe\">\n",
       "  <thead>\n",
       "    <tr style=\"text-align: right;\">\n",
       "      <th></th>\n",
       "      <th>Funding Agency</th>\n",
       "      <th>Award - Interagency Transfer Status</th>\n",
       "      <th>Transaction - DAC Purpose Code Name</th>\n",
       "      <th>Treasury Account - Title</th>\n",
       "      <th>Award - Title</th>\n",
       "      <th>Award - Description</th>\n",
       "      <th>Award - Benefitting Location</th>\n",
       "      <th>Award - Status</th>\n",
       "      <th>Award - Total Estimated Value</th>\n",
       "      <th>Award - Start Date</th>\n",
       "      <th>Award - End Date</th>\n",
       "      <th>Transaction - Description</th>\n",
       "      <th>Transaction - Type</th>\n",
       "      <th>Transaction - Aid Type</th>\n",
       "      <th>Transaction - U.S. Foreign Assistance Sector Name</th>\n",
       "      <th>Transaction - U.S. Foreign Assistance Category</th>\n",
       "    </tr>\n",
       "  </thead>\n",
       "  <tbody>\n",
       "    <tr>\n",
       "      <th>0</th>\n",
       "      <td>U.S. Agency for International Development</td>\n",
       "      <td>Direct Appropriation</td>\n",
       "      <td>Democratic participation and civil society</td>\n",
       "      <td>Development Assistance, Agency for Internation...</td>\n",
       "      <td>Assisting Independent News Supply</td>\n",
       "      <td>This USAID program is part of a larger U.S.~go...</td>\n",
       "      <td>Venezuela</td>\n",
       "      <td>Implementation</td>\n",
       "      <td>19906259.0</td>\n",
       "      <td>4/1/14</td>\n",
       "      <td>3/31/24</td>\n",
       "      <td>Disbursement</td>\n",
       "      <td>Disbursement</td>\n",
       "      <td>Project-type interventions</td>\n",
       "      <td>Civil Society</td>\n",
       "      <td>Democracy, Human Rights, and Governance</td>\n",
       "    </tr>\n",
       "    <tr>\n",
       "      <th>1</th>\n",
       "      <td>U.S. Agency for International Development</td>\n",
       "      <td>Direct Appropriation</td>\n",
       "      <td>Administrative costs (non-sector allocable)</td>\n",
       "      <td>Development Assistance, Agency for Internation...</td>\n",
       "      <td>USAID Equipment, Lands, and Structures</td>\n",
       "      <td>Administrative costs and operating expenses of...</td>\n",
       "      <td>Venezuela</td>\n",
       "      <td>Finalisation</td>\n",
       "      <td>0.0</td>\n",
       "      <td>10/1/17</td>\n",
       "      <td>9/30/18</td>\n",
       "      <td>Commitment</td>\n",
       "      <td>Commitment</td>\n",
       "      <td>Administrative costs not included elsewhere</td>\n",
       "      <td>Direct Administrative Costs</td>\n",
       "      <td>Program Management</td>\n",
       "    </tr>\n",
       "    <tr>\n",
       "      <th>2</th>\n",
       "      <td>U.S. Agency for International Development</td>\n",
       "      <td>Direct Appropriation</td>\n",
       "      <td>Administrative costs (non-sector allocable)</td>\n",
       "      <td>Economic Support Fund, Funds Appropriated to t...</td>\n",
       "      <td>USAID Miscellaneous Goods, Services, and Opera...</td>\n",
       "      <td>Administrative costs and operating expenses of...</td>\n",
       "      <td>Venezuela</td>\n",
       "      <td>Finalisation</td>\n",
       "      <td>0.0</td>\n",
       "      <td>10/1/13</td>\n",
       "      <td>9/30/14</td>\n",
       "      <td>Disbursement</td>\n",
       "      <td>Disbursement</td>\n",
       "      <td>Administrative costs not included elsewhere</td>\n",
       "      <td>Direct Administrative Costs</td>\n",
       "      <td>Program Management</td>\n",
       "    </tr>\n",
       "    <tr>\n",
       "      <th>3</th>\n",
       "      <td>U.S. Agency for International Development</td>\n",
       "      <td>Direct Appropriation</td>\n",
       "      <td>Administrative costs (non-sector allocable)</td>\n",
       "      <td>Development Assistance, Agency for Internation...</td>\n",
       "      <td>Administration and Oversight</td>\n",
       "      <td>Supports the following illustrative program-fu...</td>\n",
       "      <td>Venezuela</td>\n",
       "      <td>Implementation</td>\n",
       "      <td>733742.0</td>\n",
       "      <td>10/1/19</td>\n",
       "      <td>9/30/20</td>\n",
       "      <td>Disbursement</td>\n",
       "      <td>Disbursement</td>\n",
       "      <td>Administrative costs not included elsewhere</td>\n",
       "      <td>Direct Administrative Costs</td>\n",
       "      <td>Program Management</td>\n",
       "    </tr>\n",
       "    <tr>\n",
       "      <th>4</th>\n",
       "      <td>U.S. Agency for International Development</td>\n",
       "      <td>Direct Appropriation</td>\n",
       "      <td>Democratic participation and civil society</td>\n",
       "      <td>Economic Support Fund, Funds Appropriated to t...</td>\n",
       "      <td>National Assembly</td>\n",
       "      <td>USAID is building the capacity of the democrat...</td>\n",
       "      <td>Venezuela</td>\n",
       "      <td>Finalisation</td>\n",
       "      <td>8400000.0</td>\n",
       "      <td>9/30/16</td>\n",
       "      <td>9/30/20</td>\n",
       "      <td>Disbursement</td>\n",
       "      <td>Disbursement</td>\n",
       "      <td>Project-type interventions</td>\n",
       "      <td>Good Governance</td>\n",
       "      <td>Democracy, Human Rights, and Governance</td>\n",
       "    </tr>\n",
       "  </tbody>\n",
       "</table>\n",
       "</div>"
      ],
      "text/plain": [
       "                              Funding Agency  ... Transaction - U.S. Foreign Assistance Category\n",
       "0  U.S. Agency for International Development  ...        Democracy, Human Rights, and Governance\n",
       "1  U.S. Agency for International Development  ...                             Program Management\n",
       "2  U.S. Agency for International Development  ...                             Program Management\n",
       "3  U.S. Agency for International Development  ...                             Program Management\n",
       "4  U.S. Agency for International Development  ...        Democracy, Human Rights, and Governance\n",
       "\n",
       "[5 rows x 16 columns]"
      ]
     },
     "execution_count": 6,
     "metadata": {},
     "output_type": "execute_result"
    }
   ],
   "source": [
    "aid_df.head()"
   ]
  },
  {
   "cell_type": "markdown",
   "metadata": {
    "id": "17mpry5f8ITE"
   },
   "source": [
    "Let's start by focusing on the **award amount**.\n",
    "\n",
    "The award amount is reported in the column labeled 'Award - Total Estimated Value'. Let's look at the distribution of those values.\n",
    "\n",
    "We do this using pandas' 'describe' command which prints out the sample size, mean, standard deviation, range, and percentiles for the data. "
   ]
  },
  {
   "cell_type": "code",
   "execution_count": 7,
   "metadata": {
    "colab": {
     "base_uri": "https://localhost:8080/"
    },
    "executionInfo": {
     "elapsed": 122,
     "status": "ok",
     "timestamp": 1637198025357,
     "user": {
      "displayName": "Martina Balestra",
      "photoUrl": "https://lh3.googleusercontent.com/a/default-user=s64",
      "userId": "07007880778668886190"
     },
     "user_tz": 360
    },
    "id": "bsANZKZZKdWf",
    "outputId": "cf826d9a-5605-4256-ea7c-e31f133ffd11"
   },
   "outputs": [
    {
     "data": {
      "text/plain": [
       "count    1.726000e+03\n",
       "mean     3.248593e+06\n",
       "std      1.260573e+07\n",
       "min      0.000000e+00\n",
       "25%      0.000000e+00\n",
       "50%      0.000000e+00\n",
       "75%      3.883955e+06\n",
       "max      3.159622e+08\n",
       "Name: Award - Total Estimated Value, dtype: float64"
      ]
     },
     "execution_count": 7,
     "metadata": {},
     "output_type": "execute_result"
    }
   ],
   "source": [
    "aid_df['Award - Total Estimated Value'].describe()"
   ]
  },
  {
   "cell_type": "code",
   "execution_count": 8,
   "metadata": {
    "colab": {
     "base_uri": "https://localhost:8080/"
    },
    "executionInfo": {
     "elapsed": 114,
     "status": "ok",
     "timestamp": 1637198027788,
     "user": {
      "displayName": "Martina Balestra",
      "photoUrl": "https://lh3.googleusercontent.com/a/default-user=s64",
      "userId": "07007880778668886190"
     },
     "user_tz": 360
    },
    "id": "7d0b685T88Jn",
    "outputId": "c79a61fd-3807-47c6-9699-7b0668821072"
   },
   "outputs": [
    {
     "name": "stdout",
     "output_type": "stream",
     "text": [
      "count:  1,726.0\n",
      "mean:  $ 3,248,593.0\n",
      "std:  $ 12,605,732.0\n",
      "min:  $ 0.0\n",
      "25%:  $ 0.0\n",
      "50%:  $ 0.0\n",
      "75%:  $ 3,883,955.0\n",
      "max:  $ 315,962,159.0\n"
     ]
    }
   ],
   "source": [
    "for i in range(0,aid_df['Award - Total Estimated Value'].describe().shape[0]):\n",
    "  if i == 0:\n",
    "    print(aid_df['Award - Total Estimated Value'].describe().round().index[i] + \n",
    "        \":  \"+\n",
    "        \"{:,}\".format(aid_df['Award - Total Estimated Value'].describe().round()[i]))\n",
    "  else:\n",
    "    print(aid_df['Award - Total Estimated Value'].describe().round().index[i] + \n",
    "          \":  $ \"+\n",
    "          \"{:,}\".format(aid_df['Award - Total Estimated Value'].describe().round()[i]))"
   ]
  },
  {
   "cell_type": "markdown",
   "metadata": {
    "id": "yXzEq7TuAha5"
   },
   "source": [
    "### Discussion Questions:\n",
    "\n",
    "- How do we interpret these values? \n",
    "- What do they tell us about the distribution of the aid awards?"
   ]
  },
  {
   "cell_type": "markdown",
   "metadata": {
    "id": "_Z1mWXV6_W37"
   },
   "source": [
    "Let's examine the other data in the table - including the **award type**.\n",
    "\n",
    "I'm curious what the set of qualitative features includes, but I don't want to include the columns encoding date or award description since it's a lot of text; we can examine that separately. "
   ]
  },
  {
   "cell_type": "code",
   "execution_count": 9,
   "metadata": {
    "colab": {
     "base_uri": "https://localhost:8080/"
    },
    "executionInfo": {
     "elapsed": 128,
     "status": "ok",
     "timestamp": 1637198031317,
     "user": {
      "displayName": "Martina Balestra",
      "photoUrl": "https://lh3.googleusercontent.com/a/default-user=s64",
      "userId": "07007880778668886190"
     },
     "user_tz": 360
    },
    "id": "TCtnje86-Cqe",
    "outputId": "d90d318d-d69d-410f-8b31-4ece712e593d"
   },
   "outputs": [
    {
     "name": "stdout",
     "output_type": "stream",
     "text": [
      "\n",
      " Funding Agency :\n",
      "\n",
      "\t U.S. Agency for International Development\n",
      "\t U.S. Department of State\n",
      "\t Inter-American Foundation\n",
      "\t U.S. Department of the Interior\n",
      "\t U.S. Department of Agriculture\n",
      "\n",
      " Award - Interagency Transfer Status :\n",
      "\n",
      "\t Direct Appropriation\n",
      "\t nan\n",
      "\t 632b\n",
      "\t 632a\n",
      "\t Direct Apportionment\n",
      "\n",
      " Transaction - DAC Purpose Code Name :\n",
      "\n",
      "\t Democratic participation and civil society\n",
      "\t Administrative costs (non-sector allocable)\n",
      "\t Relief co-ordination and support services\n",
      "\t Elections\n",
      "\t Media and free flow of information\n",
      "\t Human rights\n",
      "\t Material relief assistance and services\n",
      "\t Emergency food assistance\n",
      "\t Agricultural policy and administrative management\n",
      "\t Civilian peace-building, conflict prevention and resolution\n",
      "\t Multi-hazard response preparedness\n",
      "\t Public finance management (PFM)\n",
      "\t Multisector aid\n",
      "\t Public sector policy and administrative management\n",
      "\t Primary education\n",
      "\t Environmental policy and administrative management\n",
      "\t COVID-19 control\n",
      "\t Reproductive health care\n",
      "\t Agricultural development\n",
      "\t Legislatures and political parties\n",
      "\t Business Policy and Administration\n",
      "\t Infectious disease control\n",
      "\t Social Protection\n",
      "\t Legal and judicial development\n",
      "\t Bio-diversity\n",
      "\n",
      " Treasury Account - Title :\n",
      "\n",
      "\t Development Assistance, Agency for International Development, Funds Appropriated to the President\n",
      "\t Economic Support Fund, Funds Appropriated to the President\n",
      "\t International Disaster Assistance, Funds Appropriated to the President, U.S. Agency for International Development\n",
      "\t Migration and Refugee Assistance, State\n",
      "\t Transition Initiatives, Funds Appropriated to the President, U.S. Agency for International Development\n",
      "\t Inter-American Foundation\n",
      "\t Neotropical Migratory Bird Conservation, U.S. Fish and Wildlife Service\n",
      "\t Global Health Programs, State\n",
      "\t Andean Counterdrug Programs, State\n",
      "\t Commodity Credit Corporation Fund\n",
      "\t Foreign National Employees Separation Liability Fund, Agency for International Development\n",
      "\t Multinational Species Conservation Fund, United States Fish and Wildlife Service\n",
      "\n",
      " Award - Title :\n",
      "\n",
      "\t Assisting Independent News Supply\n",
      "\t USAID Equipment, Lands, and Structures\n",
      "\t USAID Miscellaneous Goods, Services, and Operations Maintanence\n",
      "\t Administration and Oversight\n",
      "\t National Assembly\n",
      "\t USAID Communications, Utilities, and Rental Payments\n",
      "\t USAID Travel and Transportation\n",
      "\t Emergency award with FFP and OFDA for South America response\n",
      "\t Transparent Electoral Processes\n",
      "\t Protection, Assistance and Solutions\n",
      "\t WASH and health activities for vulnerable migrants\n",
      "\t Program Design and Learning\n",
      "\t Supporting Democratic Institutions and Transparent Electoral Processes\n",
      "\t Citizen Initiatives to Support Democracy\n",
      "\t Constitutional Analysis Program\n",
      "\t Protection and Promotion of Human Rights in Venezuela\n",
      "\t Venezuela Human Rights Activity\n",
      "\t Strengthening Opportunities and Pro\n",
      "\t USAID Advisory and Assistance Services\n",
      "\t Civil Society Strengthening, Venezuela Participation Project\n",
      "\t Emergency humanitarian assistance award\n",
      "\t Help restore Venezuela back to a level of agricultural self-sufficiency and provide a stronger foundation for a growing agriculture sector\n",
      "\t USAID Pay and Benefits\n",
      "\t Emergency Food and Medical Assistance for Venezuel\n",
      "\t Staff Travel Costs\n",
      "\t Grants, Subsidies and Contributions - Cooperative Agreements\n",
      "\t Sectoral Planning by Democratic Stakeholders\n",
      "\t Civil Society\n",
      "\t Recycling for Sustainability\n",
      "\t Emergency Health Program\n",
      "\t OTI/PEACE & DEMOCRACY ADVNCD IN KEY CONFLICT-PRONE COUNTRIES\n",
      "\t Supporting Colombian refugees\n",
      "\t Information has been Redacted in accordance with the two principled exceptions of the Foreign Aid Transparency and Accountability Act (FATAA) of 2016; including the health and security of implementing partners, as well as national interest of the United States.\n",
      "\t Humanitarian Assistance in Venezuela\n",
      "\t Venezuela Assistance\n",
      "\t Human Rights\n",
      "\t Task order for FEWS NET FY17 activities and bridge for FEWS NET7\n",
      "\t CBSI-DC-ESF-LAC/CAR A&O\n",
      "\t P-Advisory- Promoting Excellence in Private Sector Engagement (PEPSE)\n",
      "\t Institutional Communications Capacity and Systems Building of the NCID\n",
      "\t EDU: Education Support Contract\n",
      "\t Feed the Future Innovation Lab for Food Security Policy (FSP)\n",
      "\t Emergency Assistance for VZ\n",
      "\t HIAS Psychosocial Assistance\n",
      "\t Human Rights Leader with Associates Award to Freedom House\n",
      "\t Private Sector Roadmap\n",
      "\t Civic Participation\n",
      "\t MIGRATORY BIRD CONSERVATION THROUGH COFF\n",
      "\t Good Governance\n",
      "\t Data for Impact (D4I)\n",
      "\t Administrative Costs\n",
      "\t Venezuela COVID19 assistance\n",
      "\t New Partnerships Initiative: EXPAND (New Partners for Better Health)\n",
      "\t MIGRATORY BIRD CONSERVATION VIA SHADE CR\n",
      "\t Independent Media and Free Flow of Information\n",
      "\t nan\n",
      "\t Promoting and Supporting the Development of a Second-Tier Organization for the Empowerment of Small-Scale Cacao Producers in the Paria Region of the State of Sucre.\n",
      "\t Strengthening ASOPROTOY Association in Commercial Coffee Production in Torondoy, Merida, Venezuela.\n",
      "\t Emergency Assistance to support\n",
      "\t Grants, Subsidies and Contributions - Voluntary Contributions\n",
      "\t Protection and Solutions\n",
      "\t Public Finance Management-PFM II IDIQ Task Order\n",
      "\t LAC Cost Recovery-funded IT - 2019\n",
      "\t Pilot Economic Recovery Activities\n",
      "\t Food for Progress\n",
      "\t Administrative costs\n",
      "\t Emergency support to vulnerable migrants.\n",
      "\t Emergency Assistance for Persons in\n",
      "\t Conflict Mitigation and Stabilization\n",
      "\t Title II assistance\n",
      "\t Political Parties\n",
      "\t Retaining the cacao tradition through economic, environmental, and social development in the Northern sector of the state of Carabobo\n",
      "\t Disaster Readiness\n",
      "\t ARCA: Community Center for Training and Fair Trade\n",
      "\t Technical Assistance to Venezuela\n",
      "\t Political Competition and Consensus-Building\n",
      "\t Small-Scale Aquaculture Investments for Livelihoods (SAIL)'; Implementing_Mech_Purpose_Smt = 'Increase the availability of diverse, safe, affordable nutrient-rich foods, especially for women and young children from poor and vulnerable households. And strengthening of aquaculture market system.\n",
      "\t Participatory Needs Assessment with Low- Income Communities in the State of Carabobo\n",
      "\t Professional Services for M/OAA and select M Offices\n",
      "\t SWIFT III Task Order for Venezuela\n",
      "\t Participation of Young Women and Men in Constructing Societies Free of Violence\n",
      "\t OFDA Logistics IAA with Air Force Installation and Mission Support Center (AFIMSC)\n",
      "\t Conservation of endangered southeastern Caribbean hawksbill turtles, Eretmochelys imbricata, in Los Roques Archipiélago National Park, Venezuela\n",
      "\t Program Management Support Services\n",
      "\t RET Venezuela\n",
      "\n",
      " Award - Benefitting Location :\n",
      "\n",
      "\t Venezuela\n",
      "\n",
      " Award - Status :\n",
      "\n",
      "\t Implementation\n",
      "\t Finalisation\n",
      "\t nan\n",
      "\t Closed\n",
      "\n",
      " Transaction - Description :\n",
      "\n",
      "\t Disbursement\n",
      "\t Commitment\n",
      "\t Original - COOPERATIVE AGREEMENTS\n",
      "\t nan\n",
      "\t Original - VOLUNTARY CONTRIBUTIONS\n",
      "\t 3 - Disbursement\n",
      "\t 2 - Commitment\n",
      "\t Program Award\n",
      "\t Interagency Agreement between federal agencies, by which CLDP will provide technical assistance to designated country or countries\n",
      "\t One time obligation\n",
      "\t One-time disbursement\n",
      "\t One-time obligation\n",
      "\n",
      " Transaction - Type :\n",
      "\n",
      "\t Disbursement\n",
      "\t Commitment\n",
      "\n",
      " Transaction - Aid Type :\n",
      "\n",
      "\t Project-type interventions\n",
      "\t Administrative costs not included elsewhere\n",
      "\t Other technical assistance\n",
      "\t General budget support\n",
      "\n",
      " Transaction - U.S. Foreign Assistance Sector Name :\n",
      "\n",
      "\t Civil Society\n",
      "\t Direct Administrative Costs\n",
      "\t Good Governance\n",
      "\t Protection, Assistance and Solutions\n",
      "\t Political Competition and Consensus-Building\n",
      "\t Rule of Law and Human Rights\n",
      "\t Agriculture\n",
      "\t Conflict Mitigation and Reconciliation\n",
      "\t Disaster Readiness\n",
      "\t Economic Opportunity\n",
      "\t Monitoring and Evaluation\n",
      "\t Environment - General\n",
      "\t Maternal and Child Health\n",
      "\t Multi-sector - Unspecified\n",
      "\t Economic Development - General\n",
      "\t Social Services\n",
      "\t Natural Resources and Biodiversity\n",
      "\n",
      " Transaction - U.S. Foreign Assistance Category :\n",
      "\n",
      "\t Democracy, Human Rights, and Governance\n",
      "\t Program Management\n",
      "\t Humanitarian Assistance\n",
      "\t Economic Development\n",
      "\t Peace and Security\n",
      "\t Environment\n",
      "\t Health\n",
      "\t Multi-sector\n",
      "\t Education and Social Services\n"
     ]
    }
   ],
   "source": [
    "for col in aid_df.drop(columns=['Award - Total Estimated Value', 'Award - Start Date','Award - End Date', 'Award - Description']):\n",
    "  print('\\n',col,':\\n')\n",
    "  for row in aid_df[col].unique():\n",
    "    print('\\t',row)"
   ]
  },
  {
   "cell_type": "markdown",
   "metadata": {
    "id": "8Kt-P3EJC6SP"
   },
   "source": [
    "Looking at the aid description might help us to interpret all of this data better. I'm randomingly selecting the first couple of text award descriptions - remember that indices in python begin at **0** not **1**."
   ]
  },
  {
   "cell_type": "code",
   "execution_count": 10,
   "metadata": {
    "colab": {
     "base_uri": "https://localhost:8080/",
     "height": 88
    },
    "executionInfo": {
     "elapsed": 128,
     "status": "ok",
     "timestamp": 1637198034947,
     "user": {
      "displayName": "Martina Balestra",
      "photoUrl": "https://lh3.googleusercontent.com/a/default-user=s64",
      "userId": "07007880778668886190"
     },
     "user_tz": 360
    },
    "id": "UN4jB6AeBSPg",
    "outputId": "2cf11d00-4b5d-4365-b213-0fe834307c2e"
   },
   "outputs": [
    {
     "data": {
      "application/vnd.google.colaboratory.intrinsic+json": {
       "type": "string"
      },
      "text/plain": [
       "'This USAID program is part of a larger U.S.~government effort to promote democratic representative governance in Venezuela and similar to democracy and governance support in various countries around the world. The program responds to increasing government control over news and information available on broadcast media, seeking to increase the availability of independent news to lower-income Venezuelans who do not have reliable, efficient access to the internet. The program will support Venezuelan journalist networks, adapt independent news content to formats and styles that lower-income Venezuelans prefer, and support information distribution channels that are accessible to the target audience.'"
      ]
     },
     "execution_count": 10,
     "metadata": {},
     "output_type": "execute_result"
    }
   ],
   "source": [
    "aid_df['Award - Description'][0]"
   ]
  },
  {
   "cell_type": "code",
   "execution_count": 11,
   "metadata": {
    "colab": {
     "base_uri": "https://localhost:8080/"
    },
    "executionInfo": {
     "elapsed": 155,
     "status": "ok",
     "timestamp": 1637198037691,
     "user": {
      "displayName": "Martina Balestra",
      "photoUrl": "https://lh3.googleusercontent.com/a/default-user=s64",
      "userId": "07007880778668886190"
     },
     "user_tz": 360
    },
    "id": "uMDdSMwbDe5F",
    "outputId": "38c01623-d371-4dbb-c8d5-d2b3dadb8df2"
   },
   "outputs": [
    {
     "data": {
      "text/plain": [
       "Funding Agency                                               U.S. Agency for International Development\n",
       "Award - Interagency Transfer Status                                               Direct Appropriation\n",
       "Transaction - DAC Purpose Code Name                         Democratic participation and civil society\n",
       "Treasury Account - Title                             Development Assistance, Agency for Internation...\n",
       "Award - Title                                                        Assisting Independent News Supply\n",
       "Award - Benefitting Location                                                                 Venezuela\n",
       "Award - Status                                                                          Implementation\n",
       "Award - Total Estimated Value                                                              1.99063e+07\n",
       "Award - Start Date                                                                              4/1/14\n",
       "Award - End Date                                                                               3/31/24\n",
       "Transaction - Description                                                                 Disbursement\n",
       "Transaction - Type                                                                        Disbursement\n",
       "Transaction - Aid Type                                                      Project-type interventions\n",
       "Transaction - U.S. Foreign Assistance Sector Name                                        Civil Society\n",
       "Transaction - U.S. Foreign Assistance Category                 Democracy, Human Rights, and Governance\n",
       "Name: 0, dtype: object"
      ]
     },
     "execution_count": 11,
     "metadata": {},
     "output_type": "execute_result"
    }
   ],
   "source": [
    "aid_df.loc[0, aid_df.columns != 'Award - Description']"
   ]
  },
  {
   "cell_type": "markdown",
   "metadata": {
    "id": "JAAJ9uVhHQbv"
   },
   "source": [
    "Let's start pre-processing this data in anticipation of future analyses.\n",
    "\n",
    "Real data can require a lot of processing to translate it into a format that is usable in data visualizations and statistical or other types of analyses that we might want to do. \n",
    "\n",
    "For example, we know from our earlier examination of the data that there are 'nan's in the data represented as strings. Let's convert these to NAs formally so that we can count how much data is missing then remove them from the data set."
   ]
  },
  {
   "cell_type": "code",
   "execution_count": 12,
   "metadata": {
    "colab": {
     "base_uri": "https://localhost:8080/"
    },
    "executionInfo": {
     "elapsed": 108,
     "status": "ok",
     "timestamp": 1637198040765,
     "user": {
      "displayName": "Martina Balestra",
      "photoUrl": "https://lh3.googleusercontent.com/a/default-user=s64",
      "userId": "07007880778668886190"
     },
     "user_tz": 360
    },
    "id": "u3T9b8x-GomY",
    "outputId": "4d7063ad-162e-48bf-ce31-8c6b6b8af32b"
   },
   "outputs": [
    {
     "data": {
      "text/plain": [
       "Funding Agency                                        0\n",
       "Award - Interagency Transfer Status                  48\n",
       "Transaction - DAC Purpose Code Name                   0\n",
       "Treasury Account - Title                              0\n",
       "Award - Title                                         2\n",
       "Award - Description                                   0\n",
       "Award - Benefitting Location                          0\n",
       "Award - Status                                       76\n",
       "Award - Total Estimated Value                         0\n",
       "Award - Start Date                                   50\n",
       "Award - End Date                                     58\n",
       "Transaction - Description                            26\n",
       "Transaction - Type                                    0\n",
       "Transaction - Aid Type                                0\n",
       "Transaction - U.S. Foreign Assistance Sector Name     0\n",
       "Transaction - U.S. Foreign Assistance Category        0\n",
       "dtype: int64"
      ]
     },
     "execution_count": 12,
     "metadata": {},
     "output_type": "execute_result"
    }
   ],
   "source": [
    "aid_df = aid_df.replace('nan', np.nan)\n",
    "aid_df.isna().sum()"
   ]
  },
  {
   "cell_type": "markdown",
   "metadata": {
    "id": "uA3amBy9IFQg"
   },
   "source": [
    "Several columns contain missig data. Different types of analyses may require you to remove NAs or not; think carefully where those NAs might come from and how they are distributed in the data. For the purpose of this case study, we'll go ahead and remove these rows from the data."
   ]
  },
  {
   "cell_type": "code",
   "execution_count": 13,
   "metadata": {
    "colab": {
     "base_uri": "https://localhost:8080/"
    },
    "executionInfo": {
     "elapsed": 115,
     "status": "ok",
     "timestamp": 1637198043841,
     "user": {
      "displayName": "Martina Balestra",
      "photoUrl": "https://lh3.googleusercontent.com/a/default-user=s64",
      "userId": "07007880778668886190"
     },
     "user_tz": 360
    },
    "id": "dvKwZqlwHrU2",
    "outputId": "5992e446-dcfa-4a56-f5c5-d1cb41739d7a"
   },
   "outputs": [
    {
     "data": {
      "text/plain": [
       "Funding Agency                                       0\n",
       "Award - Interagency Transfer Status                  0\n",
       "Transaction - DAC Purpose Code Name                  0\n",
       "Treasury Account - Title                             0\n",
       "Award - Title                                        0\n",
       "Award - Description                                  0\n",
       "Award - Benefitting Location                         0\n",
       "Award - Status                                       0\n",
       "Award - Total Estimated Value                        0\n",
       "Award - Start Date                                   0\n",
       "Award - End Date                                     0\n",
       "Transaction - Description                            0\n",
       "Transaction - Type                                   0\n",
       "Transaction - Aid Type                               0\n",
       "Transaction - U.S. Foreign Assistance Sector Name    0\n",
       "Transaction - U.S. Foreign Assistance Category       0\n",
       "dtype: int64"
      ]
     },
     "execution_count": 13,
     "metadata": {},
     "output_type": "execute_result"
    }
   ],
   "source": [
    "aid_df = aid_df.dropna(axis='rows')\n",
    "aid_df.isna().sum()"
   ]
  },
  {
   "cell_type": "markdown",
   "metadata": {
    "id": "vIwceR4tIq51"
   },
   "source": [
    "Let's look at the distribution of different purposes for which these grants were used.\n",
    "\n",
    "I'm going to do this by counting the number of occurances of each qualitative feature in the column `Transaction - DAC Purpose Code Name`, and then print them out in descending order."
   ]
  },
  {
   "cell_type": "code",
   "execution_count": 14,
   "metadata": {
    "colab": {
     "base_uri": "https://localhost:8080/"
    },
    "executionInfo": {
     "elapsed": 121,
     "status": "ok",
     "timestamp": 1637198046720,
     "user": {
      "displayName": "Martina Balestra",
      "photoUrl": "https://lh3.googleusercontent.com/a/default-user=s64",
      "userId": "07007880778668886190"
     },
     "user_tz": 360
    },
    "id": "P-6E6XfLIf1J",
    "outputId": "2106ccb3-defd-4963-e846-e79f018898c4"
   },
   "outputs": [
    {
     "data": {
      "text/plain": [
       "Administrative costs (non-sector allocable)                    785\n",
       "Democratic participation and civil society                     251\n",
       "Relief co-ordination and support services                      238\n",
       "Human rights                                                   107\n",
       "Media and free flow of information                              76\n",
       "Public finance management (PFM)                                 40\n",
       "Elections                                                       31\n",
       "Emergency food assistance                                       25\n",
       "Civilian peace-building, conflict prevention and resolution     25\n",
       "Public sector policy and administrative management              19\n",
       "Multi-hazard response preparedness                              12\n",
       "Legislatures and political parties                               8\n",
       "Agricultural policy and administrative management                7\n",
       "COVID-19 control                                                 4\n",
       "Business Policy and Administration                               4\n",
       "Environmental policy and administrative management               3\n",
       "Infectious disease control                                       2\n",
       "Bio-diversity                                                    2\n",
       "Primary education                                                2\n",
       "Multisector aid                                                  1\n",
       "Reproductive health care                                         1\n",
       "Agricultural development                                         1\n",
       "Name: Transaction - DAC Purpose Code Name, dtype: int64"
      ]
     },
     "execution_count": 14,
     "metadata": {},
     "output_type": "execute_result"
    }
   ],
   "source": [
    "aid_count = aid_df['Transaction - DAC Purpose Code Name'].value_counts(ascending=False)\n",
    "aid_count"
   ]
  },
  {
   "cell_type": "code",
   "execution_count": 17,
   "metadata": {
    "colab": {
     "base_uri": "https://localhost:8080/",
     "height": 701
    },
    "executionInfo": {
     "elapsed": 638,
     "status": "ok",
     "timestamp": 1637198066225,
     "user": {
      "displayName": "Martina Balestra",
      "photoUrl": "https://lh3.googleusercontent.com/a/default-user=s64",
      "userId": "07007880778668886190"
     },
     "user_tz": 360
    },
    "id": "AWZ-chLo4r-Q",
    "outputId": "40242b74-6f71-49e5-ba95-b25c8d1973ba"
   },
   "outputs": [
    {
     "data": {
      "text/plain": [
       "Text(0, 0.5, 'Award Type')"
      ]
     },
     "execution_count": 17,
     "metadata": {},
     "output_type": "execute_result"
    },
    {
     "data": {
      "image/png": "[encoded data removed]",
      "text/plain": [
       "<Figure size 1200x800 with 1 Axes>"
      ]
     },
     "metadata": {
      "needs_background": "light"
     },
     "output_type": "display_data"
    }
   ],
   "source": [
    "plt.barh(aid_count.index,aid_count,color='green')\n",
    "plt.xlabel(\"Number of awards\")\n",
    "plt.ylabel(\"Award Type\")"
   ]
  },
  {
   "cell_type": "markdown",
   "metadata": {
    "id": "q3-7cMlhKTbj"
   },
   "source": [
    "### Discussion Questions:\n",
    "\n",
    "- What picture is this beginning to paint about the aid rewards? Do you see anything interesting or surprising in these plots?\n",
    "- What should we focus on to help us to understand the relationship between reward type and amount? \n",
    "- What can we do to the data to produce a more informative plot?\n",
    "\n"
   ]
  },
  {
   "cell_type": "markdown",
   "metadata": {
    "id": "EUyVdgaqB1Bv"
   },
   "source": [
    "Most grants are designated for administrative costs. This is interesting, and telling, but maybe not so interesting for understanding the more substantive categories of aid grants. I want to know how the number of aid awards correspond to the amount of money granted in aid. Because they are on different scales (counts vs. $) I will min-max normalize the data so that it is all on the same scale. "
   ]
  },
  {
   "cell_type": "code",
   "execution_count": null,
   "metadata": {
    "colab": {
     "base_uri": "https://localhost:8080/",
     "height": 701
    },
    "executionInfo": {
     "elapsed": 777,
     "status": "ok",
     "timestamp": 1631474681128,
     "user": {
      "displayName": "Martina Balestra",
      "photoUrl": "https://lh3.googleusercontent.com/a/default-user=s64",
      "userId": "07007880778668886190"
     },
     "user_tz": 300
    },
    "id": "Q_R3WcSL70kF",
    "outputId": "f35bb718-bc51-4874-83ef-b2936cc529e9"
   },
   "outputs": [
    {
     "data": {
      "text/plain": [
       "Text(0, 0.5, 'Award Type')"
      ]
     },
     "execution_count": 13,
     "metadata": {},
     "output_type": "execute_result"
    },
    {
     "data": {
      "image/png": "[encoded data removed]",
      "text/plain": [
       "<Figure size 1200x800 with 1 Axes>"
      ]
     },
     "metadata": {
      "needs_background": "light"
     },
     "output_type": "display_data"
    }
   ],
   "source": [
    "aid_idx = aid_count.index\n",
    "aid_amount = aid_df.groupby('Transaction - DAC Purpose Code Name')['Award - Total Estimated Value'].sum().loc[aid_idx]\n",
    "amount_per_award = aid_amount/aid_count\n",
    "\n",
    "print_df = pd.DataFrame({'number_of_awards':aid_count,\n",
    "                         'total_award_amount':aid_amount},\n",
    "                        index=aid_idx)\n",
    "\n",
    "print_df['number_of_awards'] = (print_df['number_of_awards']-print_df['number_of_awards'].min())/(print_df['number_of_awards'].max()-print_df['number_of_awards'].min())\n",
    "print_df['total_award_amount'] = (print_df['total_award_amount']-print_df['total_award_amount'].min())/(print_df['total_award_amount'].max()-print_df['total_award_amount'].min())\n",
    "\n",
    "print_df.plot.barh() \n",
    "plt.xlabel(\"Min-Max Normalized Number & Amount of Awards\")\n",
    "plt.ylabel(\"Award Type\")"
   ]
  },
  {
   "cell_type": "markdown",
   "metadata": {
    "id": "XHabACKfBhJ8"
   },
   "source": [
    "###Discussion Questions:\n",
    "\n",
    "- How do we interpret this? \n",
    "- What can we learn about these aid awards? Is this as you would expect?\n",
    "\n"
   ]
  },
  {
   "cell_type": "markdown",
   "metadata": {
    "id": "weVI7eb5EI-y"
   },
   "source": [
    "We now have a very high-level view of the number and amount of aid awards. Let's next look at how these awards were administered over time. \n",
    "\n",
    "We first want to convert dates into a format that we can use for our analyses. Pandas has some built-in support for dates - the 'to_datetime' command forces a string representing a date into a formal date format"
   ]
  },
  {
   "cell_type": "markdown",
   "metadata": {
    "id": "TyzEukOsbVm7"
   },
   "source": [
    "Note that 2009 and 2010 - we can assume that this is because there were no awards made in those years. In this case, absence is still informative, so we want to add those values back into the dataset."
   ]
  },
  {
   "cell_type": "code",
   "execution_count": null,
   "metadata": {
    "id": "ZRpWteTeij6u"
   },
   "outputs": [],
   "source": [
    "aid_df['Award - Start Date'] = pd.to_datetime(aid_df['Award - Start Date'], infer_datetime_format=True) \n",
    "aid_df['Award - End Date'] = pd.to_datetime(aid_df['Award - End Date'], infer_datetime_format=True) \n",
    "aid_df['start_year'] = pd.DatetimeIndex(aid_df['Award - Start Date']).year"
   ]
  },
  {
   "cell_type": "code",
   "execution_count": null,
   "metadata": {
    "colab": {
     "base_uri": "https://localhost:8080/",
     "height": 638
    },
    "executionInfo": {
     "elapsed": 133,
     "status": "ok",
     "timestamp": 1631476000780,
     "user": {
      "displayName": "Martina Balestra",
      "photoUrl": "https://lh3.googleusercontent.com/a/default-user=s64",
      "userId": "07007880778668886190"
     },
     "user_tz": 300
    },
    "id": "Ro8QcMAveBDC",
    "outputId": "988a7546-4f38-4d59-be2e-20bb8a44b013"
   },
   "outputs": [
    {
     "data": {
      "text/html": [
       "<div>\n",
       "<style scoped>\n",
       "    .dataframe tbody tr th:only-of-type {\n",
       "        vertical-align: middle;\n",
       "    }\n",
       "\n",
       "    .dataframe tbody tr th {\n",
       "        vertical-align: top;\n",
       "    }\n",
       "\n",
       "    .dataframe thead th {\n",
       "        text-align: right;\n",
       "    }\n",
       "</style>\n",
       "<table border=\"1\" class=\"dataframe\">\n",
       "  <thead>\n",
       "    <tr style=\"text-align: right;\">\n",
       "      <th>Transaction - DAC Purpose Code Name</th>\n",
       "      <th>Administrative costs (non-sector allocable)</th>\n",
       "      <th>Democratic participation and civil society</th>\n",
       "      <th>Human rights</th>\n",
       "      <th>Other</th>\n",
       "      <th>Relief co-ordination and support services</th>\n",
       "    </tr>\n",
       "  </thead>\n",
       "  <tbody>\n",
       "    <tr>\n",
       "      <th>2002</th>\n",
       "      <td>57</td>\n",
       "      <td>0</td>\n",
       "      <td>0</td>\n",
       "      <td>0</td>\n",
       "      <td>0</td>\n",
       "    </tr>\n",
       "    <tr>\n",
       "      <th>2003</th>\n",
       "      <td>1</td>\n",
       "      <td>19</td>\n",
       "      <td>0</td>\n",
       "      <td>4</td>\n",
       "      <td>0</td>\n",
       "    </tr>\n",
       "    <tr>\n",
       "      <th>2004</th>\n",
       "      <td>25</td>\n",
       "      <td>0</td>\n",
       "      <td>0</td>\n",
       "      <td>0</td>\n",
       "      <td>0</td>\n",
       "    </tr>\n",
       "    <tr>\n",
       "      <th>2005</th>\n",
       "      <td>65</td>\n",
       "      <td>0</td>\n",
       "      <td>0</td>\n",
       "      <td>0</td>\n",
       "      <td>0</td>\n",
       "    </tr>\n",
       "    <tr>\n",
       "      <th>2006</th>\n",
       "      <td>19</td>\n",
       "      <td>0</td>\n",
       "      <td>0</td>\n",
       "      <td>0</td>\n",
       "      <td>0</td>\n",
       "    </tr>\n",
       "    <tr>\n",
       "      <th>2007</th>\n",
       "      <td>21</td>\n",
       "      <td>0</td>\n",
       "      <td>0</td>\n",
       "      <td>0</td>\n",
       "      <td>0</td>\n",
       "    </tr>\n",
       "    <tr>\n",
       "      <th>2008</th>\n",
       "      <td>0</td>\n",
       "      <td>16</td>\n",
       "      <td>0</td>\n",
       "      <td>3</td>\n",
       "      <td>0</td>\n",
       "    </tr>\n",
       "    <tr>\n",
       "      <th>2009</th>\n",
       "      <td>0</td>\n",
       "      <td>0</td>\n",
       "      <td>0</td>\n",
       "      <td>0</td>\n",
       "      <td>0</td>\n",
       "    </tr>\n",
       "    <tr>\n",
       "      <th>2010</th>\n",
       "      <td>0</td>\n",
       "      <td>0</td>\n",
       "      <td>0</td>\n",
       "      <td>0</td>\n",
       "      <td>0</td>\n",
       "    </tr>\n",
       "    <tr>\n",
       "      <th>2011</th>\n",
       "      <td>0</td>\n",
       "      <td>2</td>\n",
       "      <td>0</td>\n",
       "      <td>0</td>\n",
       "      <td>0</td>\n",
       "    </tr>\n",
       "    <tr>\n",
       "      <th>2012</th>\n",
       "      <td>133</td>\n",
       "      <td>24</td>\n",
       "      <td>17</td>\n",
       "      <td>32</td>\n",
       "      <td>0</td>\n",
       "    </tr>\n",
       "    <tr>\n",
       "      <th>2013</th>\n",
       "      <td>66</td>\n",
       "      <td>19</td>\n",
       "      <td>22</td>\n",
       "      <td>2</td>\n",
       "      <td>0</td>\n",
       "    </tr>\n",
       "    <tr>\n",
       "      <th>2014</th>\n",
       "      <td>45</td>\n",
       "      <td>87</td>\n",
       "      <td>3</td>\n",
       "      <td>132</td>\n",
       "      <td>1</td>\n",
       "    </tr>\n",
       "    <tr>\n",
       "      <th>2015</th>\n",
       "      <td>47</td>\n",
       "      <td>18</td>\n",
       "      <td>61</td>\n",
       "      <td>1</td>\n",
       "      <td>0</td>\n",
       "    </tr>\n",
       "    <tr>\n",
       "      <th>2016</th>\n",
       "      <td>81</td>\n",
       "      <td>35</td>\n",
       "      <td>4</td>\n",
       "      <td>9</td>\n",
       "      <td>0</td>\n",
       "    </tr>\n",
       "    <tr>\n",
       "      <th>2017</th>\n",
       "      <td>84</td>\n",
       "      <td>6</td>\n",
       "      <td>0</td>\n",
       "      <td>10</td>\n",
       "      <td>38</td>\n",
       "    </tr>\n",
       "    <tr>\n",
       "      <th>2018</th>\n",
       "      <td>64</td>\n",
       "      <td>15</td>\n",
       "      <td>0</td>\n",
       "      <td>49</td>\n",
       "      <td>116</td>\n",
       "    </tr>\n",
       "    <tr>\n",
       "      <th>2019</th>\n",
       "      <td>77</td>\n",
       "      <td>8</td>\n",
       "      <td>0</td>\n",
       "      <td>13</td>\n",
       "      <td>82</td>\n",
       "    </tr>\n",
       "    <tr>\n",
       "      <th>2020</th>\n",
       "      <td>0</td>\n",
       "      <td>2</td>\n",
       "      <td>0</td>\n",
       "      <td>8</td>\n",
       "      <td>1</td>\n",
       "    </tr>\n",
       "  </tbody>\n",
       "</table>\n",
       "</div>"
      ],
      "text/plain": [
       "Transaction - DAC Purpose Code Name  Administrative costs (non-sector allocable)  ...  Relief co-ordination and support services\n",
       "2002                                                                          57  ...                                          0\n",
       "2003                                                                           1  ...                                          0\n",
       "2004                                                                          25  ...                                          0\n",
       "2005                                                                          65  ...                                          0\n",
       "2006                                                                          19  ...                                          0\n",
       "2007                                                                          21  ...                                          0\n",
       "2008                                                                           0  ...                                          0\n",
       "2009                                                                           0  ...                                          0\n",
       "2010                                                                           0  ...                                          0\n",
       "2011                                                                           0  ...                                          0\n",
       "2012                                                                         133  ...                                          0\n",
       "2013                                                                          66  ...                                          0\n",
       "2014                                                                          45  ...                                          1\n",
       "2015                                                                          47  ...                                          0\n",
       "2016                                                                          81  ...                                          0\n",
       "2017                                                                          84  ...                                         38\n",
       "2018                                                                          64  ...                                        116\n",
       "2019                                                                          77  ...                                         82\n",
       "2020                                                                           0  ...                                          1\n",
       "\n",
       "[19 rows x 5 columns]"
      ]
     },
     "execution_count": 21,
     "metadata": {},
     "output_type": "execute_result"
    }
   ],
   "source": [
    "plot_counts = aid_df\n",
    "keep = plot_counts['Transaction - DAC Purpose Code Name'].value_counts(ascending=False).nlargest(5).index.tolist()\n",
    "plot_counts.loc[~plot_counts['Transaction - DAC Purpose Code Name'].isin(keep), 'Transaction - DAC Purpose Code Name'] = 'Other'\n",
    "\n",
    "yearly_transaction = pd.crosstab(plot_counts['Transaction - DAC Purpose Code Name'], plot_counts['start_year']).transpose()\n",
    "add_years = pd.DataFrame(index = [2009,2010], data =([0,0,0,0,0],[0,0,0,0,0]),columns=yearly_transaction.columns)\n",
    "yearly_transaction = yearly_transaction.append(add_years).sort_index()\n",
    "yearly_transaction"
   ]
  },
  {
   "cell_type": "code",
   "execution_count": null,
   "metadata": {
    "colab": {
     "base_uri": "https://localhost:8080/",
     "height": 722
    },
    "executionInfo": {
     "elapsed": 766,
     "status": "ok",
     "timestamp": 1631475987645,
     "user": {
      "displayName": "Martina Balestra",
      "photoUrl": "https://lh3.googleusercontent.com/a/default-user=s64",
      "userId": "07007880778668886190"
     },
     "user_tz": 300
    },
    "id": "316udNFrlSr5",
    "outputId": "aedda302-1763-4c2a-f298-62c7f4d5ec80"
   },
   "outputs": [
    {
     "data": {
      "text/plain": [
       "Text(0, 0.5, 'Number of aid grants')"
      ]
     },
     "execution_count": 20,
     "metadata": {},
     "output_type": "execute_result"
    },
    {
     "data": {
      "image/png": "[encoded data removed]",
      "text/plain": [
       "<Figure size 1200x800 with 1 Axes>"
      ]
     },
     "metadata": {
      "needs_background": "light"
     },
     "output_type": "display_data"
    }
   ],
   "source": [
    "ax = yearly_transaction.sort_index().plot(kind='bar',stacked=True)\n",
    "ax.set_xlabel(\"Year\")\n",
    "ax.set_ylabel(\"Number of aid grants\")"
   ]
  },
  {
   "cell_type": "markdown",
   "metadata": {
    "id": "_HUjQ-Hnxe-b"
   },
   "source": [
    "Next we are going to repeat this process for the award amounts over time."
   ]
  },
  {
   "cell_type": "code",
   "execution_count": null,
   "metadata": {
    "colab": {
     "base_uri": "https://localhost:8080/",
     "height": 655
    },
    "executionInfo": {
     "elapsed": 167,
     "status": "ok",
     "timestamp": 1623879773611,
     "user": {
      "displayName": "Martina Balestra",
      "photoUrl": "",
      "userId": "07007880778668886190"
     },
     "user_tz": 240
    },
    "id": "JvOPzK3HidWd",
    "outputId": "d02197b5-efe1-40d3-b722-1a3609a4fd72"
   },
   "outputs": [
    {
     "data": {
      "text/html": [
       "<div>\n",
       "<style scoped>\n",
       "    .dataframe tbody tr th:only-of-type {\n",
       "        vertical-align: middle;\n",
       "    }\n",
       "\n",
       "    .dataframe tbody tr th {\n",
       "        vertical-align: top;\n",
       "    }\n",
       "\n",
       "    .dataframe thead th {\n",
       "        text-align: right;\n",
       "    }\n",
       "</style>\n",
       "<table border=\"1\" class=\"dataframe\">\n",
       "  <thead>\n",
       "    <tr style=\"text-align: right;\">\n",
       "      <th>Transaction - DAC Purpose Code Name</th>\n",
       "      <th>Administrative costs (non-sector allocable)</th>\n",
       "      <th>Democratic participation and civil society</th>\n",
       "      <th>Human rights</th>\n",
       "      <th>Other</th>\n",
       "      <th>Relief co-ordination and support services</th>\n",
       "    </tr>\n",
       "  </thead>\n",
       "  <tbody>\n",
       "    <tr>\n",
       "      <th>2002</th>\n",
       "      <td>0.00</td>\n",
       "      <td>0.000000e+00</td>\n",
       "      <td>0.000000e+00</td>\n",
       "      <td>0.000000e+00</td>\n",
       "      <td>0.000000e+00</td>\n",
       "    </tr>\n",
       "    <tr>\n",
       "      <th>2003</th>\n",
       "      <td>5620381.89</td>\n",
       "      <td>1.067873e+08</td>\n",
       "      <td>0.000000e+00</td>\n",
       "      <td>2.248153e+07</td>\n",
       "      <td>0.000000e+00</td>\n",
       "    </tr>\n",
       "    <tr>\n",
       "      <th>2004</th>\n",
       "      <td>0.00</td>\n",
       "      <td>0.000000e+00</td>\n",
       "      <td>0.000000e+00</td>\n",
       "      <td>0.000000e+00</td>\n",
       "      <td>0.000000e+00</td>\n",
       "    </tr>\n",
       "    <tr>\n",
       "      <th>2005</th>\n",
       "      <td>0.00</td>\n",
       "      <td>0.000000e+00</td>\n",
       "      <td>0.000000e+00</td>\n",
       "      <td>0.000000e+00</td>\n",
       "      <td>0.000000e+00</td>\n",
       "    </tr>\n",
       "    <tr>\n",
       "      <th>2006</th>\n",
       "      <td>0.00</td>\n",
       "      <td>0.000000e+00</td>\n",
       "      <td>0.000000e+00</td>\n",
       "      <td>0.000000e+00</td>\n",
       "      <td>0.000000e+00</td>\n",
       "    </tr>\n",
       "    <tr>\n",
       "      <th>2007</th>\n",
       "      <td>0.00</td>\n",
       "      <td>0.000000e+00</td>\n",
       "      <td>0.000000e+00</td>\n",
       "      <td>0.000000e+00</td>\n",
       "      <td>0.000000e+00</td>\n",
       "    </tr>\n",
       "    <tr>\n",
       "      <th>2008</th>\n",
       "      <td>0.00</td>\n",
       "      <td>7.905000e+07</td>\n",
       "      <td>0.000000e+00</td>\n",
       "      <td>1.581000e+07</td>\n",
       "      <td>0.000000e+00</td>\n",
       "    </tr>\n",
       "    <tr>\n",
       "      <th>2011</th>\n",
       "      <td>0.00</td>\n",
       "      <td>0.000000e+00</td>\n",
       "      <td>0.000000e+00</td>\n",
       "      <td>0.000000e+00</td>\n",
       "      <td>0.000000e+00</td>\n",
       "    </tr>\n",
       "    <tr>\n",
       "      <th>2012</th>\n",
       "      <td>54460612.03</td>\n",
       "      <td>4.333048e+07</td>\n",
       "      <td>2.226465e+07</td>\n",
       "      <td>1.780461e+07</td>\n",
       "      <td>0.000000e+00</td>\n",
       "    </tr>\n",
       "    <tr>\n",
       "      <th>2013</th>\n",
       "      <td>0.00</td>\n",
       "      <td>4.414500e+08</td>\n",
       "      <td>4.290000e+07</td>\n",
       "      <td>1.400000e+08</td>\n",
       "      <td>0.000000e+00</td>\n",
       "    </tr>\n",
       "    <tr>\n",
       "      <th>2014</th>\n",
       "      <td>0.00</td>\n",
       "      <td>1.100142e+09</td>\n",
       "      <td>4.167000e+07</td>\n",
       "      <td>1.086522e+09</td>\n",
       "      <td>0.000000e+00</td>\n",
       "    </tr>\n",
       "    <tr>\n",
       "      <th>2015</th>\n",
       "      <td>1905111.18</td>\n",
       "      <td>2.760000e+07</td>\n",
       "      <td>3.086500e+08</td>\n",
       "      <td>0.000000e+00</td>\n",
       "      <td>0.000000e+00</td>\n",
       "    </tr>\n",
       "    <tr>\n",
       "      <th>2016</th>\n",
       "      <td>20289631.75</td>\n",
       "      <td>2.634000e+08</td>\n",
       "      <td>2.272000e+07</td>\n",
       "      <td>7.380000e+07</td>\n",
       "      <td>0.000000e+00</td>\n",
       "    </tr>\n",
       "    <tr>\n",
       "      <th>2017</th>\n",
       "      <td>24716198.53</td>\n",
       "      <td>1.747152e+06</td>\n",
       "      <td>0.000000e+00</td>\n",
       "      <td>6.320089e+08</td>\n",
       "      <td>2.420956e+08</td>\n",
       "    </tr>\n",
       "    <tr>\n",
       "      <th>2018</th>\n",
       "      <td>3280048.00</td>\n",
       "      <td>1.048001e+08</td>\n",
       "      <td>0.000000e+00</td>\n",
       "      <td>2.099595e+08</td>\n",
       "      <td>1.132330e+08</td>\n",
       "    </tr>\n",
       "    <tr>\n",
       "      <th>2019</th>\n",
       "      <td>9163626.70</td>\n",
       "      <td>1.800000e+07</td>\n",
       "      <td>0.000000e+00</td>\n",
       "      <td>9.811912e+07</td>\n",
       "      <td>1.625913e+08</td>\n",
       "    </tr>\n",
       "    <tr>\n",
       "      <th>2020</th>\n",
       "      <td>0.00</td>\n",
       "      <td>1.340000e+07</td>\n",
       "      <td>0.000000e+00</td>\n",
       "      <td>2.500000e+07</td>\n",
       "      <td>1.030000e+07</td>\n",
       "    </tr>\n",
       "    <tr>\n",
       "      <th>2009</th>\n",
       "      <td>0.00</td>\n",
       "      <td>0.000000e+00</td>\n",
       "      <td>0.000000e+00</td>\n",
       "      <td>0.000000e+00</td>\n",
       "      <td>0.000000e+00</td>\n",
       "    </tr>\n",
       "    <tr>\n",
       "      <th>2010</th>\n",
       "      <td>0.00</td>\n",
       "      <td>0.000000e+00</td>\n",
       "      <td>0.000000e+00</td>\n",
       "      <td>0.000000e+00</td>\n",
       "      <td>0.000000e+00</td>\n",
       "    </tr>\n",
       "  </tbody>\n",
       "</table>\n",
       "</div>"
      ],
      "text/plain": [
       "Transaction - DAC Purpose Code Name  Administrative costs (non-sector allocable)  ...  Relief co-ordination and support services\n",
       "2002                                                                        0.00  ...                               0.000000e+00\n",
       "2003                                                                  5620381.89  ...                               0.000000e+00\n",
       "2004                                                                        0.00  ...                               0.000000e+00\n",
       "2005                                                                        0.00  ...                               0.000000e+00\n",
       "2006                                                                        0.00  ...                               0.000000e+00\n",
       "2007                                                                        0.00  ...                               0.000000e+00\n",
       "2008                                                                        0.00  ...                               0.000000e+00\n",
       "2011                                                                        0.00  ...                               0.000000e+00\n",
       "2012                                                                 54460612.03  ...                               0.000000e+00\n",
       "2013                                                                        0.00  ...                               0.000000e+00\n",
       "2014                                                                        0.00  ...                               0.000000e+00\n",
       "2015                                                                  1905111.18  ...                               0.000000e+00\n",
       "2016                                                                 20289631.75  ...                               0.000000e+00\n",
       "2017                                                                 24716198.53  ...                               2.420956e+08\n",
       "2018                                                                  3280048.00  ...                               1.132330e+08\n",
       "2019                                                                  9163626.70  ...                               1.625913e+08\n",
       "2020                                                                        0.00  ...                               1.030000e+07\n",
       "2009                                                                        0.00  ...                               0.000000e+00\n",
       "2010                                                                        0.00  ...                               0.000000e+00\n",
       "\n",
       "[19 rows x 5 columns]"
      ]
     },
     "execution_count": 31,
     "metadata": {
      "tags": []
     },
     "output_type": "execute_result"
    }
   ],
   "source": [
    "plot_amounts = aid_df\n",
    "keep = plot_amounts.groupby(['Transaction - DAC Purpose Code Name'])['Award - Total Estimated Value'].sum().nlargest(5).index.tolist()\n",
    "plot_amounts.loc[~plot_amounts['Transaction - DAC Purpose Code Name'].isin(keep), 'Transaction - DAC Purpose Code Name'] = 'Other'\n",
    "\n",
    "plot_amounts = plot_amounts.groupby(['Transaction - DAC Purpose Code Name','start_year'])['Award - Total Estimated Value'].sum()\n",
    "plot_amounts = plot_amounts.reset_index()\n",
    "plot_amounts = plot_amounts.pivot(index='start_year',columns='Transaction - DAC Purpose Code Name',values='Award - Total Estimated Value').fillna(0)\n",
    "\n",
    "add_years = pd.DataFrame(index = [2009,2010], data =([0,0,0,0,0],[0,0,0,0,0]),columns=plot_amounts.columns)\n",
    "plot_amounts = plot_amounts.append(add_years)\n",
    "plot_amounts"
   ]
  },
  {
   "cell_type": "code",
   "execution_count": null,
   "metadata": {
    "colab": {
     "base_uri": "https://localhost:8080/",
     "height": 737
    },
    "executionInfo": {
     "elapsed": 717,
     "status": "ok",
     "timestamp": 1623879788524,
     "user": {
      "displayName": "Martina Balestra",
      "photoUrl": "",
      "userId": "07007880778668886190"
     },
     "user_tz": 240
    },
    "id": "Qm194s5Lu1Gu",
    "outputId": "28ea3833-7d3b-4020-ee2c-382a2ff8ed6d"
   },
   "outputs": [
    {
     "data": {
      "text/plain": [
       "Text(0, 0.5, 'Total amount of aid grants')"
      ]
     },
     "execution_count": 32,
     "metadata": {
      "tags": []
     },
     "output_type": "execute_result"
    },
    {
     "data": {
      "image/png": "[encoded data removed]",
      "text/plain": [
       "<Figure size 1200x800 with 1 Axes>"
      ]
     },
     "metadata": {
      "needs_background": "light",
      "tags": []
     },
     "output_type": "display_data"
    }
   ],
   "source": [
    "ax = plot_amounts.sort_index().plot(kind='bar',stacked=True)\n",
    "ax.legend(loc='center left', bbox_to_anchor=(1.0, 0.5))\n",
    "ax.set_xlabel(\"Year\")\n",
    "ax.set_ylabel(\"Total amount of aid grants\")"
   ]
  },
  {
   "cell_type": "code",
   "execution_count": null,
   "metadata": {
    "colab": {
     "base_uri": "https://localhost:8080/",
     "height": 722
    },
    "executionInfo": {
     "elapsed": 814,
     "status": "ok",
     "timestamp": 1623879805298,
     "user": {
      "displayName": "Martina Balestra",
      "photoUrl": "",
      "userId": "07007880778668886190"
     },
     "user_tz": 240
    },
    "id": "l139mBjXx1or",
    "outputId": "9daf6e9c-c8e7-4f98-9661-e097651234a9"
   },
   "outputs": [
    {
     "data": {
      "text/plain": [
       "Text(0, 0.5, 'Number of aid grants')"
      ]
     },
     "execution_count": 33,
     "metadata": {
      "tags": []
     },
     "output_type": "execute_result"
    },
    {
     "data": {
      "image/png": "[encoded data removed]",
      "text/plain": [
       "<Figure size 1200x800 with 1 Axes>"
      ]
     },
     "metadata": {
      "needs_background": "light",
      "tags": []
     },
     "output_type": "display_data"
    }
   ],
   "source": [
    "ax = yearly_transaction.sort_index().plot(kind='bar',stacked=True)\n",
    "ax.set_xlabel(\"Year\")\n",
    "ax.set_ylabel(\"Number of aid grants\")"
   ]
  },
  {
   "cell_type": "markdown",
   "metadata": {
    "id": "LVfj3i2wwrKf"
   },
   "source": [
    "### Question to the class:\n",
    "\n",
    "What do these plots tell us about aid awards to Venezuela?"
   ]
  }
 ],
 "metadata": {
  "colab": {
   "authorship_tag": "ABX9TyPe52gCpqUjiRcPHeSNgOov",
   "collapsed_sections": [],
   "name": "Week_2.ipynb",
   "provenance": []
  },
  "kernelspec": {
   "display_name": "Python 3 (ipykernel)",
   "language": "python",
   "name": "python3"
  },
  "language_info": {
   "codemirror_mode": {
    "name": "ipython",
    "version": 3
   },
   "file_extension": ".py",
   "mimetype": "text/x-python",
   "name": "python",
   "nbconvert_exporter": "python",
   "pygments_lexer": "ipython3",
   "version": "3.12.4"
  }
 },
 "nbformat": 4,
 "nbformat_minor": 4
}
