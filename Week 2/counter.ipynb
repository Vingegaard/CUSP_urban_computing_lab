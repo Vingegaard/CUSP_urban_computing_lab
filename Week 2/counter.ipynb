{
 "cells": [
  {
   "cell_type": "markdown",
   "id": "2feaee78-bf7f-4d43-b70a-d8bd4e21f82f",
   "metadata": {},
   "source": [
    "## Coin Counter"
   ]
  },
  {
   "cell_type": "code",
   "execution_count": 7,
   "id": "d29547b5-36d6-4f78-a79f-33dddc0804b9",
   "metadata": {},
   "outputs": [
    {
     "name": "stdout",
     "output_type": "stream",
     "text": [
      "Please enter the number of coins: \n"
     ]
    },
    {
     "name": "stdin",
     "output_type": "stream",
     "text": [
      "# of quarters:  20\n",
      "# of dimes:  4\n",
      "# of nickels:  13\n",
      "# of pennies:  17\n"
     ]
    },
    {
     "name": "stdout",
     "output_type": "stream",
     "text": [
      "The total is 6 dollars and 22 cents\n"
     ]
    }
   ],
   "source": [
    "# Create user input\n",
    "print(\"Please enter the number of coins: \")\n",
    "quaters = int(input(\"# of quarters: \"))\n",
    "dimes = int(input(\"# of dimes: \"))\n",
    "nickels = int(input(\"# of nickels: \"))\n",
    "pennies = int(input(\"# of pennies: \"))\n",
    "\n",
    "# Calculate dollar + cent amount\n",
    "quaters_to_dollars = quaters * 0.25\n",
    "dimes_to_dollars = dimes * 0.1\n",
    "nickels_to_dollars = nickels * 0.05\n",
    "pennies_to_dollars = pennies * 0.01\n",
    "\n",
    "# Calculate total value of coins\n",
    "total_dollars = quaters_to_dollars + dimes_to_dollars + nickels_to_dollars + pennies_to_dollars\n",
    "\n",
    "# Separate dollars and cents\n",
    "dollars = int(total_dollars // 1)\n",
    "cents = int((total_dollars % 1) * 100)\n",
    "\n",
    "# Output\n",
    "print(f\"The total is {dollars} dollars and {cents} cents\")\n",
    "\n",
    "\n"
   ]
  },
  {
   "cell_type": "code",
   "execution_count": 9,
   "id": "65e4fcf3-ea5a-4136-844c-e7be6d2a5780",
   "metadata": {},
   "outputs": [
    {
     "name": "stdout",
     "output_type": "stream",
     "text": [
      "Please enter the number of coins: \n"
     ]
    },
    {
     "name": "stdin",
     "output_type": "stream",
     "text": [
      "# of quarters:  20\n",
      "# of dimes:  4\n",
      "# of nickels:  13\n",
      "# of pennies:  17\n"
     ]
    },
    {
     "name": "stdout",
     "output_type": "stream",
     "text": [
      "The total is 6 dollars and 22 cents\n"
     ]
    }
   ],
   "source": [
    "# Preventing non-integer input\n",
    "\n",
    "def get_positive_int(prompt):\n",
    "    while True:\n",
    "        try:\n",
    "            value = int(input(prompt))\n",
    "            if value < 0:\n",
    "                print(\"Please enter a non-negative integer.\")\n",
    "            else:\n",
    "                return value\n",
    "        except ValueError:\n",
    "            print(\"Invalid input. Please enter a valid integer.\")\n",
    "\n",
    "# Create user input\n",
    "print(\"Please enter the number of coins: \")\n",
    "quarters = get_positive_int(\"# of quarters: \")\n",
    "dimes = get_positive_int(\"# of dimes: \")\n",
    "nickels = get_positive_int(\"# of nickels: \")\n",
    "pennies = get_positive_int(\"# of pennies: \")\n",
    "\n",
    "# Calculate dollar + cent amount\n",
    "quarters_to_dollars = quarters * 0.25\n",
    "dimes_to_dollars = dimes * 0.1\n",
    "nickels_to_dollars = nickels * 0.05\n",
    "pennies_to_dollars = pennies * 0.01\n",
    "\n",
    "# Calculate total value of coins\n",
    "total_dollars = quarters_to_dollars + dimes_to_dollars + nickels_to_dollars + pennies_to_dollars\n",
    "\n",
    "# Separate dollars and cents\n",
    "dollars = int(total_dollars)\n",
    "cents = int((total_dollars - dollars) * 100)\n",
    "\n",
    "# Output\n",
    "print(f\"The total is {dollars} dollars and {cents} cents\")"
   ]
  },
  {
   "cell_type": "code",
   "execution_count": null,
   "id": "0eb74fef-bfdc-407f-aba9-cc06e3d6f641",
   "metadata": {},
   "outputs": [],
   "source": []
  }
 ],
 "metadata": {
  "kernelspec": {
   "display_name": "Python 3 (ipykernel)",
   "language": "python",
   "name": "python3"
  },
  "language_info": {
   "codemirror_mode": {
    "name": "ipython",
    "version": 3
   },
   "file_extension": ".py",
   "mimetype": "text/x-python",
   "name": "python",
   "nbconvert_exporter": "python",
   "pygments_lexer": "ipython3",
   "version": "3.12.4"
  }
 },
 "nbformat": 4,
 "nbformat_minor": 5
}
