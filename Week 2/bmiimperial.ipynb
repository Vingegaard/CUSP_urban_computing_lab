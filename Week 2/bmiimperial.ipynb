{
 "cells": [
  {
   "cell_type": "markdown",
   "id": "c11b22c4-9e74-481d-bddd-4a1538117d50",
   "metadata": {},
   "source": [
    "## BMI Imperial"
   ]
  },
  {
   "cell_type": "code",
   "execution_count": 10,
   "id": "69952eb1-d7f8-4252-8aeb-c2432fe0540f",
   "metadata": {},
   "outputs": [
    {
     "name": "stdin",
     "output_type": "stream",
     "text": [
      "Please enter weight in pounds:  135\n",
      "Please enter height in inches:  71\n"
     ]
    },
    {
     "name": "stdout",
     "output_type": "stream",
     "text": [
      "Your bmi is 18.83\n",
      "You have a healthy weight.\n"
     ]
    }
   ],
   "source": [
    "# define bmi calculator\n",
    "\n",
    "def bmi_calculator (weight, height):\n",
    "    bmi = (weight / (height ** 2))\n",
    "    return bmi\n",
    "\n",
    "# create user input\n",
    "weight = float(input(\"Please enter weight in pounds: \")) * 0.453592\n",
    "height = float(input(\"Please enter height in inches: \")) * 0.0254\n",
    "\n",
    "# calculate bmi\n",
    "bmi = bmi_calculator (weight, height)\n",
    "\n",
    "# output\n",
    "print(f\"Your bmi is {bmi:.2f}\")\n",
    "\n",
    "# Analyse BMI \n",
    "if (bmi < 18.5):\n",
    "    print(\"You are underweight.\")\n",
    "elif (18.5 <= bmi < 25):\n",
    "    print(\"You have a healthy weight.\")\n",
    "elif (25 <= bmi < 30):\n",
    "    print(\"You are overweight.\")\n",
    "elif (30 <= bmi < 35):\n",
    "    print(\"You are in class 1 obesity.\")\n",
    "elif (35 <= bmi < 40):\n",
    "    print(\"You are in class 2 obesity.\")\n",
    "else:\n",
    "    print(\"You are in class 3 obesity.\")\n",
    "\n",
    "\n"
   ]
  },
  {
   "cell_type": "code",
   "execution_count": null,
   "id": "b2f3a796-d5fe-43e0-8dcb-1a432bb3487b",
   "metadata": {},
   "outputs": [],
   "source": []
  },
  {
   "cell_type": "code",
   "execution_count": null,
   "id": "50eb487c-fa74-4485-8314-74832c739153",
   "metadata": {},
   "outputs": [],
   "source": []
  }
 ],
 "metadata": {
  "kernelspec": {
   "display_name": "Python 3 (ipykernel)",
   "language": "python",
   "name": "python3"
  },
  "language_info": {
   "codemirror_mode": {
    "name": "ipython",
    "version": 3
   },
   "file_extension": ".py",
   "mimetype": "text/x-python",
   "name": "python",
   "nbconvert_exporter": "python",
   "pygments_lexer": "ipython3",
   "version": "3.12.4"
  }
 },
 "nbformat": 4,
 "nbformat_minor": 5
}
