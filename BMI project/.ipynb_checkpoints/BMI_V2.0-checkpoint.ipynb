{
 "cells": [
  {
   "cell_type": "markdown",
   "id": "30aa1596-dc4f-4b5a-b8f7-3a65c15aa13e",
   "metadata": {},
   "source": [
    "# BMI 2.0\n",
    "\n",
    "Updating BMI calculator\n",
    "\n",
    "user interface:\n",
    "1. Get user name\n",
    "2. Upload user's file\n",
    "3. Show current status and progress with graphs\n",
    "4. Get User input(Weight, height)\n",
    "5. Update current status and progress\n",
    "6. Recommendation of the day\n",
    "7. Save file and exit\n",
    "\n",
    "BMI calculator (USE Numpy, Pandas, Matplotlib, Seaborn)\n",
    "1. Get user input (weight, height)\n",
    "2. Calculate BMI and Level\n",
    "3. Calculate the optimum level of weight and desirable weight change (up or down)\n",
    "4. Graph the progress\n",
    "\n",
    "Recommendation Engine\n",
    "1. Make recommendation in accordance with the level of BMI\n",
    "2. Exercise + Good Energy Intake + Calory Deficit/Surplus\n",
    "3. Meal plan of the day\n",
    "4. Exercise plan of the day\n",
    "5. Mental exercise of the day"
   ]
  }
 ],
 "metadata": {
  "kernelspec": {
   "display_name": "Python 3 (ipykernel)",
   "language": "python",
   "name": "python3"
  },
  "language_info": {
   "codemirror_mode": {
    "name": "ipython",
    "version": 3
   },
   "file_extension": ".py",
   "mimetype": "text/x-python",
   "name": "python",
   "nbconvert_exporter": "python",
   "pygments_lexer": "ipython3",
   "version": "3.12.4"
  }
 },
 "nbformat": 4,
 "nbformat_minor": 5
}
