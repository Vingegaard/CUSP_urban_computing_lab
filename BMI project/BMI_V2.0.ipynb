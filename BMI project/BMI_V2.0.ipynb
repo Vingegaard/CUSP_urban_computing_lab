{
 "cells": [
  {
   "cell_type": "markdown",
   "id": "30aa1596-dc4f-4b5a-b8f7-3a65c15aa13e",
   "metadata": {},
   "source": [
    "# BMI 2.0\n",
    "\n",
    "Updating BMI calculator\n",
    "\n",
    "user interface:\n",
    "1. Get user name\n",
    "2. Upload user's file\n",
    "3. Show current status and progress with graphs\n",
    "4. Get User input(Weight, height)\n",
    "5. Update current status and progress\n",
    "6. Recommendation of the day\n",
    "7. Save file and exit\n",
    "\n",
    "BMI calculator (USE Numpy, Pandas, Matplotlib, Seaborn):\n",
    "1. Get user input (weight, height)\n",
    "2. Calculate BMI and Level\n",
    "3. Calculate the optimum level of weight and desirable weight change (up or down)\n",
    "4. Graph the progress\n",
    "\n",
    "Recommendation Engine:\n",
    "1. Make recommendation in accordance with the level of BMI\n",
    "2. Exercise + Good Energy Intake + Calory Deficit/Surplus\n",
    "3. Meal plan of the day\n",
    "4. Exercise plan of the day\n",
    "5. Mental exercise of the day\n",
    "\n",
    "Side note: \n",
    "1. do I need a login?\n",
    "2. how to make a webpage or app? "
   ]
  },
  {
   "cell_type": "code",
   "execution_count": 3,
   "id": "01a84d2c-932f-4651-8b1e-84a2456f99d8",
   "metadata": {},
   "outputs": [],
   "source": [
    "import numpy as np\n",
    "import pandas as pd\n",
    "import matplotlib.pyplot as plt\n",
    "import seaborn as sns"
   ]
  },
  {
   "cell_type": "code",
   "execution_count": 15,
   "id": "56abe9b8-93da-496a-bcc4-5cd6bc1c0fe6",
   "metadata": {},
   "outputs": [
    {
     "name": "stdin",
     "output_type": "stream",
     "text": [
      "Enter your weight:  171\n"
     ]
    },
    {
     "name": "stdout",
     "output_type": "stream",
     "text": [
      "171\n"
     ]
    },
    {
     "name": "stdin",
     "output_type": "stream",
     "text": [
      "Enter your height:  84\n"
     ]
    },
    {
     "name": "stdout",
     "output_type": "stream",
     "text": [
      "84\n"
     ]
    }
   ],
   "source": [
    "def main():\n",
    "    weight = print(input(\"Enter your weight: \"))\n",
    "    height = print(input(\"Enter your height: \"))\n",
    "\n",
    "    cur_bmi = bmi_calc(weight, height)\n",
    "    \n",
    "\n",
    "def bmi_calc(weight, height):\n",
    "    cur_bmi = \n",
    "\n",
    "def bmi_lvl():\n",
    "    ...\n",
    "\n",
    "def optimum_calc():\n",
    "    ...\n",
    "\n",
    "def cur_stat():\n",
    "    ...\n",
    "\n",
    "def progress_graph():\n",
    "    ...\n",
    "\n",
    "main()\n"
   ]
  },
  {
   "cell_type": "code",
   "execution_count": null,
   "id": "f83fcffb-e665-4170-a0a2-97732e96e3da",
   "metadata": {},
   "outputs": [],
   "source": []
  },
  {
   "cell_type": "code",
   "execution_count": null,
   "id": "79bcf1e4-c3bf-409a-ab3e-3282595b0a6d",
   "metadata": {},
   "outputs": [],
   "source": []
  }
 ],
 "metadata": {
  "kernelspec": {
   "display_name": "Python 3 (ipykernel)",
   "language": "python",
   "name": "python3"
  },
  "language_info": {
   "codemirror_mode": {
    "name": "ipython",
    "version": 3
   },
   "file_extension": ".py",
   "mimetype": "text/x-python",
   "name": "python",
   "nbconvert_exporter": "python",
   "pygments_lexer": "ipython3",
   "version": "3.12.4"
  }
 },
 "nbformat": 4,
 "nbformat_minor": 5
}
