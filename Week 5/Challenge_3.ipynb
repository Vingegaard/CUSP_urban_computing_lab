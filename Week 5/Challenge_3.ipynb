{
 "cells": [
  {
   "cell_type": "markdown",
   "metadata": {
    "jp-MarkdownHeadingCollapsed": true
   },
   "source": [
    "<h1 align='center'>Instructions</h1>\n"
   ]
  },
  {
   "cell_type": "markdown",
   "metadata": {},
   "source": [
    "# To Do !!\n",
    "We all have those days when there are a many things to do, and we don't know how we're going to get it all done.. Sonner than later we miss the tasks that we needed to do! \n",
    "\n",
    "So for this assignment, you should create a ToDo list. It should at least be able to do the following things:\n",
    "- Add an item to the To-Do list\n",
    "- Delete an item from the To-Do list\n",
    "- Print the To-Do list\n",
    "- All the To-Do's should be written to a file so that you can load it later.\n",
    "\n",
    "**Example**:\n",
    "\n",
    ">Input:\n",
    "\n",
    "```\n",
    "addTask('Take dog for a walk')\n",
    "addTask('Submit Challenge 3 solutions')\n",
    "viewTask()\n",
    "```\n",
    "\n",
    ">Output:\n",
    "\n",
    "```\n",
    "Tasks:\n",
    "1. Take dog for a walk\n",
    "2. Submit Challenge 3 solutions\n",
    "\n",
    "```\n",
    "\n",
    "> Input:\n",
    "\n",
    "```\n",
    "delTask(1)\n",
    "viewTask()\n",
    "```\n",
    "\n",
    ">Output:\n",
    "\n",
    "```\n",
    "1. Submit Challenge 3 solutions\n",
    "```\n",
    "\n",
    "**Bonus:**\n",
    "If you are feeling enthused, feel free to add as many functionalities as you would like (to get bonus, add atleast following 3)\n",
    "- Add priority to a task\n",
    "- Sort tasks by priorities\n",
    "- Add deadline (using [`datetime`](https://docs.python.org/2/library/datetime.html) module)for completion of the tasks and then sort them accordingly"
   ]
  },
  {
   "cell_type": "code",
   "execution_count": 49,
   "metadata": {},
   "outputs": [],
   "source": [
    "import pandas as pd\n",
    "\n",
    "# Initialize the To-Do List DataFrame\n",
    "data = {\n",
    "    'Task': [],\n",
    "    'Priority': [],\n",
    "    'Deadline': []\n",
    "}\n",
    "\n",
    "tdl = pd.DataFrame(data)\n",
    "tdl['Deadline'] = pd.to_datetime(tdl['Deadline'])\n"
   ]
  },
  {
   "cell_type": "code",
   "execution_count": 51,
   "metadata": {},
   "outputs": [],
   "source": [
    "# add a task\n",
    "def addTask(task, priority, deadline):\n",
    "    global tdl\n",
    "    deadline = pd.to_datetime(deadline)\n",
    "    tdl.loc[len(tdl)] = (task, priority, deadline)\n"
   ]
  },
  {
   "cell_type": "code",
   "execution_count": 75,
   "metadata": {},
   "outputs": [],
   "source": [
    "# view tasks\n",
    "def viewTask():\n",
    "    if len(tdl) == 0:\n",
    "        print(\"No tasks in To-do-list\")\n",
    "    else: \n",
    "        tdl_sorted = tdl.sort_values(['Priority'], ascending=True)\n",
    "        for i, row in tdl_sorted.iterrows():\n",
    "            deadline_formatted = row['Deadline'].strftime('%Y-%m-%d')\n",
    "            print(f\"{i + 1}. {row['Task']} | {deadline_formatted} | {row['Priority']}\")\n",
    "            "
   ]
  },
  {
   "cell_type": "code",
   "execution_count": 67,
   "metadata": {},
   "outputs": [],
   "source": [
    "# delete a task\n",
    "def delTask(number_of_task):\n",
    "    global tdl\n",
    "    tdl.drop(index = int(number_of_task) - 1, inplace = True)\n",
    "    tdl.reset_index(drop=True, inplace=True)"
   ]
  },
  {
   "cell_type": "code",
   "execution_count": 57,
   "metadata": {},
   "outputs": [],
   "source": [
    "# save the tasks to a file\n",
    "def saveTask(filename):\n",
    "    tdl.to_csv(filename, index=False)"
   ]
  },
  {
   "cell_type": "code",
   "execution_count": 59,
   "metadata": {},
   "outputs": [],
   "source": [
    "# load the tasks from a file\n",
    "def loadTask(filename):\n",
    "    global tdl\n",
    "    tdl = pd.read_csv(filename)\n",
    "    tdl['Deadline'] = pd.to_datetime(tdl['Deadline'])\n",
    "    viewTask()"
   ]
  },
  {
   "cell_type": "code",
   "execution_count": 61,
   "metadata": {},
   "outputs": [],
   "source": [
    "# sort by Deadline():\n",
    "def sortbyDead():\n",
    "    tdl_sorted_dead = tdl.sort_values(['Deadline'], ascending=True)\n",
    "    for i, row in tdl_sorted_dead.iterrows():\n",
    "        print(f\"{i + 1}. {row['Task']} | {row['Deadline']} | {row['Priority']}\")"
   ]
  },
  {
   "cell_type": "code",
   "execution_count": 80,
   "metadata": {},
   "outputs": [
    {
     "name": "stdout",
     "output_type": "stream",
     "text": [
      "\n",
      "\n",
      "1. Add task\n",
      "2. View task\n",
      "3. Delete task\n",
      "4. Sort task by deadline\n",
      "5. Save task\n",
      "6. Load task\n",
      "7. Exit program\n",
      "\n"
     ]
    },
    {
     "name": "stdin",
     "output_type": "stream",
     "text": [
      "Please choose your action:  3\n",
      "Enter the number of task you wish to delete: 2\n"
     ]
    },
    {
     "name": "stdout",
     "output_type": "stream",
     "text": [
      "\n",
      "\n",
      "1. Add task\n",
      "2. View task\n",
      "3. Delete task\n",
      "4. Sort task by deadline\n",
      "5. Save task\n",
      "6. Load task\n",
      "7. Exit program\n",
      "\n"
     ]
    },
    {
     "name": "stdin",
     "output_type": "stream",
     "text": [
      "Please choose your action:  2\n"
     ]
    },
    {
     "name": "stdout",
     "output_type": "stream",
     "text": [
      "1. 'Take dog for a walk' | 2024-08-10 | 1\n",
      "\n",
      "\n",
      "1. Add task\n",
      "2. View task\n",
      "3. Delete task\n",
      "4. Sort task by deadline\n",
      "5. Save task\n",
      "6. Load task\n",
      "7. Exit program\n",
      "\n"
     ]
    },
    {
     "name": "stdin",
     "output_type": "stream",
     "text": [
      "Please choose your action:  7\n"
     ]
    },
    {
     "name": "stdout",
     "output_type": "stream",
     "text": [
      "Exiting program. Have a great day! :)\n"
     ]
    }
   ],
   "source": [
    "# User_interface:\n",
    "def user_interface():\n",
    "\n",
    "    while True:\n",
    "        print(\"\\n\\n1. Add task\")\n",
    "        print(\"2. View task\")\n",
    "        print(\"3. Delete task\")\n",
    "        print(\"4. Sort task by deadline\")\n",
    "        print(\"5. Save task\")\n",
    "        print(\"6. Load task\")\n",
    "        print(\"7. Exit program\\n\")\n",
    "\n",
    "        choice = input(\"Please choose your action: \")\n",
    "\n",
    "        if choice == '1':\n",
    "            task = input(\"Enter your task name:\")\n",
    "            priority = input(\"Enter the priority of this task:\")\n",
    "            deadline = input(\"Enter the deadline for this task:\")\n",
    "            addTask(task, priority, deadline)\n",
    "        elif choice == '2':\n",
    "            viewTask()\n",
    "        elif choice == '3':\n",
    "            number_of_task = input(\"Enter the number of task you wish to delete:\")\n",
    "            delTask(number_of_task)\n",
    "        elif choice == '4':\n",
    "            sortbyDead()\n",
    "        elif choice == '5':\n",
    "            filename = input(\"Enter the filename:\")\n",
    "            saveTask(filename)\n",
    "        elif choice == '6':\n",
    "            filename = input(\"Enter the filename:\")\n",
    "            loadTask(filename)\n",
    "        elif choice == '7':\n",
    "            print(\"Exiting program. Have a great day! :)\")\n",
    "            break\n",
    "        else:\n",
    "            print(\"Invalid input. Please Select from 1 to 7\")\n",
    "\n",
    "user_interface()\n",
    "        \n",
    "    \n",
    "    "
   ]
  },
  {
   "cell_type": "code",
   "execution_count": null,
   "metadata": {},
   "outputs": [],
   "source": []
  }
 ],
 "metadata": {
  "kernelspec": {
   "display_name": "Python 3 (ipykernel)",
   "language": "python",
   "name": "python3"
  },
  "language_info": {
   "codemirror_mode": {
    "name": "ipython",
    "version": 3
   },
   "file_extension": ".py",
   "mimetype": "text/x-python",
   "name": "python",
   "nbconvert_exporter": "python",
   "pygments_lexer": "ipython3",
   "version": "3.12.4"
  }
 },
 "nbformat": 4,
 "nbformat_minor": 4
}
