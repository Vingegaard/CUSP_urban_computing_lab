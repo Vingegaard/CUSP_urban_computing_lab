{
 "cells": [
  {
   "cell_type": "markdown",
   "id": "2a90216e-910a-4619-8665-9293906ee55d",
   "metadata": {},
   "source": [
    "# Problem1 : Contact Management System\n",
    "\n",
    "Objective:\n",
    "Create a simple Contact Management System that allows users to manage a list of contacts. The system should be able to perform the following tasks:\n",
    "\n",
    "- Add a Contact: Add a new contact with the name, phone number, and email address.\n",
    "- Delete a Contact: Delete a contact by specifying the contact number.\n",
    "- View Contacts: View all the contacts in a nicely formatted list.\n",
    "- Search Contacts: Search for contacts by name or phone number.\n",
    "- Save Contacts to a File: Save the contact list to a CSV file.\n",
    "- Load Contacts from a File: Load the contact list from a CSV file."
   ]
  },
  {
   "cell_type": "code",
   "execution_count": 136,
   "id": "e67f1497-be30-4c5c-bf9f-9d50ab8055aa",
   "metadata": {},
   "outputs": [],
   "source": [
    "import pandas as pd\n",
    "\n",
    "data = {\n",
    "    'Name': [],\n",
    "    'Phone': [],\n",
    "    'Email': []\n",
    "}\n",
    "\n",
    "CMS = pd.DataFrame(data)"
   ]
  },
  {
   "cell_type": "code",
   "execution_count": 138,
   "id": "5bff8b38-d55a-41f5-8b65-5b02f662fd35",
   "metadata": {},
   "outputs": [],
   "source": [
    "def addContact(name, phone, email):\n",
    "    global CMS\n",
    "    CMS.loc[len(CMS)] = (name, phone, email)"
   ]
  },
  {
   "cell_type": "code",
   "execution_count": 140,
   "id": "d15a4b32-f9fc-48ee-a44a-57b3fd21fb11",
   "metadata": {},
   "outputs": [],
   "source": [
    "addContact('Andrew', 6463375014, 'hyk@gmail.com')\n",
    "addContact('Julie', 1050733577, 'julie@gmail.com')"
   ]
  },
  {
   "cell_type": "code",
   "execution_count": 142,
   "id": "c68ac811-972d-4879-ba74-94bc1bf610c1",
   "metadata": {},
   "outputs": [],
   "source": [
    "def delContact(contact_number):\n",
    "    global CMS\n",
    "    CMS = CMS.drop(contact_number - 1).reset_index(drop=True)\n",
    "    "
   ]
  },
  {
   "cell_type": "code",
   "execution_count": 144,
   "id": "14a25050-13a1-45e7-bd2a-6f34187292eb",
   "metadata": {},
   "outputs": [],
   "source": [
    "def viewContact():\n",
    "    if len(CMS) == 0:\n",
    "        print(\"No Contact on the list\")\n",
    "    else:\n",
    "        for i, row in CMS.iterrows():\n",
    "            print(f\"{i + 1}. {row['Name']} | {row['Phone']} | {row['Email']}\")"
   ]
  },
  {
   "cell_type": "code",
   "execution_count": 146,
   "id": "45410263-10cb-498b-a081-734ddcd61879",
   "metadata": {},
   "outputs": [
    {
     "name": "stdout",
     "output_type": "stream",
     "text": [
      "1. Andrew | 6463375014 | hyk@gmail.com\n",
      "2. Julie | 1050733577 | julie@gmail.com\n"
     ]
    }
   ],
   "source": [
    "viewContact()"
   ]
  },
  {
   "cell_type": "code",
   "execution_count": 175,
   "id": "36397bb7-7841-45b9-a465-94e63b8566b1",
   "metadata": {},
   "outputs": [],
   "source": [
    "def searchContact(search_term):\n",
    "    result = CMS[CMS.apply(lambda row: search_term in row.to_string().lower(), axis=1)]\n",
    "    if len(result) == 0:\n",
    "        print(\"No matching contacts found.\")\n",
    "    else:\n",
    "        print(\"Search Results:\")\n",
    "        for i, row in result.iterrows():\n",
    "            print(f\"{i + 1}. {row['Name']} | {row['Phone']} | {row['Email']}\")\n",
    "    "
   ]
  },
  {
   "cell_type": "code",
   "execution_count": 177,
   "id": "e6c4f299-4637-4174-8ffb-ccfeb863a29d",
   "metadata": {},
   "outputs": [
    {
     "name": "stdout",
     "output_type": "stream",
     "text": [
      "Search Results:\n",
      "1. Andrew | 6463375014 | hyk@gmail.com\n"
     ]
    }
   ],
   "source": [
    "searchContact('andrew')"
   ]
  },
  {
   "cell_type": "code",
   "execution_count": 179,
   "id": "582752f0-58c5-4900-8573-42d015140d5d",
   "metadata": {},
   "outputs": [],
   "source": [
    "def savefile(filename):\n",
    "    global CMS\n",
    "    CMS.to_csv(filename, index=False)"
   ]
  },
  {
   "cell_type": "code",
   "execution_count": 181,
   "id": "0f80dc88-05db-4366-aba9-adaec633a2c5",
   "metadata": {},
   "outputs": [],
   "source": [
    "savefile('CMS')"
   ]
  },
  {
   "cell_type": "code",
   "execution_count": 183,
   "id": "1b7d7733-5c27-40c5-8ecc-97163dc2cc01",
   "metadata": {},
   "outputs": [],
   "source": [
    "def loadfile(filename):\n",
    "    global CMS\n",
    "    contacts = pd.read_csv(filename)"
   ]
  },
  {
   "cell_type": "code",
   "execution_count": 185,
   "id": "e5f84824-2fd1-4b51-9fdf-5d49ee20759f",
   "metadata": {},
   "outputs": [],
   "source": [
    "loadfile('CMS')"
   ]
  },
  {
   "cell_type": "code",
   "execution_count": 187,
   "id": "149642de-25d2-4c65-9ed0-3c7e3ea51fe1",
   "metadata": {},
   "outputs": [
    {
     "data": {
      "text/html": [
       "<div>\n",
       "<style scoped>\n",
       "    .dataframe tbody tr th:only-of-type {\n",
       "        vertical-align: middle;\n",
       "    }\n",
       "\n",
       "    .dataframe tbody tr th {\n",
       "        vertical-align: top;\n",
       "    }\n",
       "\n",
       "    .dataframe thead th {\n",
       "        text-align: right;\n",
       "    }\n",
       "</style>\n",
       "<table border=\"1\" class=\"dataframe\">\n",
       "  <thead>\n",
       "    <tr style=\"text-align: right;\">\n",
       "      <th></th>\n",
       "      <th>Name</th>\n",
       "      <th>Phone</th>\n",
       "      <th>Email</th>\n",
       "    </tr>\n",
       "  </thead>\n",
       "  <tbody>\n",
       "    <tr>\n",
       "      <th>0</th>\n",
       "      <td>Andrew</td>\n",
       "      <td>6463375014</td>\n",
       "      <td>hyk@gmail.com</td>\n",
       "    </tr>\n",
       "    <tr>\n",
       "      <th>1</th>\n",
       "      <td>Julie</td>\n",
       "      <td>1050733577</td>\n",
       "      <td>julie@gmail.com</td>\n",
       "    </tr>\n",
       "  </tbody>\n",
       "</table>\n",
       "</div>"
      ],
      "text/plain": [
       "     Name       Phone            Email\n",
       "0  Andrew  6463375014    hyk@gmail.com\n",
       "1   Julie  1050733577  julie@gmail.com"
      ]
     },
     "execution_count": 187,
     "metadata": {},
     "output_type": "execute_result"
    }
   ],
   "source": [
    "CMS"
   ]
  },
  {
   "cell_type": "code",
   "execution_count": 194,
   "id": "cba6587f-1864-41f1-83ba-e79d3185a88b",
   "metadata": {},
   "outputs": [
    {
     "name": "stdout",
     "output_type": "stream",
     "text": [
      "\n",
      "Contact Management System Menu\n",
      "1. Add Contact\n",
      "2. Delete Contact\n",
      "3. View Contacts\n",
      "4. Search Contacts\n",
      "5. Save Contacts\n",
      "6. Load Contacts\n",
      "7. Exit\n"
     ]
    },
    {
     "name": "stdin",
     "output_type": "stream",
     "text": [
      "Enter Your Choice (1-7):  1\n",
      "Enter the name: chu\n",
      "Enter the phone number: +1024203923\n",
      "Enter the email: chu@naver.com\n"
     ]
    },
    {
     "name": "stdout",
     "output_type": "stream",
     "text": [
      "\n",
      "Contact Management System Menu\n",
      "1. Add Contact\n",
      "2. Delete Contact\n",
      "3. View Contacts\n",
      "4. Search Contacts\n",
      "5. Save Contacts\n",
      "6. Load Contacts\n",
      "7. Exit\n"
     ]
    },
    {
     "name": "stdin",
     "output_type": "stream",
     "text": [
      "Enter Your Choice (1-7):  3\n"
     ]
    },
    {
     "name": "stdout",
     "output_type": "stream",
     "text": [
      "1. Andrew | 6463375014 | hyk@gmail.com\n",
      "2. Julie | 1050733577 | julie@gmail.com\n",
      "3. chu | +1024203923 | chu@naver.com\n",
      "\n",
      "Contact Management System Menu\n",
      "1. Add Contact\n",
      "2. Delete Contact\n",
      "3. View Contacts\n",
      "4. Search Contacts\n",
      "5. Save Contacts\n",
      "6. Load Contacts\n",
      "7. Exit\n"
     ]
    },
    {
     "name": "stdin",
     "output_type": "stream",
     "text": [
      "Enter Your Choice (1-7):  7\n"
     ]
    },
    {
     "name": "stdout",
     "output_type": "stream",
     "text": [
      "Exiting the Contact Management System.\n"
     ]
    }
   ],
   "source": [
    "def user_interface():\n",
    "    while True:\n",
    "        print(\"\\nContact Management System Menu\")\n",
    "        print(\"1. Add Contact\")\n",
    "        print(\"2. Delete Contact\")\n",
    "        print(\"3. View Contacts\")\n",
    "        print(\"4. Search Contacts\")\n",
    "        print(\"5. Save Contacts\")\n",
    "        print(\"6. Load Contacts\")\n",
    "        print(\"7. Exit\")\n",
    "\n",
    "        choice = input(\"Enter Your Choice (1-7): \")\n",
    "\n",
    "        if choice == '1':\n",
    "            name = input(\"Enter the name:\")\n",
    "            phone = input(\"Enter the phone number:\")\n",
    "            email = input(\"Enter the email:\")\n",
    "            addContact(name, phone, email)\n",
    "        elif choice == '2':\n",
    "            viewContact()\n",
    "            contact_number = int(input(\"Enter the contact number:\"))\n",
    "            delContact(contact_number)\n",
    "        elif choice == '3':\n",
    "            viewContact()\n",
    "        elif choice == '4':\n",
    "            search_term = input(\"Enter name or phone number to search: \")\n",
    "            searchContacts(search_term)\n",
    "        elif choice == '5':\n",
    "            filename = input(\"Enter the filename to save contacts: \")\n",
    "            saveContacts(filename)\n",
    "        elif choice == '6':\n",
    "            filename = input(\"Enter the filename to load contacts: \")\n",
    "            loadContacts(filename)\n",
    "        elif choice == '7':\n",
    "            print(\"Exiting the Contact Management System.\")\n",
    "            break\n",
    "        else:\n",
    "            print(\"Invalid choice. Please enter a number between 1 and 7.\")\n",
    "\n",
    "# Run the user interface\n",
    "user_interface()"
   ]
  },
  {
   "cell_type": "markdown",
   "id": "2e1e47bf-1f78-44cf-8b61-b2685af44ba7",
   "metadata": {},
   "source": [
    "# Problem 2: Product Inventory Search\n",
    "\n",
    "Create a Product Inventory Management System where you can manage a list of products and perform various search operations.\n",
    "\n",
    "Create a DataFrame: Initialize a DataFrame to store product information with the following columns:\n",
    "\n",
    "- ProductID: Unique identifier for the product.\n",
    "- ProductName: Name of the product.\n",
    "- Category: Category to which the product belongs.\n",
    "- Description: Brief description of the product.\n",
    "- Price: Price of the product.\n",
    "- Search Function: Implement a function to search for products based on a search term. The search term should be looked for in both the ProductName and Description columns. The function should return all matching products."
   ]
  },
  {
   "cell_type": "code",
   "execution_count": 197,
   "id": "141eed98-12e6-4fc8-8b1a-feafba75038e",
   "metadata": {},
   "outputs": [],
   "source": [
    "import pandas as pd\n",
    "\n",
    "# Create a DataFrame\n",
    "data = {\n",
    "    'ProductID': [101, 102, 103, 104, 105],\n",
    "    'ProductName': ['Laptop', 'Mouse', 'Keyboard', 'Monitor', 'Printer'],\n",
    "    'Category': ['Electronics', 'Accessories', 'Accessories', 'Electronics', 'Electronics'],\n",
    "    'Description': ['15-inch screen, 8GB RAM', 'Wireless mouse', 'Mechanical keyboard', '24-inch Full HD monitor', 'Laser printer'],\n",
    "    'Price': [1200, 25, 80, 200, 150]\n",
    "}\n",
    "inventory = pd.DataFrame(data)"
   ]
  },
  {
   "cell_type": "code",
   "execution_count": 199,
   "id": "9ae38fee-ee6f-4b86-9bcc-6b8f81d9614d",
   "metadata": {},
   "outputs": [
    {
     "data": {
      "text/html": [
       "<div>\n",
       "<style scoped>\n",
       "    .dataframe tbody tr th:only-of-type {\n",
       "        vertical-align: middle;\n",
       "    }\n",
       "\n",
       "    .dataframe tbody tr th {\n",
       "        vertical-align: top;\n",
       "    }\n",
       "\n",
       "    .dataframe thead th {\n",
       "        text-align: right;\n",
       "    }\n",
       "</style>\n",
       "<table border=\"1\" class=\"dataframe\">\n",
       "  <thead>\n",
       "    <tr style=\"text-align: right;\">\n",
       "      <th></th>\n",
       "      <th>ProductID</th>\n",
       "      <th>ProductName</th>\n",
       "      <th>Category</th>\n",
       "      <th>Description</th>\n",
       "      <th>Price</th>\n",
       "    </tr>\n",
       "  </thead>\n",
       "  <tbody>\n",
       "    <tr>\n",
       "      <th>0</th>\n",
       "      <td>101</td>\n",
       "      <td>Laptop</td>\n",
       "      <td>Electronics</td>\n",
       "      <td>15-inch screen, 8GB RAM</td>\n",
       "      <td>1200</td>\n",
       "    </tr>\n",
       "    <tr>\n",
       "      <th>1</th>\n",
       "      <td>102</td>\n",
       "      <td>Mouse</td>\n",
       "      <td>Accessories</td>\n",
       "      <td>Wireless mouse</td>\n",
       "      <td>25</td>\n",
       "    </tr>\n",
       "    <tr>\n",
       "      <th>2</th>\n",
       "      <td>103</td>\n",
       "      <td>Keyboard</td>\n",
       "      <td>Accessories</td>\n",
       "      <td>Mechanical keyboard</td>\n",
       "      <td>80</td>\n",
       "    </tr>\n",
       "    <tr>\n",
       "      <th>3</th>\n",
       "      <td>104</td>\n",
       "      <td>Monitor</td>\n",
       "      <td>Electronics</td>\n",
       "      <td>24-inch Full HD monitor</td>\n",
       "      <td>200</td>\n",
       "    </tr>\n",
       "    <tr>\n",
       "      <th>4</th>\n",
       "      <td>105</td>\n",
       "      <td>Printer</td>\n",
       "      <td>Electronics</td>\n",
       "      <td>Laser printer</td>\n",
       "      <td>150</td>\n",
       "    </tr>\n",
       "  </tbody>\n",
       "</table>\n",
       "</div>"
      ],
      "text/plain": [
       "   ProductID ProductName     Category              Description  Price\n",
       "0        101      Laptop  Electronics  15-inch screen, 8GB RAM   1200\n",
       "1        102       Mouse  Accessories           Wireless mouse     25\n",
       "2        103    Keyboard  Accessories      Mechanical keyboard     80\n",
       "3        104     Monitor  Electronics  24-inch Full HD monitor    200\n",
       "4        105     Printer  Electronics            Laser printer    150"
      ]
     },
     "execution_count": 199,
     "metadata": {},
     "output_type": "execute_result"
    }
   ],
   "source": [
    "inventory"
   ]
  },
  {
   "cell_type": "code",
   "execution_count": 211,
   "id": "c3c4a9c2-20c4-46c0-a606-39da57ddb1ee",
   "metadata": {},
   "outputs": [],
   "source": [
    "def searchProducts(search_term):\n",
    "    result = inventory[inventory.apply(lambda row: search_term in row.to_string().lower(), axis = 1)]\n",
    "    if len(result) == 0:\n",
    "        print(\"No matching result\")\n",
    "    else: \n",
    "        for i, row in result.iterrows():\n",
    "            print(f\"{i + 1}. {row['ProductID']} | {row['ProductName']} | {row['Category']} | {row['Description']} | {row['Price']}\")"
   ]
  },
  {
   "cell_type": "code",
   "execution_count": 213,
   "id": "3cc48dbe-c5b2-42ab-a866-e94903ca187a",
   "metadata": {},
   "outputs": [
    {
     "name": "stdout",
     "output_type": "stream",
     "text": [
      "1. 101 | Laptop | Electronics | 15-inch screen, 8GB RAM | 1200\n"
     ]
    }
   ],
   "source": [
    "searchProducts('laptop')"
   ]
  },
  {
   "cell_type": "markdown",
   "id": "5d0da5bd-92d7-481e-87e1-5ad779d5f5eb",
   "metadata": {},
   "source": [
    "# Problem 3: Build a simple ATM System\n",
    "\n",
    "Features to Implement:\n",
    "1. Account Management:\n",
    "- Create Account: Add a new account with an initial balance.\n",
    "- View Balance: Display the current balance of an account.\n",
    "\n",
    "2. Transaction Management:\n",
    "- Deposit Money: Add funds to an account.\n",
    "- Withdraw Money: Remove funds from an account, with checks for sufficient balance.\n",
    "- View Transaction History: Show a log of all transactions for an account.\n",
    "\n",
    "3. User Interface:\n",
    "- Menu Options: Display a menu with options to access different functionalities.\n",
    "- Input Handling: Handle user inputs to perform actions.\n",
    "\n",
    "4. Data Persistence:\n",
    "- Save and Load Data: Save account information and transaction history to a file and load it when the program starts."
   ]
  },
  {
   "cell_type": "code",
   "execution_count": null,
   "id": "902d3e1b-e47d-4521-a4a9-c7dc38b851c0",
   "metadata": {},
   "outputs": [],
   "source": []
  },
  {
   "cell_type": "code",
   "execution_count": null,
   "id": "1f8c291b-2259-4e89-8024-1eb4e720060c",
   "metadata": {},
   "outputs": [],
   "source": []
  },
  {
   "cell_type": "code",
   "execution_count": null,
   "id": "397db56a-dc8b-42c8-afe8-4389bbd9c02b",
   "metadata": {},
   "outputs": [],
   "source": []
  },
  {
   "cell_type": "code",
   "execution_count": null,
   "id": "2c3a2138-95dc-4f2f-a99f-52ec0c5eef8f",
   "metadata": {},
   "outputs": [],
   "source": []
  },
  {
   "cell_type": "code",
   "execution_count": null,
   "id": "e04f4044-7b05-4c8d-9575-bae56e3772bd",
   "metadata": {},
   "outputs": [],
   "source": []
  },
  {
   "cell_type": "code",
   "execution_count": null,
   "id": "f7d569d5-6047-4c59-94c6-d095e78400dc",
   "metadata": {},
   "outputs": [],
   "source": []
  },
  {
   "cell_type": "code",
   "execution_count": null,
   "id": "a7ae1a0c-7291-4909-b296-0292271a6d1f",
   "metadata": {},
   "outputs": [],
   "source": []
  },
  {
   "cell_type": "code",
   "execution_count": null,
   "id": "55bc96db-6364-4ed9-a5c0-b57ae32d9d24",
   "metadata": {},
   "outputs": [],
   "source": []
  },
  {
   "cell_type": "code",
   "execution_count": null,
   "id": "bc0e0f00-40c4-4a11-95b4-1cb4fbdc1dca",
   "metadata": {},
   "outputs": [],
   "source": []
  },
  {
   "cell_type": "code",
   "execution_count": null,
   "id": "764508b8-5240-4136-8e15-bdbdc18525fe",
   "metadata": {},
   "outputs": [],
   "source": []
  },
  {
   "cell_type": "code",
   "execution_count": null,
   "id": "ac7c6386-b9b1-4f16-9221-ea042914fcd9",
   "metadata": {},
   "outputs": [],
   "source": []
  }
 ],
 "metadata": {
  "kernelspec": {
   "display_name": "Python 3 (ipykernel)",
   "language": "python",
   "name": "python3"
  },
  "language_info": {
   "codemirror_mode": {
    "name": "ipython",
    "version": 3
   },
   "file_extension": ".py",
   "mimetype": "text/x-python",
   "name": "python",
   "nbconvert_exporter": "python",
   "pygments_lexer": "ipython3",
   "version": "3.12.4"
  }
 },
 "nbformat": 4,
 "nbformat_minor": 5
}
