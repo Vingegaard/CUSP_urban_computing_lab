{
 "cells": [
  {
   "cell_type": "markdown",
   "metadata": {
    "jp-MarkdownHeadingCollapsed": true
   },
   "source": [
    "<h1 align='center'>Instructions</h1>\n"
   ]
  },
  {
   "cell_type": "markdown",
   "metadata": {},
   "source": [
    "# To Do !!\n",
    "We all have those days when there are a many things to do, and we don't know how we're going to get it all done.. Sonner than later we miss the tasks that we needed to do! \n",
    "\n",
    "So for this assignment, you should create a ToDo list. It should at least be able to do the following things:\n",
    "- Add an item to the To-Do list\n",
    "- Delete an item from the To-Do list\n",
    "- Print the To-Do list\n",
    "- All the To-Do's should be written to a file so that you can load it later.\n",
    "\n",
    "**Example**:\n",
    "\n",
    ">Input:\n",
    "\n",
    "```\n",
    "addTask('Take dog for a walk')\n",
    "addTask('Submit Challenge 3 solutions')\n",
    "viewTask()\n",
    "```\n",
    "\n",
    ">Output:\n",
    "\n",
    "```\n",
    "Tasks:\n",
    "1. Take dog for a walk\n",
    "2. Submit Challenge 3 solutions\n",
    "\n",
    "```\n",
    "\n",
    "> Input:\n",
    "\n",
    "```\n",
    "delTask(1)\n",
    "viewTask()\n",
    "```\n",
    "\n",
    ">Output:\n",
    "\n",
    "```\n",
    "1. Submit Challenge 3 solutions\n",
    "```\n",
    "\n",
    "**Bonus:**\n",
    "If you are feeling enthused, feel free to add as many functionalities as you would like (to get bonus, add atleast following 3)\n",
    "- Add priority to a task\n",
    "- Sort tasks by priorities\n",
    "- Add deadline (using [`datetime`](https://docs.python.org/2/library/datetime.html) module)for completion of the tasks and then sort them accordingly"
   ]
  },
  {
   "cell_type": "code",
   "execution_count": 509,
   "metadata": {},
   "outputs": [],
   "source": [
    "# your code here\n",
    "import pandas as pd\n"
   ]
  },
  {
   "cell_type": "code",
   "execution_count": 511,
   "metadata": {},
   "outputs": [],
   "source": [
    "import pandas as pd\n",
    "\n",
    "# Initialize the To-Do List DataFrame\n",
    "data = {\n",
    "    'Task' : []\n",
    "}\n",
    "\n",
    "tdl = pd.DataFrame(data)\n"
   ]
  },
  {
   "cell_type": "code",
   "execution_count": 513,
   "metadata": {},
   "outputs": [],
   "source": [
    "# Function to add a task\n",
    "\n",
    "def addTask(To_do_list, task):\n",
    "    To_do_list.loc[len(To_do_list)] = task\n",
    "    return To_do_list\n",
    "    "
   ]
  },
  {
   "cell_type": "code",
   "execution_count": 515,
   "metadata": {},
   "outputs": [],
   "source": [
    "# Function to delete a task\n",
    "\n",
    "def delTask(To_do_list, task_number):\n",
    "    To_do_list = To_do_list.drop(task_number - 1).reset_index(drop=True)\n",
    "    return To_do_list"
   ]
  },
  {
   "cell_type": "code",
   "execution_count": 517,
   "metadata": {},
   "outputs": [],
   "source": [
    "# Function to view the tasks\n",
    "\n",
    "def viewTask(To_do_list):\n",
    "    if len(To_do_list) == 0:\n",
    "        print(\"No tasks in the list.\")\n",
    "    else:\n",
    "        print(\"Tasks:\")\n",
    "        for i in To_do_list:\n",
    "            print(f\"{i + 1}. {row['Task']}\")\n"
   ]
  },
  {
   "cell_type": "code",
   "execution_count": 519,
   "metadata": {},
   "outputs": [],
   "source": [
    "# Function to save the tasks to a file\n",
    "\n",
    "def saveTask(To_do_list, filename):\n",
    "    To_do_list.to_csv(filename, index = False)"
   ]
  },
  {
   "cell_type": "code",
   "execution_count": 521,
   "metadata": {},
   "outputs": [],
   "source": [
    "# Function to load the tasks from a file\n",
    "def loadTasks(filename):\n",
    "    To_do_list = pd.read_csv(filename)\n",
    "    return To_do_list"
   ]
  },
  {
   "cell_type": "code",
   "execution_count": null,
   "metadata": {},
   "outputs": [],
   "source": []
  },
  {
   "cell_type": "code",
   "execution_count": null,
   "metadata": {},
   "outputs": [],
   "source": []
  },
  {
   "cell_type": "code",
   "execution_count": null,
   "metadata": {},
   "outputs": [],
   "source": []
  }
 ],
 "metadata": {
  "kernelspec": {
   "display_name": "Python 3 (ipykernel)",
   "language": "python",
   "name": "python3"
  },
  "language_info": {
   "codemirror_mode": {
    "name": "ipython",
    "version": 3
   },
   "file_extension": ".py",
   "mimetype": "text/x-python",
   "name": "python",
   "nbconvert_exporter": "python",
   "pygments_lexer": "ipython3",
   "version": "3.12.4"
  }
 },
 "nbformat": 4,
 "nbformat_minor": 4
}
