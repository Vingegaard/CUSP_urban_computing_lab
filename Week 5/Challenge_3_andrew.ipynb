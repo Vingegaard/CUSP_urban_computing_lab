{
 "cells": [
  {
   "cell_type": "markdown",
   "metadata": {
    "jp-MarkdownHeadingCollapsed": true
   },
   "source": [
    "<h1 align='center'>Instructions</h1>\n"
   ]
  },
  {
   "cell_type": "markdown",
   "metadata": {},
   "source": [
    "# To Do !!\n",
    "We all have those days when there are a many things to do, and we don't know how we're going to get it all done.. Sonner than later we miss the tasks that we needed to do! \n",
    "\n",
    "So for this assignment, you should create a ToDo list. It should at least be able to do the following things:\n",
    "- Add an item to the To-Do list\n",
    "- Delete an item from the To-Do list\n",
    "- Print the To-Do list\n",
    "- All the To-Do's should be written to a file so that you can load it later.\n",
    "\n",
    "**Example**:\n",
    "\n",
    ">Input:\n",
    "\n",
    "```\n",
    "addTask('Take dog for a walk')\n",
    "addTask('Submit Challenge 3 solutions')\n",
    "viewTask()\n",
    "```\n",
    "\n",
    ">Output:\n",
    "\n",
    "```\n",
    "Tasks:\n",
    "1. Take dog for a walk\n",
    "2. Submit Challenge 3 solutions\n",
    "\n",
    "```\n",
    "\n",
    "> Input:\n",
    "\n",
    "```\n",
    "delTask(1)\n",
    "viewTask()\n",
    "```\n",
    "\n",
    ">Output:\n",
    "\n",
    "```\n",
    "1. Submit Challenge 3 solutions\n",
    "```\n",
    "\n",
    "**Bonus:**\n",
    "If you are feeling enthused, feel free to add as many functionalities as you would like (to get bonus, add atleast following 3)\n",
    "- Add priority to a task\n",
    "- Sort tasks by priorities\n",
    "- Add deadline (using [`datetime`](https://docs.python.org/2/library/datetime.html) module)for completion of the tasks and then sort them accordingly"
   ]
  },
  {
   "cell_type": "code",
   "execution_count": 61,
   "metadata": {},
   "outputs": [],
   "source": [
    "# your code here\n"
   ]
  },
  {
   "cell_type": "code",
   "execution_count": 63,
   "metadata": {},
   "outputs": [],
   "source": [
    "import pandas as pd\n",
    "\n",
    "# Initialize the To-Do List DataFrame\n",
    "data = {\n",
    "    'Task' : []\n",
    "}\n",
    "\n",
    "tdl = pd.DataFrame(data)\n",
    "\n"
   ]
  },
  {
   "cell_type": "code",
   "execution_count": 65,
   "metadata": {},
   "outputs": [],
   "source": [
    "# add a task\n",
    "tdl.loc[len(tdl)] = 'take dog for a walk'\n",
    "tdl.loc[len(tdl)] = 'submit challenge 3 solutions'\n"
   ]
  },
  {
   "cell_type": "code",
   "execution_count": 67,
   "metadata": {},
   "outputs": [
    {
     "data": {
      "text/html": [
       "<div>\n",
       "<style scoped>\n",
       "    .dataframe tbody tr th:only-of-type {\n",
       "        vertical-align: middle;\n",
       "    }\n",
       "\n",
       "    .dataframe tbody tr th {\n",
       "        vertical-align: top;\n",
       "    }\n",
       "\n",
       "    .dataframe thead th {\n",
       "        text-align: right;\n",
       "    }\n",
       "</style>\n",
       "<table border=\"1\" class=\"dataframe\">\n",
       "  <thead>\n",
       "    <tr style=\"text-align: right;\">\n",
       "      <th></th>\n",
       "      <th>Task</th>\n",
       "    </tr>\n",
       "  </thead>\n",
       "  <tbody>\n",
       "    <tr>\n",
       "      <th>0</th>\n",
       "      <td>take dog for a walk</td>\n",
       "    </tr>\n",
       "    <tr>\n",
       "      <th>1</th>\n",
       "      <td>submit challenge 3 solutions</td>\n",
       "    </tr>\n",
       "  </tbody>\n",
       "</table>\n",
       "</div>"
      ],
      "text/plain": [
       "                           Task\n",
       "0           take dog for a walk\n",
       "1  submit challenge 3 solutions"
      ]
     },
     "execution_count": 67,
     "metadata": {},
     "output_type": "execute_result"
    }
   ],
   "source": [
    "tdl"
   ]
  },
  {
   "cell_type": "code",
   "execution_count": 69,
   "metadata": {},
   "outputs": [],
   "source": [
    "# delete a task\n",
    "tdl.drop(index = 0, inplace = True)"
   ]
  },
  {
   "cell_type": "code",
   "execution_count": 71,
   "metadata": {},
   "outputs": [
    {
     "name": "stdout",
     "output_type": "stream",
     "text": [
      "                           Task\n",
      "1  submit challenge 3 solutions\n"
     ]
    }
   ],
   "source": [
    "# view the tasks\n",
    "\n",
    "if len(tdl) == 0:\n",
    "    print(\"No tasks\")\n",
    "else:\n",
    "    print(tdl)"
   ]
  },
  {
   "cell_type": "code",
   "execution_count": 77,
   "metadata": {},
   "outputs": [],
   "source": [
    "# save the tasks to a file\n",
    "tdl.to_csv('To_do_list.csv', index=False)"
   ]
  },
  {
   "cell_type": "code",
   "execution_count": 79,
   "metadata": {},
   "outputs": [
    {
     "data": {
      "text/html": [
       "<div>\n",
       "<style scoped>\n",
       "    .dataframe tbody tr th:only-of-type {\n",
       "        vertical-align: middle;\n",
       "    }\n",
       "\n",
       "    .dataframe tbody tr th {\n",
       "        vertical-align: top;\n",
       "    }\n",
       "\n",
       "    .dataframe thead th {\n",
       "        text-align: right;\n",
       "    }\n",
       "</style>\n",
       "<table border=\"1\" class=\"dataframe\">\n",
       "  <thead>\n",
       "    <tr style=\"text-align: right;\">\n",
       "      <th></th>\n",
       "      <th>Task</th>\n",
       "    </tr>\n",
       "  </thead>\n",
       "  <tbody>\n",
       "    <tr>\n",
       "      <th>0</th>\n",
       "      <td>submit challenge 3 solutions</td>\n",
       "    </tr>\n",
       "  </tbody>\n",
       "</table>\n",
       "</div>"
      ],
      "text/plain": [
       "                           Task\n",
       "0  submit challenge 3 solutions"
      ]
     },
     "execution_count": 79,
     "metadata": {},
     "output_type": "execute_result"
    }
   ],
   "source": [
    "# load the tasks from a file\n",
    "pd.read_csv('To_do_list.csv')"
   ]
  },
  {
   "cell_type": "code",
   "execution_count": null,
   "metadata": {},
   "outputs": [],
   "source": []
  },
  {
   "cell_type": "code",
   "execution_count": null,
   "metadata": {},
   "outputs": [],
   "source": []
  },
  {
   "cell_type": "code",
   "execution_count": null,
   "metadata": {},
   "outputs": [],
   "source": []
  }
 ],
 "metadata": {
  "kernelspec": {
   "display_name": "Python 3 (ipykernel)",
   "language": "python",
   "name": "python3"
  },
  "language_info": {
   "codemirror_mode": {
    "name": "ipython",
    "version": 3
   },
   "file_extension": ".py",
   "mimetype": "text/x-python",
   "name": "python",
   "nbconvert_exporter": "python",
   "pygments_lexer": "ipython3",
   "version": "3.12.4"
  }
 },
 "nbformat": 4,
 "nbformat_minor": 4
}
