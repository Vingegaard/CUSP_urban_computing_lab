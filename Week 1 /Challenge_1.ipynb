{
 "cells": [
  {
   "cell_type": "markdown",
   "id": "b1dae5d8-86f6-4c18-b6b7-200e4b321805",
   "metadata": {},
   "source": [
    "## Exercise 1: Calculate Average Temperature"
   ]
  },
  {
   "cell_type": "code",
   "execution_count": 5,
   "id": "3986bf64-d4cc-4311-8d49-bd92aafea46d",
   "metadata": {},
   "outputs": [
    {
     "name": "stdout",
     "output_type": "stream",
     "text": [
      "Average temperatures: 20.428571428571427 celcius\n",
      "Average temperatures: 20.43 celcius\n"
     ]
    }
   ],
   "source": [
    "# List of daily temperatures (in degrees Celsius)\n",
    "temperatures = [20, 22, 19, 21, 20, 18, 23]\n",
    "\n",
    "# Average\n",
    "average_temp = sum(temperatures) / len(temperatures)\n",
    "print(\"Average temperatures:\", average_temp, \"celcius\")\n",
    "\n",
    "# Reduce the decimal places to two decimal places\n",
    "print(f\"Average temperatures: {average_temp:.2f} celcius\")"
   ]
  },
  {
   "cell_type": "markdown",
   "id": "b61ca4a8-1c31-42e9-aaff-378ebc15b310",
   "metadata": {},
   "source": [
    "## Exercies 2: Traffic Light Simulation"
   ]
  },
  {
   "cell_type": "code",
   "execution_count": 18,
   "id": "dab2ce51-8dc6-477e-bd0a-46ecd15e9768",
   "metadata": {},
   "outputs": [
    {
     "name": "stdout",
     "output_type": "stream",
     "text": [
      "Stop\n"
     ]
    }
   ],
   "source": [
    "# Traffic light sequence\n",
    "light = \"Red\"\n",
    "\n",
    "if light == \"Red\":\n",
    "    print(\"Stop\")\n",
    "elif light == \"Yellow\":\n",
    "    print(\"Slow Down\")\n",
    "elif light == \"Green\":\n",
    "    print(\"Go\")\n",
    "else:\n",
    "    print(\"Invalid\")"
   ]
  },
  {
   "cell_type": "markdown",
   "id": "01c633f4-0594-4ac5-92bc-0b660b8e794f",
   "metadata": {},
   "source": [
    "## Exercise 3: Analyze Sales Data"
   ]
  },
  {
   "cell_type": "code",
   "execution_count": 44,
   "id": "71e59c12-8985-4644-bd0d-895398d642eb",
   "metadata": {},
   "outputs": [
    {
     "name": "stdout",
     "output_type": "stream",
     "text": [
      "Highest sales is 270 and the month is Dec\n"
     ]
    }
   ],
   "source": [
    "# Monthly sales data (in units)\n",
    "sales = [150, 200, 170, 220, 210, 190, 230, 180, 240, 260, 250, 270]\n",
    "\n",
    "# Assign month name\n",
    "months = ['Jan', 'Feb', 'Mar', 'Apr', 'May', 'Jun', 'Jul', 'Aug', 'Sep', 'Oct', 'Nov', 'Dec']\n",
    "\n",
    "# Highest sales\n",
    "max_sales = max(sales)\n",
    "\n",
    "# Month with the highest sales\n",
    "max_month_index = sales.index(max(sales))\n",
    "\n",
    "# Retrieve the month name using the month index\n",
    "max_month = months[max_month_index]\n",
    "\n",
    "print(f\"Highest sales is {max_sales} and the month is {max_month}\")\n"
   ]
  },
  {
   "cell_type": "markdown",
   "id": "f9e1bff7-9073-4ed5-a6ba-f98b65af27ef",
   "metadata": {},
   "source": [
    "## Exercise 4: Count Vowels in a String"
   ]
  },
  {
   "cell_type": "code",
   "execution_count": 58,
   "id": "d3235d1b-7781-4cce-a5ac-7afde9a9da71",
   "metadata": {},
   "outputs": [
    {
     "name": "stdout",
     "output_type": "stream",
     "text": [
      "Number of vowels in a given string: 11\n"
     ]
    }
   ],
   "source": [
    "# Input string\n",
    "text = \"Urban Computing and Data Science\"\n",
    "\n",
    "# Define vowels\n",
    "vowels = 'aeiouAEIOU'\n",
    "\n",
    "# Initialize count\n",
    "vowels_count = 0\n",
    "\n",
    "# Interate through each character in the string\n",
    "for char in text:\n",
    "    if char in vowels:\n",
    "        vowels_count += 1\n",
    "\n",
    "# Print the result\n",
    "print(\"Number of vowels in a given string:\", vowels_count)\n"
   ]
  },
  {
   "cell_type": "markdown",
   "id": "e94961bf-96b8-4abc-9f3a-8b553d9f8d5e",
   "metadata": {},
   "source": [
    "## Exercise 5: Calculate Water Consumption"
   ]
  },
  {
   "cell_type": "code",
   "execution_count": 67,
   "id": "6f6e5620-e08a-4ed9-8de1-df658151158d",
   "metadata": {
    "scrolled": true
   },
   "outputs": [
    {
     "name": "stdout",
     "output_type": "stream",
     "text": [
      "Average water consumption for a week: 277.85714285714283 liters\n",
      "Average water consumption for a week 277.86 liters\n"
     ]
    }
   ],
   "source": [
    "# Daily water consumption (in liters)\n",
    "water_consumption = [250, 300, 200, 275, 320, 290, 310]\n",
    "\n",
    "# Total consumption\n",
    "total = sum(water_consumption)\n",
    "\n",
    "# Total length\n",
    "length = len(water_consumption)\n",
    "\n",
    "# Average consumption\n",
    "average = total / length\n",
    "\n",
    "# Result\n",
    "print(\"Average water consumption for a week:\", average, \"liters\")\n",
    "\n",
    "# Two decimal places\n",
    "print(f\"Average water consumption for a week {average:.2f} liters\")"
   ]
  },
  {
   "cell_type": "markdown",
   "id": "5dfd3129-e9f4-4da1-a29d-be242672c7fc",
   "metadata": {},
   "source": [
    "# End of Assignment"
   ]
  }
 ],
 "metadata": {
  "kernelspec": {
   "display_name": "Python 3 (ipykernel)",
   "language": "python",
   "name": "python3"
  },
  "language_info": {
   "codemirror_mode": {
    "name": "ipython",
    "version": 3
   },
   "file_extension": ".py",
   "mimetype": "text/x-python",
   "name": "python",
   "nbconvert_exporter": "python",
   "pygments_lexer": "ipython3",
   "version": "3.12.4"
  }
 },
 "nbformat": 4,
 "nbformat_minor": 5
}
