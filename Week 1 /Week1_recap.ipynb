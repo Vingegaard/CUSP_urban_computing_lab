{
 "cells": [
  {
   "cell_type": "markdown",
   "id": "b0b1a585-02bf-48b2-9595-4b2e9d8b3df9",
   "metadata": {},
   "source": [
    "#Python Introduction"
   ]
  },
  {
   "cell_type": "markdown",
   "id": "f5550f44-b996-4d0c-99ed-1e2882c3694a",
   "metadata": {},
   "source": [
    "#1 Data Types\n",
    "Integers\n",
    "Floats\n",
    "Strings\n",
    "Booleans"
   ]
  },
  {
   "cell_type": "markdown",
   "id": "7a175860-930e-4c34-b723-0f814d73c4cf",
   "metadata": {},
   "source": [
    "#2 Basic Data Structures\n",
    "Lists\n",
    "Tuples\n",
    "Dictionaries\n",
    "Sets"
   ]
  },
  {
   "cell_type": "code",
   "execution_count": 11,
   "id": "0373dde3-2f1b-4f77-b90f-ea8e22f38d8f",
   "metadata": {},
   "outputs": [
    {
     "name": "stdout",
     "output_type": "stream",
     "text": [
      "[1, 2, 3, 'a', 'b', 'c']\n"
     ]
    }
   ],
   "source": [
    "#List\n",
    "my_list = [1, 2, 3, 'a', 'b', 'c']\n",
    "print(my_list)"
   ]
  },
  {
   "cell_type": "code",
   "execution_count": 19,
   "id": "daa231b3-4368-4c4b-96ef-cadf6bf61aba",
   "metadata": {},
   "outputs": [
    {
     "name": "stdout",
     "output_type": "stream",
     "text": [
      "(1, 2, 3, 'a', 'b', 'c')\n"
     ]
    }
   ],
   "source": [
    "#Tuple\n",
    "my_tuple = (1, 2, 3, 'a', 'b', 'c')\n",
    "print(my_tuple)"
   ]
  },
  {
   "cell_type": "code",
   "execution_count": 17,
   "id": "d3ddaaf0-c3ec-417f-82fd-7a0e8fc053ed",
   "metadata": {},
   "outputs": [
    {
     "name": "stdout",
     "output_type": "stream",
     "text": [
      "{'name': 'Alice', 'age': 35}\n"
     ]
    }
   ],
   "source": [
    "#Dictionaries\n",
    "my_dict = {'name':'Alice', 'age':35}\n",
    "print(my_dict)"
   ]
  },
  {
   "cell_type": "code",
   "execution_count": 21,
   "id": "59fbaee5-4071-49f5-ad0d-a93c50c0222a",
   "metadata": {},
   "outputs": [
    {
     "name": "stdout",
     "output_type": "stream",
     "text": [
      "{'a', 1, 2, 3, 'c', 'b'}\n"
     ]
    }
   ],
   "source": [
    "#Set\n",
    "my_set = {1,2,3,'a','b','c'}\n",
    "print(my_set)"
   ]
  },
  {
   "cell_type": "code",
   "execution_count": 25,
   "id": "99c42b05-5bb9-4e10-91a0-8c144975b99d",
   "metadata": {},
   "outputs": [],
   "source": [
    "# List of air quality readings (AQI - Air Quality Index)\n",
    "aqi_readings = [45, 50, 55, 60, 70, 65, 80, 75, 85, 90]"
   ]
  },
  {
   "cell_type": "code",
   "execution_count": 29,
   "id": "0037a394-bd1c-4327-909f-7e789bb920e0",
   "metadata": {},
   "outputs": [
    {
     "name": "stdout",
     "output_type": "stream",
     "text": [
      "Average AQI: 67.5\n"
     ]
    }
   ],
   "source": [
    "# Average AQI\n",
    "average_aqi = sum(aqi_readings)/len(aqi_readings)\n",
    "print(\"Average AQI:\",average_aqi)"
   ]
  },
  {
   "cell_type": "code",
   "execution_count": 33,
   "id": "b3d14a09-0cb0-4ddb-9cac-cd5d66a662f3",
   "metadata": {},
   "outputs": [
    {
     "name": "stdout",
     "output_type": "stream",
     "text": [
      "{'location1': 45, 'location2': 50, 'location3': 55}\n"
     ]
    }
   ],
   "source": [
    "# Dictionary of sensor locations and their respective AQI\n",
    "sensor_data = {'location1': 45, 'location2': 50, 'location3': 55}\n",
    "print(sensor_data)"
   ]
  },
  {
   "cell_type": "code",
   "execution_count": 41,
   "id": "9e37e175-deae-438c-b90c-99bac44ab0a7",
   "metadata": {},
   "outputs": [
    {
     "name": "stdout",
     "output_type": "stream",
     "text": [
      "Updated AQI for location1: 48\n"
     ]
    }
   ],
   "source": [
    "# Update AQI for location1 \n",
    "sensor_data['location1'] = 48\n",
    "print(\"Updated AQI for location1:\",sensor_data['location1'])"
   ]
  },
  {
   "cell_type": "code",
   "execution_count": 55,
   "id": "c2d20a30-dac1-4337-b65f-45125caad4c9",
   "metadata": {},
   "outputs": [
    {
     "name": "stdout",
     "output_type": "stream",
     "text": [
      "a is 12 :)\n"
     ]
    }
   ],
   "source": [
    "# Indentation\n",
    "\n",
    "a = 12\n",
    "if a == 12:\n",
    "    print(\"a is 12 :)\")\n",
    "else:\n",
    "    print(\"a is not 12 :(\")"
   ]
  },
  {
   "cell_type": "code",
   "execution_count": 57,
   "id": "b2847066-d8ec-4092-bdc7-0eba9a51f5db",
   "metadata": {},
   "outputs": [
    {
     "name": "stdout",
     "output_type": "stream",
     "text": [
      "Hello World\n"
     ]
    }
   ],
   "source": [
    "# Multi-line statements\n",
    "\n",
    "a = \"Hello \\\n",
    "World\"\n",
    "print(a)"
   ]
  },
  {
   "cell_type": "code",
   "execution_count": 59,
   "id": "c5357176-6db1-4396-90da-e2fe430db702",
   "metadata": {},
   "outputs": [
    {
     "name": "stdout",
     "output_type": "stream",
     "text": [
      "CUSP-GX 6023\n",
      "Dr. John Doe\n",
      "CUSP-GX 6023 is a course designed to build a common skillset and familiarity with techniques, concepts, and models for urban informatics computing.\n",
      "The course focuses on data explorations, programming skills and statistical methods needed for scientific computing in the field of Urban Informatics.\n"
     ]
    }
   ],
   "source": [
    "# Quotations\n",
    "\n",
    "course_name = 'CUSP-GX 6023'\n",
    "instructor = \"Dr. John Doe\"\n",
    "description = '''CUSP-GX 6023 is a course designed to build a common skillset and familiarity with techniques, concepts, and models for urban informatics computing.\n",
    "The course focuses on data explorations, programming skills and statistical methods needed for scientific computing in the field of Urban Informatics.'''\n",
    "print(course_name)\n",
    "print(instructor)\n",
    "print(description)"
   ]
  },
  {
   "cell_type": "code",
   "execution_count": 61,
   "id": "a180a28e-3a05-4836-bdbb-13b4ed0a3699",
   "metadata": {},
   "outputs": [],
   "source": [
    "# Inline Comments\n",
    "\n",
    "x = 100  # Setting x to 100 (this is unnecessary)\n"
   ]
  },
  {
   "cell_type": "code",
   "execution_count": 73,
   "id": "31e1e355-45e6-4b16-8870-7bab829e2886",
   "metadata": {},
   "outputs": [
    {
     "name": "stdout",
     "output_type": "stream",
     "text": [
      "\n",
      "    This function will\n",
      "    perform .....\n",
      "    \n"
     ]
    }
   ],
   "source": [
    "# Docstrings\n",
    "\n",
    "def my_func():\n",
    "    \"\"\"\n",
    "    This function will\n",
    "    perform .....\n",
    "    \"\"\"\n",
    "    pass\n",
    "print(my_func.__doc__)"
   ]
  },
  {
   "cell_type": "code",
   "execution_count": 75,
   "id": "2ec70c22-5c7b-46b2-bddb-9d8b6ea8f80c",
   "metadata": {},
   "outputs": [
    {
     "data": {
      "text/plain": [
       "\u001b[0;31mSignature:\u001b[0m \u001b[0msum\u001b[0m\u001b[0;34m(\u001b[0m\u001b[0miterable\u001b[0m\u001b[0;34m,\u001b[0m \u001b[0;34m/\u001b[0m\u001b[0;34m,\u001b[0m \u001b[0mstart\u001b[0m\u001b[0;34m=\u001b[0m\u001b[0;36m0\u001b[0m\u001b[0;34m)\u001b[0m\u001b[0;34m\u001b[0m\u001b[0;34m\u001b[0m\u001b[0m\n",
       "\u001b[0;31mDocstring:\u001b[0m\n",
       "Return the sum of a 'start' value (default: 0) plus an iterable of numbers\n",
       "\n",
       "When the iterable is empty, return the start value.\n",
       "This function is intended specifically for use with numeric values and may\n",
       "reject non-numeric types.\n",
       "\u001b[0;31mType:\u001b[0m      builtin_function_or_method"
      ]
     },
     "metadata": {},
     "output_type": "display_data"
    }
   ],
   "source": [
    "sum?"
   ]
  },
  {
   "cell_type": "code",
   "execution_count": 91,
   "id": "78ffbfe5-6b84-4e57-b59a-63fa17019670",
   "metadata": {},
   "outputs": [],
   "source": [
    "# Traffic data for one week (number of vehicles per hour)\n",
    "traffic_data = [120, 130, 100, 95, 110, 90, 85, 95, 100, 150, 160, 170, 180, 190, 200, 210, 220, 230, 240, 250, 260, 270, 280, 290]"
   ]
  },
  {
   "cell_type": "code",
   "execution_count": 265,
   "id": "63dc9bcf-00da-4393-90fd-fb95af045a41",
   "metadata": {},
   "outputs": [
    {
     "name": "stdout",
     "output_type": "stream",
     "text": [
      "Average traffic per hour:, 176.04\n"
     ]
    }
   ],
   "source": [
    "# Calculate the average number of vehicles per hour)\n",
    "Average_veh = sum(traffic_data) / len(traffic_data)\n",
    "print(f\"Average traffic per hour:, {Average_veh:.2f}\")"
   ]
  },
  {
   "cell_type": "code",
   "execution_count": 95,
   "id": "d3494e5c-8a3c-439e-917e-3bc4b052a1c6",
   "metadata": {},
   "outputs": [
    {
     "name": "stdout",
     "output_type": "stream",
     "text": [
      "Peak traffic hour: 23 with 290 vehicles\n"
     ]
    }
   ],
   "source": [
    "# Identify peak traffic hour\n",
    "peak_traffic = max(traffic_data)\n",
    "peak_hour = traffic_data.index(peak_traffic)\n",
    "print(\"Peak traffic hour:\", peak_hour, \"with\", peak_traffic, \"vehicles\")"
   ]
  },
  {
   "cell_type": "code",
   "execution_count": 99,
   "id": "338b10ea-57e0-42c4-9dc5-5a7292423e0a",
   "metadata": {},
   "outputs": [
    {
     "name": "stdout",
     "output_type": "stream",
     "text": [
      "Bottom traffic hour: 6 with 85 vehicles\n"
     ]
    }
   ],
   "source": [
    "# Identify bottom traffic hour\n",
    "bottom_traffic = min(traffic_data)\n",
    "bottom_hour = traffic_data.index(bottom_traffic)\n",
    "print(\"Bottom traffic hour:\", bottom_hour, \"with\", bottom_traffic, \"vehicles\")"
   ]
  },
  {
   "cell_type": "code",
   "execution_count": 103,
   "id": "9f65dca9-0a42-4cd5-bc9d-7f7acadabdf2",
   "metadata": {},
   "outputs": [
    {
     "name": "stdout",
     "output_type": "stream",
     "text": [
      "5\n",
      "5.5\n",
      "zipper\n"
     ]
    }
   ],
   "source": [
    "# Creating Variables\n",
    "\n",
    "# Integer\n",
    "x = 5\n",
    "print(x)\n",
    "\n",
    "# Float\n",
    "y = 5.5\n",
    "print(y)\n",
    "\n",
    "# String\n",
    "z = 'zipper'\n",
    "print(z)\n"
   ]
  },
  {
   "cell_type": "code",
   "execution_count": 107,
   "id": "6aada2b0-9275-46c6-9991-81e31140a74f",
   "metadata": {},
   "outputs": [
    {
     "name": "stdout",
     "output_type": "stream",
     "text": [
      "I am in NYC\n",
      "<class 'str'>\n",
      "1234\n",
      "<class 'int'>\n"
     ]
    }
   ],
   "source": [
    "# Initially a string\n",
    "var = 'I am in NYC'\n",
    "print(var)\n",
    "\n",
    "# Check type\n",
    "print(type(var)) # Output:\n",
    "\n",
    "# Reassign to an integer\n",
    "var = 1234\n",
    "print(var)\n",
    "\n",
    "# Check type again\n",
    "print(type(var)) # Output:"
   ]
  },
  {
   "cell_type": "code",
   "execution_count": 109,
   "id": "305c3405-78cb-40dc-a80d-313ff4b23e7c",
   "metadata": {},
   "outputs": [
    {
     "name": "stdout",
     "output_type": "stream",
     "text": [
      "1 1 1\n"
     ]
    }
   ],
   "source": [
    "# Multiples\n",
    "x = y = z = 1\n",
    "print(x,y,z)"
   ]
  },
  {
   "cell_type": "code",
   "execution_count": 113,
   "id": "cfa55983-1824-4125-8636-133f1b82aefe",
   "metadata": {},
   "outputs": [
    {
     "name": "stdout",
     "output_type": "stream",
     "text": [
      "Hello world 123\n"
     ]
    }
   ],
   "source": [
    "x, y, z = 'Hello', 'world', 123\n",
    "print(x,y,z)"
   ]
  },
  {
   "cell_type": "code",
   "execution_count": 117,
   "id": "83853b37-ea80-4f0f-a8ac-f0a1042cade3",
   "metadata": {},
   "outputs": [
    {
     "name": "stdout",
     "output_type": "stream",
     "text": [
      "ph_level: 7.2\n",
      "contaminant_concentration: 0.005 mg/L\n"
     ]
    }
   ],
   "source": [
    "# Applied Example: Water Quality Monitoring\n",
    "# pH level and contaminant concentration\n",
    "ph_level = 7.2\n",
    "contaminant_concentration = 0.005  # in mg/L\n",
    "\n",
    "print('ph_level:',ph_level)\n",
    "print('contaminant_concentration:', contaminant_concentration,'mg/L')"
   ]
  },
  {
   "cell_type": "code",
   "execution_count": 119,
   "id": "d2af9f93-cb85-451e-8ebf-700c7a54366a",
   "metadata": {},
   "outputs": [
    {
     "name": "stdout",
     "output_type": "stream",
     "text": [
      "Contents of var: Hello World\n",
      "Type of var:  <class 'str'>\n"
     ]
    }
   ],
   "source": [
    "# Python Strings\n",
    "\n",
    "var = 'Hello World'\n",
    "print(\"Contents of var:\", var)\n",
    "print(\"Type of var: \", type(var))"
   ]
  },
  {
   "cell_type": "code",
   "execution_count": 121,
   "id": "8046ccd6-e495-4e7b-8a40-f26b5b9ddf3f",
   "metadata": {},
   "outputs": [
    {
     "name": "stdout",
     "output_type": "stream",
     "text": [
      "C:\n",
      "ame\\of\\dir\n"
     ]
    },
    {
     "name": "stderr",
     "output_type": "stream",
     "text": [
      "<>:1: SyntaxWarning: invalid escape sequence '\\o'\n",
      "<>:1: SyntaxWarning: invalid escape sequence '\\o'\n",
      "/var/folders/5h/1y1pgqkj59ndm5pn7srvhkyh0000gn/T/ipykernel_95868/1013190112.py:1: SyntaxWarning: invalid escape sequence '\\o'\n",
      "  print('C:\\name\\of\\dir')\n"
     ]
    }
   ],
   "source": [
    "print('C:\\name\\of\\dir')"
   ]
  },
  {
   "cell_type": "code",
   "execution_count": 123,
   "id": "a730d9e0-6888-4e3c-b65b-24d1358012e6",
   "metadata": {},
   "outputs": [
    {
     "name": "stdout",
     "output_type": "stream",
     "text": [
      "C:\\name\\of\\dir\n"
     ]
    }
   ],
   "source": [
    "# Raw String 'r'\n",
    "print(r'C:\\name\\of\\dir')"
   ]
  },
  {
   "cell_type": "code",
   "execution_count": 125,
   "id": "e890f129-d0a0-4e93-a95a-4594047a4406",
   "metadata": {},
   "outputs": [
    {
     "name": "stdout",
     "output_type": "stream",
     "text": [
      "HelloWorld\n"
     ]
    }
   ],
   "source": [
    "# String Concatenation\n",
    "var1 = 'Hello'  # string 1\n",
    "var2 = 'World'  # string 2\n",
    "var3 = var1 + var2  # Concatenate two string as string 3\n",
    "print(var3)\n"
   ]
  },
  {
   "cell_type": "code",
   "execution_count": 127,
   "id": "dfa3b751-74c9-4b0a-933d-7368a5034c1f",
   "metadata": {},
   "outputs": [
    {
     "name": "stdout",
     "output_type": "stream",
     "text": [
      "HelloWorld\n"
     ]
    }
   ],
   "source": [
    "var1 = 'Hello' 'World'\n",
    "print(var1)"
   ]
  },
  {
   "cell_type": "code",
   "execution_count": 135,
   "id": "91c73d7c-0cdf-4e36-855c-53cb6ee4d34b",
   "metadata": {},
   "outputs": [
    {
     "name": "stdout",
     "output_type": "stream",
     "text": [
      "('Hello', 'World')\n"
     ]
    }
   ],
   "source": [
    "var1 = 'Hello','World'\n",
    "print(var1)"
   ]
  },
  {
   "cell_type": "code",
   "execution_count": 139,
   "id": "3d9f94e3-b306-4bd4-afe6-38ad3fc13154",
   "metadata": {},
   "outputs": [
    {
     "ename": "TypeError",
     "evalue": "can only concatenate str (not \"int\") to str",
     "output_type": "error",
     "traceback": [
      "\u001b[0;31m---------------------------------------------------------------------------\u001b[0m",
      "\u001b[0;31mTypeError\u001b[0m                                 Traceback (most recent call last)",
      "Cell \u001b[0;32mIn[139], line 4\u001b[0m\n\u001b[1;32m      2\u001b[0m var1 \u001b[38;5;241m=\u001b[39m \u001b[38;5;124m'\u001b[39m\u001b[38;5;124mBab\u001b[39m\u001b[38;5;124m'\u001b[39m\n\u001b[1;32m      3\u001b[0m var2 \u001b[38;5;241m=\u001b[39m \u001b[38;5;241m1\u001b[39m\n\u001b[0;32m----> 4\u001b[0m \u001b[38;5;28mprint\u001b[39m(var1 \u001b[38;5;241m+\u001b[39m var2)\n",
      "\u001b[0;31mTypeError\u001b[0m: can only concatenate str (not \"int\") to str"
     ]
    }
   ],
   "source": [
    "# You cannot concatenate string and integer\n",
    "var1 = 'Bab'\n",
    "var2 = 1\n",
    "print(var1 + var2)"
   ]
  },
  {
   "cell_type": "code",
   "execution_count": 141,
   "id": "2ad22b62-de7d-43bd-abe7-357919b9cf94",
   "metadata": {},
   "outputs": [
    {
     "data": {
      "text/plain": [
       "6"
      ]
     },
     "execution_count": 141,
     "metadata": {},
     "output_type": "execute_result"
    }
   ],
   "source": [
    "# String Indexing\n",
    "\n",
    "var1 = 'Python'\n",
    "len(var1)"
   ]
  },
  {
   "cell_type": "code",
   "execution_count": 143,
   "id": "9fe17a5d-1f09-4585-b36f-cb35ab4fa03c",
   "metadata": {},
   "outputs": [
    {
     "data": {
      "text/plain": [
       "'P'"
      ]
     },
     "execution_count": 143,
     "metadata": {},
     "output_type": "execute_result"
    }
   ],
   "source": [
    "var1[0]"
   ]
  },
  {
   "cell_type": "code",
   "execution_count": 145,
   "id": "845d50b3-cb53-4e44-9389-02465408375c",
   "metadata": {},
   "outputs": [
    {
     "data": {
      "text/plain": [
       "'n'"
      ]
     },
     "execution_count": 145,
     "metadata": {},
     "output_type": "execute_result"
    }
   ],
   "source": [
    "var1[5]"
   ]
  },
  {
   "cell_type": "code",
   "execution_count": 149,
   "id": "485bc400-acd0-4ede-a2a7-81c57c5ea014",
   "metadata": {},
   "outputs": [
    {
     "ename": "TypeError",
     "evalue": "'str' object does not support item assignment",
     "output_type": "error",
     "traceback": [
      "\u001b[0;31m---------------------------------------------------------------------------\u001b[0m",
      "\u001b[0;31mTypeError\u001b[0m                                 Traceback (most recent call last)",
      "Cell \u001b[0;32mIn[149], line 1\u001b[0m\n\u001b[0;32m----> 1\u001b[0m var1[\u001b[38;5;241m0\u001b[39m] \u001b[38;5;241m=\u001b[39m \u001b[38;5;124m'\u001b[39m\u001b[38;5;124mJ\u001b[39m\u001b[38;5;124m'\u001b[39m\n",
      "\u001b[0;31mTypeError\u001b[0m: 'str' object does not support item assignment"
     ]
    }
   ],
   "source": [
    "var1[0] = 'J'"
   ]
  },
  {
   "cell_type": "code",
   "execution_count": 151,
   "id": "14a55704-545c-428b-94cd-539cdc67b2d5",
   "metadata": {},
   "outputs": [
    {
     "data": {
      "text/plain": [
       "'P'"
      ]
     },
     "execution_count": 151,
     "metadata": {},
     "output_type": "execute_result"
    }
   ],
   "source": [
    "var1[-6]"
   ]
  },
  {
   "cell_type": "code",
   "execution_count": 155,
   "id": "2d877139-0c4d-4abe-a4b7-bdd2fdfc362b",
   "metadata": {},
   "outputs": [
    {
     "data": {
      "text/plain": [
       "'n'"
      ]
     },
     "execution_count": 155,
     "metadata": {},
     "output_type": "execute_result"
    }
   ],
   "source": [
    "var1[-1]"
   ]
  },
  {
   "cell_type": "code",
   "execution_count": 157,
   "id": "e24bde1e-afae-46d8-a7be-64b4ba271411",
   "metadata": {},
   "outputs": [
    {
     "data": {
      "text/plain": [
       "'Pyt'"
      ]
     },
     "execution_count": 157,
     "metadata": {},
     "output_type": "execute_result"
    }
   ],
   "source": [
    "var1[0:3]"
   ]
  },
  {
   "cell_type": "code",
   "execution_count": 159,
   "id": "5393051d-07ba-4235-adec-ef0750de5bdb",
   "metadata": {},
   "outputs": [
    {
     "data": {
      "text/plain": [
       "'Pyt'"
      ]
     },
     "execution_count": 159,
     "metadata": {},
     "output_type": "execute_result"
    }
   ],
   "source": [
    "var1[:-3]"
   ]
  },
  {
   "cell_type": "code",
   "execution_count": 163,
   "id": "76404653-f1e5-42ef-bfa9-573c1c5ce7bc",
   "metadata": {},
   "outputs": [
    {
     "data": {
      "text/plain": [
       "'Python'"
      ]
     },
     "execution_count": 163,
     "metadata": {},
     "output_type": "execute_result"
    }
   ],
   "source": [
    "var1[:2]+var1[-4:]"
   ]
  },
  {
   "cell_type": "raw",
   "id": "fcee18e6-a14d-4fc4-b823-417a1ad6fc14",
   "metadata": {},
   "source": [
    "# Capitalize\n",
    "var1 = 'python'\n",
    "var1.capitalize()"
   ]
  },
  {
   "cell_type": "code",
   "execution_count": 173,
   "id": "d675df8a-e1e8-407b-9764-fc6f6357a7d9",
   "metadata": {},
   "outputs": [
    {
     "name": "stdout",
     "output_type": "stream",
     "text": [
      "Python\n"
     ]
    }
   ],
   "source": [
    "print(var1)"
   ]
  },
  {
   "cell_type": "code",
   "execution_count": 175,
   "id": "8b349e93-5196-4623-aafa-935d45462629",
   "metadata": {},
   "outputs": [
    {
     "data": {
      "text/plain": [
       "'!!Python!!'"
      ]
     },
     "execution_count": 175,
     "metadata": {},
     "output_type": "execute_result"
    }
   ],
   "source": [
    "var1.center(10, '!')"
   ]
  },
  {
   "cell_type": "code",
   "execution_count": 177,
   "id": "82285007-d313-4020-906d-622ddd972c3b",
   "metadata": {},
   "outputs": [
    {
     "data": {
      "text/plain": [
       "'!!!!!!!!!!!!!!!!!!!!!!!!!!!!!!!!!!!!!!!!!!!!!!!Python!!!!!!!!!!!!!!!!!!!!!!!!!!!!!!!!!!!!!!!!!!!!!!!'"
      ]
     },
     "execution_count": 177,
     "metadata": {},
     "output_type": "execute_result"
    }
   ],
   "source": [
    "var1.center(100, '!')"
   ]
  },
  {
   "cell_type": "code",
   "execution_count": 171,
   "id": "ccc45c9b-1332-46ff-b6bc-35a703a430ad",
   "metadata": {},
   "outputs": [
    {
     "data": {
      "text/plain": [
       "'                                               Python                                               '"
      ]
     },
     "execution_count": 171,
     "metadata": {},
     "output_type": "execute_result"
    }
   ],
   "source": [
    "var1.center(100, ' ')"
   ]
  },
  {
   "cell_type": "code",
   "execution_count": 179,
   "id": "c3938edd-567e-4bdd-93f3-5f5e6cc659f9",
   "metadata": {},
   "outputs": [
    {
     "data": {
      "text/plain": [
       "1"
      ]
     },
     "execution_count": 179,
     "metadata": {},
     "output_type": "execute_result"
    }
   ],
   "source": [
    "var1.count('t', 0, len(var1))"
   ]
  },
  {
   "cell_type": "code",
   "execution_count": 181,
   "id": "a4ee6d9b-f8d8-4221-bb5f-194bee5d8a16",
   "metadata": {},
   "outputs": [
    {
     "data": {
      "text/plain": [
       "True"
      ]
     },
     "execution_count": 181,
     "metadata": {},
     "output_type": "execute_result"
    }
   ],
   "source": [
    "var1 = \"hello world\"\n",
    "var1.endswith(\"world\")"
   ]
  },
  {
   "cell_type": "code",
   "execution_count": 183,
   "id": "6a92ab2f-25b6-417b-ba10-ff1e87145d44",
   "metadata": {},
   "outputs": [
    {
     "data": {
      "text/plain": [
       "2"
      ]
     },
     "execution_count": 183,
     "metadata": {},
     "output_type": "execute_result"
    }
   ],
   "source": [
    "var2 = \"This is a test string\"\n",
    "var2.find(\"is\")"
   ]
  },
  {
   "cell_type": "code",
   "execution_count": 195,
   "id": "2b47ffad-00ca-4263-9e27-e116054a274d",
   "metadata": {},
   "outputs": [
    {
     "data": {
      "text/plain": [
       "3"
      ]
     },
     "execution_count": 195,
     "metadata": {},
     "output_type": "execute_result"
    }
   ],
   "source": [
    "var2.find(\"s\")"
   ]
  },
  {
   "cell_type": "code",
   "execution_count": 197,
   "id": "46975672-a1c7-4436-a405-550240927548",
   "metadata": {},
   "outputs": [
    {
     "ename": "ValueError",
     "evalue": "substring not found",
     "output_type": "error",
     "traceback": [
      "\u001b[0;31m---------------------------------------------------------------------------\u001b[0m",
      "\u001b[0;31mValueError\u001b[0m                                Traceback (most recent call last)",
      "Cell \u001b[0;32mIn[197], line 1\u001b[0m\n\u001b[0;32m----> 1\u001b[0m var2\u001b[38;5;241m.\u001b[39mindex(\u001b[38;5;124m\"\u001b[39m\u001b[38;5;124mz\u001b[39m\u001b[38;5;124m\"\u001b[39m)\n",
      "\u001b[0;31mValueError\u001b[0m: substring not found"
     ]
    }
   ],
   "source": [
    "var2.index(\"z\")"
   ]
  },
  {
   "cell_type": "code",
   "execution_count": 199,
   "id": "8484b87d-a0c5-4da8-8f7f-a0326b9e2bde",
   "metadata": {},
   "outputs": [
    {
     "data": {
      "text/plain": [
       "-1"
      ]
     },
     "execution_count": 199,
     "metadata": {},
     "output_type": "execute_result"
    }
   ],
   "source": [
    "var2.find(\"z\")"
   ]
  },
  {
   "cell_type": "code",
   "execution_count": 209,
   "id": "8eeebf50-2e7e-4a51-b652-bb26ebf81e94",
   "metadata": {},
   "outputs": [
    {
     "data": {
      "text/plain": [
       "True"
      ]
     },
     "execution_count": 209,
     "metadata": {},
     "output_type": "execute_result"
    }
   ],
   "source": [
    "var3 = '202020'\n",
    "var3.isalnum()"
   ]
  },
  {
   "cell_type": "code",
   "execution_count": 213,
   "id": "fa67aa23-665d-48c2-aee2-f7cd6619fe1a",
   "metadata": {},
   "outputs": [
    {
     "data": {
      "text/plain": [
       "False"
      ]
     },
     "execution_count": 213,
     "metadata": {},
     "output_type": "execute_result"
    }
   ],
   "source": [
    "var3 = '!!!!'\n",
    "var3.isalnum()"
   ]
  },
  {
   "cell_type": "code",
   "execution_count": 221,
   "id": "64edd225-83cd-4e2e-9e02-e0f4dfa747fe",
   "metadata": {},
   "outputs": [
    {
     "data": {
      "text/plain": [
       "'python'"
      ]
     },
     "execution_count": 221,
     "metadata": {},
     "output_type": "execute_result"
    }
   ],
   "source": [
    "var1 = ''\n",
    "var2 = ['p','y','t','h','o','n']\n",
    "var1.join(var2)"
   ]
  },
  {
   "cell_type": "code",
   "execution_count": 223,
   "id": "d8f54cea-07bc-42f7-b635-f56107f6ab30",
   "metadata": {},
   "outputs": [
    {
     "data": {
      "text/plain": [
       "'python'"
      ]
     },
     "execution_count": 223,
     "metadata": {},
     "output_type": "execute_result"
    }
   ],
   "source": [
    "var = ',,,,,,,python'\n",
    "var.lstrip(',')"
   ]
  },
  {
   "cell_type": "code",
   "execution_count": 225,
   "id": "8c4b4bf4-05e1-4856-83b0-056e8413cad7",
   "metadata": {},
   "outputs": [
    {
     "data": {
      "text/plain": [
       "'y'"
      ]
     },
     "execution_count": 225,
     "metadata": {},
     "output_type": "execute_result"
    }
   ],
   "source": [
    "var = 'python'\n",
    "max(var)"
   ]
  },
  {
   "cell_type": "code",
   "execution_count": 227,
   "id": "b9fbb8a0-6651-4543-b853-265b40d6352b",
   "metadata": {},
   "outputs": [
    {
     "data": {
      "text/plain": [
       "'Thwas was python'"
      ]
     },
     "execution_count": 227,
     "metadata": {},
     "output_type": "execute_result"
    }
   ],
   "source": [
    "var = 'This is python'\n",
    "var.replace('is','was')"
   ]
  },
  {
   "cell_type": "code",
   "execution_count": 229,
   "id": "91a2d48d-7931-4366-b361-362c36074416",
   "metadata": {},
   "outputs": [
    {
     "data": {
      "text/plain": [
       "'$$$$$$$$$$$$$$$$$$$$$$$$$$$$$$$$$$$$$$$$$$$$$$$$$$$$$$$$$$$$$$$$$$$$$$$$$$$$$$$$$$$$$$$$$$$$$$python'"
      ]
     },
     "execution_count": 229,
     "metadata": {},
     "output_type": "execute_result"
    }
   ],
   "source": [
    "var = 'python'\n",
    "var.rjust(100,'$')"
   ]
  },
  {
   "cell_type": "code",
   "execution_count": 239,
   "id": "1841ae25-c8c6-4c0f-b518-a86cb2a0671a",
   "metadata": {},
   "outputs": [
    {
     "data": {
      "text/plain": [
       "['This', 'is', 'the', 'best', 'day', 'of', 'my', 'life']"
      ]
     },
     "execution_count": 239,
     "metadata": {},
     "output_type": "execute_result"
    }
   ],
   "source": [
    "var = 'This is the best day of my life'\n",
    "var.split(' ')"
   ]
  },
  {
   "cell_type": "code",
   "execution_count": 243,
   "id": "39768c02-421e-4f38-a361-87e8262457a9",
   "metadata": {},
   "outputs": [
    {
     "name": "stdout",
     "output_type": "stream",
     "text": [
      "%s World. %s %d %d %f\n"
     ]
    }
   ],
   "source": [
    "text = '%s World. %s %d %d %f'\n",
    "print(text)"
   ]
  },
  {
   "cell_type": "code",
   "execution_count": 245,
   "id": "ba781696-eb5f-4efb-9823-21c6caec5ef0",
   "metadata": {},
   "outputs": [
    {
     "data": {
      "text/plain": [
       "'Hello World. Check 1 2 3.000000'"
      ]
     },
     "execution_count": 245,
     "metadata": {},
     "output_type": "execute_result"
    }
   ],
   "source": [
    "text %('Hello', 'Check',1,2,3)"
   ]
  },
  {
   "cell_type": "code",
   "execution_count": 267,
   "id": "781e9ab5-9432-4b4c-bfa0-35b8b780209d",
   "metadata": {},
   "outputs": [
    {
     "name": "stdout",
     "output_type": "stream",
     "text": [
      "{} World. {} {} {} {:.2f}\n"
     ]
    }
   ],
   "source": [
    "text = '{} World. {} {} {} {:.2f}'\n",
    "print(text)"
   ]
  },
  {
   "cell_type": "code",
   "execution_count": 269,
   "id": "0f01145f-ff1a-43ea-a2dc-2694b5fe4d17",
   "metadata": {},
   "outputs": [
    {
     "data": {
      "text/plain": [
       "'Hello World. check 1 2 3.00'"
      ]
     },
     "execution_count": 269,
     "metadata": {},
     "output_type": "execute_result"
    }
   ],
   "source": [
    "text.format('Hello', 'check', 1, 2, 3)"
   ]
  },
  {
   "cell_type": "code",
   "execution_count": 271,
   "id": "51d8e733-5afc-46ba-8c61-3cde4c95224a",
   "metadata": {},
   "outputs": [
    {
     "name": "stdout",
     "output_type": "stream",
     "text": [
      "Total CO2 emissions: 115.5 kg\n"
     ]
    }
   ],
   "source": [
    "# Numeric Types, Applied Example\n",
    "\n",
    "# Fuel consumption in liters\n",
    "fuel_consumption = 50\n",
    "emission_factor = 2.31\n",
    "co2_emissions = fuel_consumption * emission_factor\n",
    "print(\"Total CO2 emissions:\", co2_emissions, \"kg\")"
   ]
  },
  {
   "cell_type": "code",
   "execution_count": 275,
   "id": "b53cc3bb-4493-411c-9832-9f7869e00d33",
   "metadata": {},
   "outputs": [
    {
     "name": "stdout",
     "output_type": "stream",
     "text": [
      "Total area of parks: 11800 square meters\n"
     ]
    }
   ],
   "source": [
    "# Arithmetic operators\n",
    "# Dimensions of parks in meters (length, width)\n",
    "park1 = (50, 80)\n",
    "park2 = (60, 70)\n",
    "park3 = (40, 90)\n",
    "\n",
    "# Calculate areas\n",
    "area1 = park1[0] * park1[1]\n",
    "area2 = park2[0] * park2[1]\n",
    "area3 = park3[0] * park3[1]\n",
    "\n",
    "# Total Area\n",
    "total_area = area1 + area2 + area3\n",
    "print(\"Total area of parks:\", total_area, \"square meters\")"
   ]
  },
  {
   "cell_type": "code",
   "execution_count": 289,
   "id": "9038c352-3793-4bc8-a096-6f83527aeb01",
   "metadata": {},
   "outputs": [
    {
     "name": "stdout",
     "output_type": "stream",
     "text": [
      "Is heavy traffic: True\n",
      "Green light duration: 60 seconds\n"
     ]
    }
   ],
   "source": [
    "# Relational operators\n",
    "# Traffic volume data (vehicles per hour)\n",
    "traffic_volume = 1200\n",
    "\n",
    "# Threshold for heavy traffic\n",
    "threshhold = 1000\n",
    "\n",
    "# Evaluate traffic volume\n",
    "is_heavy_traffic = traffic_volume > threshhold\n",
    "print(\"Is heavy traffic:\", is_heavy_traffic)\n",
    "\n",
    "# Update traffic signal timings if heavy traffic\n",
    "if is_heavy_traffic:\n",
    "    green_light_duration = 60  # seconds\n",
    "else:\n",
    "    green_light_duration = 30  # seconds\n",
    "print(\"Green light duration:\", green_light_duration, \"seconds\")"
   ]
  },
  {
   "cell_type": "code",
   "execution_count": 293,
   "id": "da7a418c-967c-4c9e-8ab0-5f5c239bf346",
   "metadata": {},
   "outputs": [
    {
     "name": "stdout",
     "output_type": "stream",
     "text": [
      "Change traffic light: True\n"
     ]
    }
   ],
   "source": [
    "# Logical operators examples\n",
    "# Monitoring Urban Traffic Signals\n",
    "# Sensor status (True: active, False: inactive)\n",
    "sensor1 = True\n",
    "sensor2 = False\n",
    "sensor3 = True\n",
    "\n",
    "# Determine if the traffic light should change\n",
    "if sensor1 and sensor3:\n",
    "    change_light = True\n",
    "else:\n",
    "    change_light = False\n",
    "print(\"Change traffic light:\", change_light)"
   ]
  },
  {
   "cell_type": "code",
   "execution_count": 320,
   "id": "66678286-6f2f-4c49-8d56-39e9fd5dc9b5",
   "metadata": {},
   "outputs": [
    {
     "name": "stdout",
     "output_type": "stream",
     "text": [
      "Access granted\n"
     ]
    }
   ],
   "source": [
    "# Membership operators example\n",
    "# List of authorized users\n",
    "authorized_users = ['andrew', 'jane', 'baxter']\n",
    "person = 'andrew'\n",
    "\n",
    "if person in authorized_users :\n",
    "    print(\"Access granted\")\n",
    "else:\n",
    "    print(\"Access denied\")\n"
   ]
  },
  {
   "cell_type": "code",
   "execution_count": 326,
   "id": "e27bfbd6-ed29-4e00-b9b7-660553c94d22",
   "metadata": {},
   "outputs": [
    {
     "name": "stdout",
     "output_type": "stream",
     "text": [
      "True\n",
      "False\n",
      "True\n"
     ]
    }
   ],
   "source": [
    "# Identity operators example\n",
    "x = [\"apple\", \"banana\", \"watermelon\"]\n",
    "y = [\"apple\", \"banana\", \"watermelon\"]\n",
    "z = x\n",
    "\n",
    "print(x is z)\n",
    "print(x is y)\n",
    "print(x == y)"
   ]
  },
  {
   "cell_type": "code",
   "execution_count": 328,
   "id": "d558e536-2969-4113-92f4-144d7dc8d2cd",
   "metadata": {},
   "outputs": [],
   "source": [
    "# Control Flow\n",
    "# Conditional statements (if, else, elif) \n",
    "# Loops (for, while) "
   ]
  },
  {
   "cell_type": "code",
   "execution_count": 330,
   "id": "e786aa71-c471-415f-ae68-13801eb4af7d",
   "metadata": {},
   "outputs": [
    {
     "name": "stdout",
     "output_type": "stream",
     "text": [
      "x is positive\n"
     ]
    }
   ],
   "source": [
    "# Conditional statements: \n",
    "x = 10\n",
    "\n",
    "if x > 0:\n",
    "    print(\"x is positive\")\n",
    "elif x == 0:\n",
    "    print(\"x is zero\")\n",
    "else:\n",
    "    print(\"x is negative\")"
   ]
  },
  {
   "cell_type": "code",
   "execution_count": 332,
   "id": "7f170a2d-bc90-429a-bfcb-7c159b79af69",
   "metadata": {},
   "outputs": [
    {
     "name": "stdout",
     "output_type": "stream",
     "text": [
      "0\n",
      "1\n",
      "2\n",
      "3\n",
      "4\n"
     ]
    }
   ],
   "source": [
    "# Two types of Loops\n",
    "# (1) For loops: \n",
    "for i in range(5):\n",
    "    print(i)"
   ]
  },
  {
   "cell_type": "code",
   "execution_count": 346,
   "id": "7c2ff9e8-4c2e-4b2e-acbc-4168a328b03e",
   "metadata": {},
   "outputs": [
    {
     "name": "stdout",
     "output_type": "stream",
     "text": [
      "0\n",
      "1\n",
      "2\n",
      "3\n",
      "4\n"
     ]
    }
   ],
   "source": [
    "# (2) While loops: \n",
    "count = 0\n",
    "while count < 5:\n",
    "    print(count)\n",
    "    count += 1\n",
    "\n"
   ]
  },
  {
   "cell_type": "code",
   "execution_count": 352,
   "id": "31807cd0-fc86-44b7-952b-ca747e539199",
   "metadata": {},
   "outputs": [
    {
     "name": "stdout",
     "output_type": "stream",
     "text": [
      "Peak hour: 110 pedestrians\n",
      "High pedestrian traffic at hour 7 with 75 pedestrians\n",
      "High pedestrian traffic at hour 8 with 90 pedestrians\n",
      "High pedestrian traffic at hour 9 with 110 pedestrians\n",
      "High pedestrian traffic at hour 10 with 100 pedestrians\n",
      "High pedestrian traffic at hour 11 with 80 pedestrians\n"
     ]
    }
   ],
   "source": [
    "# Pedestrian counts for each hour\n",
    "pedestrian_counts = [15, 30, 45, 60, 20, 25, 50, 75, 90, 110, 100, 80, 55, 40, 30, 20, 10]\n",
    "\n",
    "# Identify peak hour\n",
    "peak_count = max(pedestrian_counts)\n",
    "print(\"Peak hour:\", peak_count, \"pedestrians\")\n",
    "\n",
    "# Monitor pedestrian traffic and identify peak times\n",
    "for hour, count in enumerate(pedestrian_counts):\n",
    "    if count > 70:\n",
    "        print(f\"High pedestrian traffic at hour {hour} with {count} pedestrians\")\n",
    "\n",
    "\n",
    "\n"
   ]
  },
  {
   "cell_type": "code",
   "execution_count": 360,
   "id": "8e8e52b0-205a-4cef-9e85-d76a1c88cadb",
   "metadata": {},
   "outputs": [
    {
     "name": "stdout",
     "output_type": "stream",
     "text": [
      "Peak hour: 110 pedestrians\n",
      "Pedestrian traffic is under control\n",
      "Pedestrian traffic is under control\n",
      "Pedestrian traffic is under control\n",
      "Pedestrian traffic is under control\n",
      "Pedestrian traffic is under control\n",
      "Pedestrian traffic is under control\n",
      "Pedestrian traffic is under control\n",
      "Pedestrian traffic is under control\n",
      "Pedestrian traffic is under control\n",
      "High pedestrian traffic at hour 9 with 110 pedestrians\n",
      "Pedestrian traffic is under control\n",
      "Pedestrian traffic is under control\n",
      "Pedestrian traffic is under control\n",
      "Pedestrian traffic is under control\n",
      "Pedestrian traffic is under control\n",
      "Pedestrian traffic is under control\n",
      "Pedestrian traffic is under control\n"
     ]
    }
   ],
   "source": [
    "# Pedestrian counts for each hour\n",
    "pedestrian_counts = [15, 30, 45, 60, 20, 25, 50, 75, 90, 110, 100, 80, 55, 40, 30, 20, 10]\n",
    "\n",
    "# Identify peak hour\n",
    "peak_count = max(pedestrian_counts)\n",
    "print(\"Peak hour:\", peak_count, \"pedestrians\")\n",
    "\n",
    "# Monitor pedestrian traffic and identify peak times\n",
    "for hour, count in enumerate(pedestrian_counts): \n",
    "    if count > 100:\n",
    "        print(f\"High pedestrian traffic at hour {hour} with {count} pedestrians\")\n",
    "    else:\n",
    "        print(\"Pedestrian traffic is under control\")\n",
    "\n"
   ]
  },
  {
   "cell_type": "code",
   "execution_count": null,
   "id": "fb8b44c1-9f3b-40d5-8373-87ac2fc6d00d",
   "metadata": {},
   "outputs": [],
   "source": [
    "# Exercise 4: Count Vowels in a String\n",
    "# Write a Python program to count the number of vowels in a given string.\n",
    "\n",
    "# Hint: Use a loop to iterate through the string and a condition to check for vowels.\n",
    "\n",
    "# Input string\n",
    "text = \"Urban Computing and Data Science\"\n",
    "\n",
    "# List of vowels\n",
    "vowels = \"aeiouAEIOU\"\n",
    "\n",
    "# Initialize count\n",
    "vowel_count = 0\n",
    "\n",
    "# Interate through each character in the string\n",
    "for char in text:\n",
    "  if char in vowels:\n",
    "    vowel_count += 1\n",
    "\n",
    "# Print the result\n",
    "print(\"Number of vowerls in a give string:\", vowel_count)\n"
   ]
  },
  {
   "cell_type": "code",
   "execution_count": 372,
   "id": "d4fa013b-9b86-42a6-b721-60a9b42b1a90",
   "metadata": {},
   "outputs": [
    {
     "data": {
      "text/plain": [
       "3"
      ]
     },
     "execution_count": 372,
     "metadata": {},
     "output_type": "execute_result"
    }
   ],
   "source": [
    "# Exercise 4: Count Vowels in a String\n",
    "# Write a Python program to count the number of vowels in a given string.\n",
    "\n",
    "# Hint: Use a loop to iterate through the string and a condition to check for vowels.\n",
    "\n",
    "# Input string\n",
    "text = \"Urban Computing and Data Science\"\n",
    "text.split(' ')"
   ]
  },
  {
   "cell_type": "code",
   "execution_count": 366,
   "id": "3859c7c6-e132-4a14-994a-84a732de376d",
   "metadata": {},
   "outputs": [
    {
     "data": {
      "text/plain": [
       "['{}', 'World.', '{}', '{}', '{}', '{:.2f}']"
      ]
     },
     "execution_count": 366,
     "metadata": {},
     "output_type": "execute_result"
    }
   ],
   "source": []
  },
  {
   "cell_type": "code",
   "execution_count": null,
   "id": "165f3456-5c3d-43d5-a3e6-436852482eed",
   "metadata": {},
   "outputs": [],
   "source": []
  },
  {
   "cell_type": "code",
   "execution_count": null,
   "id": "ea32e871-2882-4a6e-bbdd-f52d7f639a48",
   "metadata": {},
   "outputs": [],
   "source": []
  },
  {
   "cell_type": "code",
   "execution_count": null,
   "id": "1bf1ffee-be6d-4304-8a95-583b5127a035",
   "metadata": {},
   "outputs": [],
   "source": []
  },
  {
   "cell_type": "code",
   "execution_count": null,
   "id": "36e0e08f-d64e-4641-bd71-e38d6e478294",
   "metadata": {},
   "outputs": [],
   "source": []
  }
 ],
 "metadata": {
  "kernelspec": {
   "display_name": "Python 3 (ipykernel)",
   "language": "python",
   "name": "python3"
  },
  "language_info": {
   "codemirror_mode": {
    "name": "ipython",
    "version": 3
   },
   "file_extension": ".py",
   "mimetype": "text/x-python",
   "name": "python",
   "nbconvert_exporter": "python",
   "pygments_lexer": "ipython3",
   "version": "3.12.4"
  }
 },
 "nbformat": 4,
 "nbformat_minor": 5
}
